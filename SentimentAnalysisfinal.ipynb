{
 "cells": [
  {
   "cell_type": "markdown",
   "id": "44c70337",
   "metadata": {
    "id": "44c70337"
   },
   "source": [
    "# 1. Load The Tweets Dataset"
   ]
  },
  {
   "cell_type": "code",
   "execution_count": 258,
   "id": "1c6d6b10",
   "metadata": {
    "id": "1c6d6b10"
   },
   "outputs": [],
   "source": [
    "import pandas as pd\n",
    "pd.set_option(\"display.max_colwidth\", 200)"
   ]
  },
  {
   "cell_type": "code",
   "execution_count": 259,
   "id": "8d002621",
   "metadata": {
    "colab": {
     "base_uri": "https://localhost:8080/",
     "height": 293
    },
    "id": "8d002621",
    "outputId": "2cae481e-180d-484a-d40b-7786ff4a8705"
   },
   "outputs": [
    {
     "data": {
      "text/html": [
       "<div>\n",
       "<style scoped>\n",
       "    .dataframe tbody tr th:only-of-type {\n",
       "        vertical-align: middle;\n",
       "    }\n",
       "\n",
       "    .dataframe tbody tr th {\n",
       "        vertical-align: top;\n",
       "    }\n",
       "\n",
       "    .dataframe thead th {\n",
       "        text-align: right;\n",
       "    }\n",
       "</style>\n",
       "<table border=\"1\" class=\"dataframe\">\n",
       "  <thead>\n",
       "    <tr style=\"text-align: right;\">\n",
       "      <th></th>\n",
       "      <th>id</th>\n",
       "      <th>label</th>\n",
       "      <th>tweet</th>\n",
       "    </tr>\n",
       "  </thead>\n",
       "  <tbody>\n",
       "    <tr>\n",
       "      <th>0</th>\n",
       "      <td>1</td>\n",
       "      <td>0</td>\n",
       "      <td>#fingerprint #Pregnancy Test https://goo.gl/h1MfQV #android #apps #beautiful #cute #health #igers #iphoneonly #iphonesia #iphone</td>\n",
       "    </tr>\n",
       "    <tr>\n",
       "      <th>1</th>\n",
       "      <td>2</td>\n",
       "      <td>0</td>\n",
       "      <td>Finally a transparant silicon case ^^ Thanks to my uncle :) #yay #Sony #Xperia #S #sonyexperias… http://instagram.com/p/YGEt5JC6JM/</td>\n",
       "    </tr>\n",
       "    <tr>\n",
       "      <th>2</th>\n",
       "      <td>3</td>\n",
       "      <td>0</td>\n",
       "      <td>We love this! Would you go? #talk #makememories #unplug #relax #iphone #smartphone #wifi #connect... http://fb.me/6N3LsUpCu</td>\n",
       "    </tr>\n",
       "    <tr>\n",
       "      <th>3</th>\n",
       "      <td>4</td>\n",
       "      <td>0</td>\n",
       "      <td>I'm wired I know I'm George I was made that way ;) #iphone #cute #daventry #home http://instagr.am/p/Li_5_ujS4k/</td>\n",
       "    </tr>\n",
       "    <tr>\n",
       "      <th>4</th>\n",
       "      <td>5</td>\n",
       "      <td>1</td>\n",
       "      <td>What amazing service! Apple won't even talk to me about a question I have unless I pay them $19.95 for their stupid support!</td>\n",
       "    </tr>\n",
       "  </tbody>\n",
       "</table>\n",
       "</div>"
      ],
      "text/plain": [
       "   id  label  \\\n",
       "0   1      0   \n",
       "1   2      0   \n",
       "2   3      0   \n",
       "3   4      0   \n",
       "4   5      1   \n",
       "\n",
       "                                                                                                                                 tweet  \n",
       "0     #fingerprint #Pregnancy Test https://goo.gl/h1MfQV #android #apps #beautiful #cute #health #igers #iphoneonly #iphonesia #iphone  \n",
       "1  Finally a transparant silicon case ^^ Thanks to my uncle :) #yay #Sony #Xperia #S #sonyexperias… http://instagram.com/p/YGEt5JC6JM/  \n",
       "2          We love this! Would you go? #talk #makememories #unplug #relax #iphone #smartphone #wifi #connect... http://fb.me/6N3LsUpCu  \n",
       "3                     I'm wired I know I'm George I was made that way ;) #iphone #cute #daventry #home http://instagr.am/p/Li_5_ujS4k/  \n",
       "4         What amazing service! Apple won't even talk to me about a question I have unless I pay them $19.95 for their stupid support!  "
      ]
     },
     "execution_count": 259,
     "metadata": {},
     "output_type": "execute_result"
    }
   ],
   "source": [
    "data = pd.read_csv('tweets.csv')\n",
    "data.head()"
   ]
  },
  {
   "cell_type": "code",
   "execution_count": 260,
   "id": "377d93bf",
   "metadata": {
    "id": "377d93bf"
   },
   "outputs": [],
   "source": [
    "# 0 refers to positive sentiment, 1 is negative sentiment"
   ]
  },
  {
   "cell_type": "code",
   "execution_count": 261,
   "id": "607aab79",
   "metadata": {
    "colab": {
     "base_uri": "https://localhost:8080/"
    },
    "id": "607aab79",
    "outputId": "8195e61d-c225-4558-ac08-1ee7929c5419"
   },
   "outputs": [
    {
     "name": "stdout",
     "output_type": "stream",
     "text": [
      "<class 'pandas.core.frame.DataFrame'>\n",
      "RangeIndex: 7920 entries, 0 to 7919\n",
      "Data columns (total 3 columns):\n",
      " #   Column  Non-Null Count  Dtype \n",
      "---  ------  --------------  ----- \n",
      " 0   id      7920 non-null   int64 \n",
      " 1   label   7920 non-null   int64 \n",
      " 2   tweet   7920 non-null   object\n",
      "dtypes: int64(2), object(1)\n",
      "memory usage: 185.8+ KB\n"
     ]
    }
   ],
   "source": [
    "data.info()"
   ]
  },
  {
   "cell_type": "code",
   "execution_count": 262,
   "id": "25e83372",
   "metadata": {
    "colab": {
     "base_uri": "https://localhost:8080/"
    },
    "id": "25e83372",
    "outputId": "8b12dccc-4dc9-4eaf-8b96-5cf8925ea2f9"
   },
   "outputs": [
    {
     "data": {
      "text/plain": [
       "id       0\n",
       "label    0\n",
       "tweet    0\n",
       "dtype: int64"
      ]
     },
     "execution_count": 262,
     "metadata": {},
     "output_type": "execute_result"
    }
   ],
   "source": [
    "# check for missing values\n",
    "data.isnull().sum()"
   ]
  },
  {
   "cell_type": "code",
   "execution_count": 263,
   "id": "3a762be5",
   "metadata": {
    "colab": {
     "base_uri": "https://localhost:8080/",
     "height": 275
    },
    "id": "3a762be5",
    "outputId": "442405e2-d69d-47fc-b346-4c0728b00ede"
   },
   "outputs": [
    {
     "data": {
      "text/html": [
       "<div>\n",
       "<style scoped>\n",
       "    .dataframe tbody tr th:only-of-type {\n",
       "        vertical-align: middle;\n",
       "    }\n",
       "\n",
       "    .dataframe tbody tr th {\n",
       "        vertical-align: top;\n",
       "    }\n",
       "\n",
       "    .dataframe thead th {\n",
       "        text-align: right;\n",
       "    }\n",
       "</style>\n",
       "<table border=\"1\" class=\"dataframe\">\n",
       "  <thead>\n",
       "    <tr style=\"text-align: right;\">\n",
       "      <th></th>\n",
       "      <th>label</th>\n",
       "      <th>tweet</th>\n",
       "    </tr>\n",
       "  </thead>\n",
       "  <tbody>\n",
       "    <tr>\n",
       "      <th>0</th>\n",
       "      <td>0</td>\n",
       "      <td>#fingerprint #Pregnancy Test https://goo.gl/h1MfQV #android #apps #beautiful #cute #health #igers #iphoneonly #iphonesia #iphone</td>\n",
       "    </tr>\n",
       "    <tr>\n",
       "      <th>1</th>\n",
       "      <td>0</td>\n",
       "      <td>Finally a transparant silicon case ^^ Thanks to my uncle :) #yay #Sony #Xperia #S #sonyexperias… http://instagram.com/p/YGEt5JC6JM/</td>\n",
       "    </tr>\n",
       "    <tr>\n",
       "      <th>2</th>\n",
       "      <td>0</td>\n",
       "      <td>We love this! Would you go? #talk #makememories #unplug #relax #iphone #smartphone #wifi #connect... http://fb.me/6N3LsUpCu</td>\n",
       "    </tr>\n",
       "    <tr>\n",
       "      <th>3</th>\n",
       "      <td>0</td>\n",
       "      <td>I'm wired I know I'm George I was made that way ;) #iphone #cute #daventry #home http://instagr.am/p/Li_5_ujS4k/</td>\n",
       "    </tr>\n",
       "    <tr>\n",
       "      <th>4</th>\n",
       "      <td>1</td>\n",
       "      <td>What amazing service! Apple won't even talk to me about a question I have unless I pay them $19.95 for their stupid support!</td>\n",
       "    </tr>\n",
       "  </tbody>\n",
       "</table>\n",
       "</div>"
      ],
      "text/plain": [
       "   label  \\\n",
       "0      0   \n",
       "1      0   \n",
       "2      0   \n",
       "3      0   \n",
       "4      1   \n",
       "\n",
       "                                                                                                                                 tweet  \n",
       "0     #fingerprint #Pregnancy Test https://goo.gl/h1MfQV #android #apps #beautiful #cute #health #igers #iphoneonly #iphonesia #iphone  \n",
       "1  Finally a transparant silicon case ^^ Thanks to my uncle :) #yay #Sony #Xperia #S #sonyexperias… http://instagram.com/p/YGEt5JC6JM/  \n",
       "2          We love this! Would you go? #talk #makememories #unplug #relax #iphone #smartphone #wifi #connect... http://fb.me/6N3LsUpCu  \n",
       "3                     I'm wired I know I'm George I was made that way ;) #iphone #cute #daventry #home http://instagr.am/p/Li_5_ujS4k/  \n",
       "4         What amazing service! Apple won't even talk to me about a question I have unless I pay them $19.95 for their stupid support!  "
      ]
     },
     "execution_count": 263,
     "metadata": {},
     "output_type": "execute_result"
    }
   ],
   "source": [
    "# drop the id column\n",
    "data.drop(['id'], axis=1, inplace=True)\n",
    "data.head()"
   ]
  },
  {
   "cell_type": "code",
   "execution_count": 264,
   "id": "5fef08e2",
   "metadata": {
    "colab": {
     "base_uri": "https://localhost:8080/"
    },
    "id": "5fef08e2",
    "outputId": "12fc1c60-0f28-4b15-98eb-33c02f2ecf0f"
   },
   "outputs": [
    {
     "data": {
      "text/plain": [
       "label\n",
       "0    0.744192\n",
       "1    0.255808\n",
       "Name: proportion, dtype: float64"
      ]
     },
     "execution_count": 264,
     "metadata": {},
     "output_type": "execute_result"
    }
   ],
   "source": [
    "# Check for the class balance\n",
    "data['label'].value_counts(normalize=True)"
   ]
  },
  {
   "cell_type": "code",
   "execution_count": 265,
   "id": "da964ccc",
   "metadata": {
    "colab": {
     "base_uri": "https://localhost:8080/",
     "height": 442
    },
    "id": "da964ccc",
    "outputId": "4cbfcf51-864f-472c-9128-dbcf74d0e24b"
   },
   "outputs": [
    {
     "data": {
      "text/plain": [
       "<Axes: xlabel='label'>"
      ]
     },
     "execution_count": 265,
     "metadata": {},
     "output_type": "execute_result"
    },
    {
     "data": {
      "image/png": "[encoded data removed]",
      "text/plain": [
       "<Figure size 640x480 with 1 Axes>"
      ]
     },
     "metadata": {},
     "output_type": "display_data"
    }
   ],
   "source": [
    "# plot the label counts\n",
    "data['label'].value_counts().plot(kind='bar')"
   ]
  },
  {
   "cell_type": "markdown",
   "id": "2ebe7934",
   "metadata": {
    "id": "2ebe7934"
   },
   "source": [
    "# 2. Data Cleaning"
   ]
  },
  {
   "cell_type": "code",
   "execution_count": 266,
   "id": "864cb495",
   "metadata": {
    "colab": {
     "base_uri": "https://localhost:8080/",
     "height": 52
    },
    "id": "864cb495",
    "outputId": "16250cc7-c91a-4854-d7d9-05ac4fec0329"
   },
   "outputs": [
    {
     "data": {
      "text/plain": [
       "\"It's time for new wallpapers #phone #wallpapers #wall #screen #galaxy #samsung #app … https://www.instagram.com/p/BcsKTNNn51c/\""
      ]
     },
     "execution_count": 266,
     "metadata": {},
     "output_type": "execute_result"
    }
   ],
   "source": [
    "data['tweet'][24]"
   ]
  },
  {
   "cell_type": "code",
   "execution_count": 267,
   "id": "29638830",
   "metadata": {
    "id": "29638830"
   },
   "outputs": [],
   "source": [
    "import re"
   ]
  },
  {
   "cell_type": "code",
   "execution_count": 268,
   "id": "e21a6b13",
   "metadata": {
    "colab": {
     "base_uri": "https://localhost:8080/",
     "height": 52
    },
    "id": "e21a6b13",
    "outputId": "6875bcfe-89a6-4079-8eb8-6cae6e2ce277"
   },
   "outputs": [
    {
     "data": {
      "text/plain": [
       "'It is time for new wallpapers #phone #wallpapers #wall #screen #galaxy #samsung #app … https://www.instagram.com/p/BcsKTNNn51c/'"
      ]
     },
     "execution_count": 268,
     "metadata": {},
     "output_type": "execute_result"
    }
   ],
   "source": [
    "# Substitute 's with \" is\"\n",
    "re.sub(r\"'s\\b\", \" is\", data['tweet'][24])"
   ]
  },
  {
   "cell_type": "code",
   "execution_count": 269,
   "id": "cd7dcd23",
   "metadata": {
    "colab": {
     "base_uri": "https://localhost:8080/",
     "height": 52
    },
    "id": "cd7dcd23",
    "outputId": "430868f4-cad0-4f90-fa83-724021f3d7ec"
   },
   "outputs": [
    {
     "data": {
      "text/plain": [
       "'Ha! Not heavy machinery but it does what I need it to. @Apple really dropped the ball with that design. #drinkyourhaterade'"
      ]
     },
     "execution_count": 269,
     "metadata": {},
     "output_type": "execute_result"
    }
   ],
   "source": [
    "# Removing the user mentions\n",
    "data['tweet'][11]"
   ]
  },
  {
   "cell_type": "code",
   "execution_count": 270,
   "id": "6376ce28",
   "metadata": {
    "colab": {
     "base_uri": "https://localhost:8080/",
     "height": 52
    },
    "id": "6376ce28",
    "outputId": "199b021b-38ea-4f78-da60-69f0642dae2f"
   },
   "outputs": [
    {
     "data": {
      "text/plain": [
       "'Ha! Not heavy machinery but it does what I need it to.  really dropped the ball with that design. #drinkyourhaterade'"
      ]
     },
     "execution_count": 270,
     "metadata": {},
     "output_type": "execute_result"
    }
   ],
   "source": [
    "# We'll retain on the alphabets & digits\n",
    "re.sub(\"@[A-Za-z0-9]+\", \"\", data['tweet'][11])"
   ]
  },
  {
   "cell_type": "code",
   "execution_count": 271,
   "id": "dfef97f7",
   "metadata": {
    "colab": {
     "base_uri": "https://localhost:8080/",
     "height": 52
    },
    "id": "dfef97f7",
    "outputId": "39b1ea46-ca84-44ed-feda-79d29b29ed51"
   },
   "outputs": [
    {
     "data": {
      "text/plain": [
       "'#fingerprint #Pregnancy Test https://goo.gl/h1MfQV #android #apps #beautiful #cute #health #igers #iphoneonly #iphonesia #iphone'"
      ]
     },
     "execution_count": 271,
     "metadata": {},
     "output_type": "execute_result"
    }
   ],
   "source": [
    "# remove the hashtags\n",
    "data['tweet'][0]"
   ]
  },
  {
   "cell_type": "code",
   "execution_count": 272,
   "id": "414a68ed",
   "metadata": {
    "colab": {
     "base_uri": "https://localhost:8080/",
     "height": 52
    },
    "id": "414a68ed",
    "outputId": "2fb9ebce-1511-4922-deaf-3d6bab6814c8"
   },
   "outputs": [
    {
     "data": {
      "text/plain": [
       "'fingerprint Pregnancy Test https://goo.gl/h1MfQV android apps beautiful cute health igers iphoneonly iphonesia iphone'"
      ]
     },
     "execution_count": 272,
     "metadata": {},
     "output_type": "execute_result"
    }
   ],
   "source": [
    "re.sub(\"#\", \"\", data['tweet'][0])"
   ]
  },
  {
   "cell_type": "code",
   "execution_count": 273,
   "id": "d228f1a8",
   "metadata": {
    "colab": {
     "base_uri": "https://localhost:8080/",
     "height": 52
    },
    "id": "d228f1a8",
    "outputId": "6a87c7d2-bd68-4110-8b11-90e91309e473"
   },
   "outputs": [
    {
     "data": {
      "text/plain": [
       "'#fingerprint #Pregnancy Test  #android #apps #beautiful #cute #health #igers #iphoneonly #iphonesia #iphone'"
      ]
     },
     "execution_count": 273,
     "metadata": {},
     "output_type": "execute_result"
    }
   ],
   "source": [
    "# Removing the hyperlinks\n",
    "re.sub(r\"http\\S+\", \"\", data['tweet'][0])"
   ]
  },
  {
   "cell_type": "code",
   "execution_count": 274,
   "id": "6db434b8",
   "metadata": {
    "colab": {
     "base_uri": "https://localhost:8080/",
     "height": 52
    },
    "id": "6db434b8",
    "outputId": "e66aebcc-2fa9-450d-fe8c-dc7dcb84291f"
   },
   "outputs": [
    {
     "data": {
      "text/plain": [
       "'1.05 billion for 3 patents where there is prior art = 300 millions each = patent trolls are partying now thanks to Apple #apple'"
      ]
     },
     "execution_count": 274,
     "metadata": {},
     "output_type": "execute_result"
    }
   ],
   "source": [
    "# Retain on the alphabets (get rid of punctuations, special char, digits)\n",
    "data['tweet'][25]"
   ]
  },
  {
   "cell_type": "code",
   "execution_count": 275,
   "id": "39aba7ae",
   "metadata": {
    "colab": {
     "base_uri": "https://localhost:8080/",
     "height": 52
    },
    "id": "39aba7ae",
    "outputId": "2d7eb2b0-17c6-4f77-a248-dfe1a4473a21"
   },
   "outputs": [
    {
     "data": {
      "text/plain": [
       "' fingerprint  Pregnancy Test https   goo gl h MfQV  android  apps  beautiful  cute  health  igers  iphoneonly  iphonesia  iphone'"
      ]
     },
     "execution_count": 275,
     "metadata": {},
     "output_type": "execute_result"
    }
   ],
   "source": [
    "re.sub(r\"[^a-zA-Z]\", \" \", data['tweet'][0])"
   ]
  },
  {
   "cell_type": "code",
   "execution_count": 276,
   "id": "64848c44",
   "metadata": {
    "colab": {
     "base_uri": "https://localhost:8080/"
    },
    "id": "64848c44",
    "outputId": "947f1b32-2ce7-4843-e753-7ce5429ac51a"
   },
   "outputs": [
    {
     "name": "stderr",
     "output_type": "stream",
     "text": [
      "[nltk_data] Downloading package stopwords to\n",
      "[nltk_data]     C:\\Users\\KIIT\\AppData\\Roaming\\nltk_data...\n",
      "[nltk_data]   Package stopwords is already up-to-date!\n"
     ]
    }
   ],
   "source": [
    "# Stop words Removal\n",
    "import nltk\n",
    "nltk.download('stopwords')\n",
    "from nltk.corpus import stopwords"
   ]
  },
  {
   "cell_type": "code",
   "execution_count": 277,
   "id": "e791f4e7",
   "metadata": {
    "colab": {
     "base_uri": "https://localhost:8080/"
    },
    "id": "e791f4e7",
    "outputId": "6e5381c1-ca5a-4cc9-b2fe-d0be3e7270f2"
   },
   "outputs": [
    {
     "name": "stdout",
     "output_type": "stream",
     "text": [
      "{'she', 'weren', 've', 'wouldn', 'of', \"haven't\", 'i', 'then', 'itself', 'before', 'because', 'nor', \"doesn't\", 'while', 'didn', \"wouldn't\", 's', \"shan't\", 'further', 'too', 'so', 'herself', 'who', 'shouldn', 'but', 'was', 'mightn', 'been', \"won't\", 'against', 'yours', 'there', 'its', \"weren't\", 'or', 'd', 'll', 'were', 'if', 'mustn', 'until', 'should', 'will', 'most', 'into', 'both', 'some', 'won', 'isn', 'his', 'what', 'down', \"hadn't\", 'myself', 'only', 'out', 'does', 'by', 'did', 'through', 'over', 'had', 'needn', 'where', 'being', 'at', \"you'll\", 'them', 'himself', 'up', 'him', 'those', 'very', \"shouldn't\", 't', 'each', 'having', 'can', 'how', \"she's\", 'it', \"wasn't\", 'doing', 'haven', 'has', \"couldn't\", 'he', 'on', \"you've\", 'between', 'theirs', 'once', 'and', 'am', 'your', 'me', 'y', 'hasn', \"hasn't\", 'you', 'such', 'more', 'yourself', 'this', \"should've\", \"don't\", 'which', 'whom', 'have', 'with', 'above', 'that', 'all', 'to', 'ma', 'under', \"mustn't\", \"you're\", 'they', 'below', 'ain', 'o', \"needn't\", 'are', 'own', 'from', \"didn't\", 'these', 'same', 'hadn', 'be', 'ours', \"aren't\", 'any', 'yourselves', 'about', 'don', \"that'll\", 'here', \"it's\", 'as', 'just', 'is', 'the', 're', 'themselves', 'shan', 'an', 'after', 'again', 'wasn', 'off', 'aren', 'ourselves', 'in', 'few', 'my', 'other', 'during', 'than', \"mightn't\", 'their', 'for', \"you'd\", 'couldn', 'now', 'not', 'a', \"isn't\", 'hers', 'no', 'we', 'doesn', 'm', 'why', 'our', 'do', 'her', 'when'}\n"
     ]
    }
   ],
   "source": [
    "nltk_stopwords = set(stopwords.words('english'))\n",
    "print(nltk_stopwords)"
   ]
  },
  {
   "cell_type": "code",
   "execution_count": 278,
   "id": "f4ae7f75",
   "metadata": {
    "colab": {
     "base_uri": "https://localhost:8080/"
    },
    "id": "f4ae7f75",
    "outputId": "71391091-c24b-40c4-becb-c7fae9951b46"
   },
   "outputs": [
    {
     "data": {
      "text/plain": [
       "179"
      ]
     },
     "execution_count": 278,
     "metadata": {},
     "output_type": "execute_result"
    }
   ],
   "source": [
    "len(nltk_stopwords)"
   ]
  },
  {
   "cell_type": "code",
   "execution_count": 279,
   "id": "3a8095da",
   "metadata": {
    "colab": {
     "base_uri": "https://localhost:8080/"
    },
    "id": "3a8095da",
    "outputId": "32093c53-2670-41df-c8cc-2c36119e73f1"
   },
   "outputs": [
    {
     "name": "stdout",
     "output_type": "stream",
     "text": [
      "{'couldnt', 'detail', 'even', 'formerly', 'moreover', 'whether', 'bottom', 'whose', 'before', 'beforehand', 'somewhere', 'whatever', 'everyone', 'without', 'too', 'may', 'yet', 'would', 'became', 'but', 'found', 'system', 'been', 'yours', 'therefore', 'its', 'someone', 'back', 'among', 'therein', 'put', 'thru', 'were', 'toward', 'until', 'should', 'will', 'get', 'another', 'both', 'into', 'hereby', 'elsewhere', 'per', 'his', 'anyway', 'fill', 'what', 'much', 'whereby', 'thick', 'only', 'forty', 'out', 'by', 'interest', 'front', 'others', 'bill', 'over', 'had', 'whoever', 'where', 'thereby', 'thus', 'up', 'those', 'sometimes', 'sometime', 'several', 'amongst', 'seeming', 'less', 'always', 'namely', 'can', 'else', 'how', 'full', 'he', 'between', 'once', 'herein', 'am', 'serious', 'me', 'must', 'one', 'done', 'take', 'mill', 'four', 'more', 'anything', 'which', 'have', 'with', 'whither', 'none', 'also', 'all', 'that', 'see', 'above', 'almost', 'thence', 'latterly', 'move', 'across', 'wherever', 'under', 'seem', 'cant', 'seems', 'everything', 'eleven', 'least', 'below', 'never', 'own', 'from', 'noone', 'although', 'these', 'hence', 'since', 'becoming', 'mostly', 'hasnt', 'empty', 'be', 'ours', 'yourselves', 'ie', 'either', 'here', 'nine', 'as', 'is', 'latter', 'fire', 'ten', 'themselves', 'an', 'again', 'amount', 'show', 'anywhere', 'mine', 'off', 'already', 'nevertheless', 'ourselves', 'meanwhile', 'nobody', 'my', 'thereupon', 'during', 'cannot', 'thereafter', 'co', 'now', 'ltd', 'a', 'no', 'hers', 'we', 'why', 'our', 'do', 'enough', 'anyone', 'otherwise', 'behind', 'she', 'side', 'whole', 'describe', 'two', 'inc', 'of', 'afterwards', 'i', 'beside', 'then', 'three', 'itself', 'because', 'becomes', 'nor', 'however', 'while', 'something', 'further', 'next', 'so', 'eg', 'who', 'herself', 'many', 'whence', 'was', 'nowhere', 'whereupon', 'keep', 'against', 'there', 'go', 'six', 'together', 'well', 'or', 'rather', 'if', 'thin', 'wherein', 'most', 'made', 'some', 'onto', 'indeed', 'seemed', 'along', 'hereupon', 'down', 'myself', 'top', 'last', 'except', 'through', 'call', 'twenty', 'hereafter', 'being', 'at', 'them', 'himself', 'hundred', 'him', 'very', 'via', 'within', 'each', 'perhaps', 'upon', 'give', 'often', 'it', 'has', 'name', 'on', 'and', 'towards', 'your', 'third', 'besides', 'become', 'eight', 'around', 'ever', 'somehow', 'you', 'such', 'beyond', 'amoungst', 'nothing', 'yourself', 'this', 'un', 'alone', 'whom', 'throughout', 'whereas', 'first', 'etc', 'whenever', 'to', 'former', 'de', 'they', 'are', 'same', 'could', 'everywhere', 'any', 'about', 'anyhow', 'the', 're', 'whereafter', 'after', 'part', 'sixty', 'every', 'in', 'us', 'fifteen', 'fifty', 'few', 'due', 'other', 'than', 'con', 'their', 'for', 'might', 'not', 'please', 'twelve', 'cry', 'though', 'five', 'still', 'neither', 'find', 'her', 'when', 'sincere'}\n"
     ]
    }
   ],
   "source": [
    "from sklearn.feature_extraction.text import ENGLISH_STOP_WORDS\n",
    "sklearn_stopwords = set(ENGLISH_STOP_WORDS)\n",
    "print(sklearn_stopwords)"
   ]
  },
  {
   "cell_type": "code",
   "execution_count": 280,
   "id": "cf4e095c",
   "metadata": {
    "colab": {
     "base_uri": "https://localhost:8080/"
    },
    "id": "cf4e095c",
    "outputId": "f79b665c-1f09-4a2a-ee2b-7bb1c29a1a00"
   },
   "outputs": [
    {
     "data": {
      "text/plain": [
       "318"
      ]
     },
     "execution_count": 280,
     "metadata": {},
     "output_type": "execute_result"
    }
   ],
   "source": [
    "len(sklearn_stopwords)"
   ]
  },
  {
   "cell_type": "code",
   "execution_count": 281,
   "id": "c0b37185",
   "metadata": {
    "colab": {
     "base_uri": "https://localhost:8080/"
    },
    "id": "c0b37185",
    "outputId": "d9b7ee6a-1e5b-482b-d94b-75b3d9d54564"
   },
   "outputs": [
    {
     "name": "stdout",
     "output_type": "stream",
     "text": [
      "{'she', 'of', 'i', 'then', 'itself', 'before', 'because', 'nor', 'while', 'further', 'too', 'so', 'herself', 'who', 'but', 'was', 'been', 'against', 'yours', 'there', 'its', 'or', 'were', 'if', 'until', 'should', 'will', 'most', 'into', 'both', 'some', 'his', 'what', 'down', 'myself', 'only', 'out', 'by', 'through', 'over', 'had', 'where', 'being', 'at', 'them', 'himself', 'up', 'him', 'those', 'very', 'each', 'can', 'how', 'it', 'has', 'he', 'on', 'between', 'once', 'and', 'am', 'your', 'me', 'you', 'such', 'more', 'yourself', 'this', 'which', 'whom', 'have', 'with', 'above', 'that', 'all', 'to', 'under', 'they', 'below', 'are', 'own', 'from', 'these', 'same', 'be', 'ours', 'any', 'yourselves', 'about', 'here', 'as', 'is', 'the', 're', 'themselves', 'an', 'after', 'again', 'off', 'ourselves', 'in', 'few', 'my', 'other', 'during', 'than', 'their', 'for', 'now', 'not', 'a', 'hers', 'no', 'we', 'why', 'our', 'do', 'her', 'when'}\n"
     ]
    }
   ],
   "source": [
    "# Find the common stopwords from NLTK & sklearn\n",
    "print(nltk_stopwords.intersection(sklearn_stopwords))"
   ]
  },
  {
   "cell_type": "code",
   "execution_count": 282,
   "id": "f46b31b6",
   "metadata": {
    "colab": {
     "base_uri": "https://localhost:8080/"
    },
    "id": "f46b31b6",
    "outputId": "515987d4-c67b-4919-8cbb-70e3e57d6759"
   },
   "outputs": [
    {
     "data": {
      "text/plain": [
       "119"
      ]
     },
     "execution_count": 282,
     "metadata": {},
     "output_type": "execute_result"
    }
   ],
   "source": [
    "len(nltk_stopwords.intersection(sklearn_stopwords))"
   ]
  },
  {
   "cell_type": "code",
   "execution_count": 283,
   "id": "4d244574",
   "metadata": {
    "id": "4d244574"
   },
   "outputs": [],
   "source": [
    "# Combining the stopwords from sklearn & NLTK\n",
    "combined_stopwords = nltk_stopwords.union(sklearn_stopwords)"
   ]
  },
  {
   "cell_type": "code",
   "execution_count": 284,
   "id": "7c5cab13",
   "metadata": {
    "colab": {
     "base_uri": "https://localhost:8080/"
    },
    "id": "7c5cab13",
    "outputId": "7d675e6e-e7f0-4e8f-9450-ac4e0a7cf165"
   },
   "outputs": [
    {
     "data": {
      "text/plain": [
       "378"
      ]
     },
     "execution_count": 284,
     "metadata": {},
     "output_type": "execute_result"
    }
   ],
   "source": [
    "len(combined_stopwords)"
   ]
  },
  {
   "cell_type": "code",
   "execution_count": 285,
   "id": "1434274a",
   "metadata": {
    "id": "1434274a"
   },
   "outputs": [],
   "source": [
    "# Text Normalization: Stemming or Lemmatization (prefer)\n",
    "from nltk.stem import WordNetLemmatizer\n",
    "lemmatizer = WordNetLemmatizer()"
   ]
  },
  {
   "cell_type": "code",
   "execution_count": 286,
   "id": "adf51cf7",
   "metadata": {
    "colab": {
     "base_uri": "https://localhost:8080/"
    },
    "id": "adf51cf7",
    "outputId": "978db368-8f1a-4813-90a4-4336a42e6856"
   },
   "outputs": [
    {
     "data": {
      "text/plain": [
       "['Gain',\n",
       " 'Followers',\n",
       " 'RT',\n",
       " 'This',\n",
       " 'MUST',\n",
       " 'FOLLOW',\n",
       " 'ME',\n",
       " 'I',\n",
       " 'FOLLOW',\n",
       " 'BACK',\n",
       " 'Follow',\n",
       " 'everyone',\n",
       " 'who',\n",
       " 'rts',\n",
       " 'Gain',\n",
       " '#iphone',\n",
       " '#sougofollow',\n",
       " '#ff',\n",
       " 'i7si']"
      ]
     },
     "execution_count": 286,
     "metadata": {},
     "output_type": "execute_result"
    }
   ],
   "source": [
    "data['tweet'][63].split()"
   ]
  },
  {
   "cell_type": "code",
   "execution_count": 287,
   "id": "44aa4683",
   "metadata": {
    "colab": {
     "base_uri": "https://localhost:8080/",
     "height": 87
    },
    "id": "44aa4683",
    "outputId": "6e641e23-7f98-4a1b-ad95-456480cfcf8e"
   },
   "outputs": [
    {
     "name": "stderr",
     "output_type": "stream",
     "text": [
      "[nltk_data] Downloading package wordnet to\n",
      "[nltk_data]     C:\\Users\\KIIT\\AppData\\Roaming\\nltk_data...\n",
      "[nltk_data]   Package wordnet is already up-to-date!\n"
     ]
    },
    {
     "data": {
      "text/plain": [
       "'gain follower rt this must follow me i follow back follow everyone who rts gain #iphone #sougofollow #ff i7si '"
      ]
     },
     "execution_count": 287,
     "metadata": {},
     "output_type": "execute_result"
    }
   ],
   "source": [
    "import nltk\n",
    "nltk.download('wordnet')\n",
    "\n",
    "new_sent = ''\n",
    "for token in data['tweet'][63].split():\n",
    "    new_sent = new_sent + lemmatizer.lemmatize(token.lower()) + ' '\n",
    "\n",
    "new_sent"
   ]
  },
  {
   "cell_type": "code",
   "execution_count": 288,
   "id": "cd8d70fc",
   "metadata": {
    "id": "cd8d70fc"
   },
   "outputs": [],
   "source": [
    "# !pip install contractions"
   ]
  },
  {
   "cell_type": "code",
   "execution_count": null,
   "id": "1d7ce8c1",
   "metadata": {
    "id": "1d7ce8c1"
   },
   "outputs": [],
   "source": []
  },
  {
   "cell_type": "code",
   "execution_count": 289,
   "id": "6ea94262",
   "metadata": {
    "colab": {
     "base_uri": "https://localhost:8080/",
     "height": 142
    },
    "id": "6ea94262",
    "outputId": "4b3a304b-8d37-4c3f-b893-2d384abcf171"
   },
   "outputs": [
    {
     "name": "stdout",
     "output_type": "stream",
     "text": [
      "Requirement already satisfied: contractions in c:\\users\\kiit\\appdata\\local\\programs\\python\\python312\\lib\\site-packages (0.1.73)\n",
      "Requirement already satisfied: textsearch>=0.0.21 in c:\\users\\kiit\\appdata\\local\\programs\\python\\python312\\lib\\site-packages (from contractions) (0.0.24)\n",
      "Requirement already satisfied: anyascii in c:\\users\\kiit\\appdata\\local\\programs\\python\\python312\\lib\\site-packages (from textsearch>=0.0.21->contractions) (0.3.2)\n",
      "Requirement already satisfied: pyahocorasick in c:\\users\\kiit\\appdata\\local\\programs\\python\\python312\\lib\\site-packages (from textsearch>=0.0.21->contractions) (2.1.0)\n"
     ]
    },
    {
     "name": "stderr",
     "output_type": "stream",
     "text": [
      "\n",
      "[notice] A new release of pip is available: 23.2.1 -> 24.0\n",
      "[notice] To update, run: python.exe -m pip install --upgrade pip\n"
     ]
    },
    {
     "data": {
      "text/plain": [
       "\"It's time for new wallpapers #phone #wallpapers #wall #screen #galaxy #samsung #app … https://www.instagram.com/p/BcsKTNNn51c/\""
      ]
     },
     "execution_count": 289,
     "metadata": {},
     "output_type": "execute_result"
    }
   ],
   "source": [
    "!pip install contractions\n",
    "import contractions\n",
    "data['tweet'][24]"
   ]
  },
  {
   "cell_type": "code",
   "execution_count": 290,
   "id": "c8a417a5",
   "metadata": {
    "colab": {
     "base_uri": "https://localhost:8080/",
     "height": 52
    },
    "id": "c8a417a5",
    "outputId": "12fdf35b-b437-44d2-e8da-71c092a33a31"
   },
   "outputs": [
    {
     "data": {
      "text/plain": [
       "'It is time for new wallpapers #phone #wallpapers #wall #screen #galaxy #samsung #app … https://www.instagram.com/p/BcsKTNNn51c/'"
      ]
     },
     "execution_count": 290,
     "metadata": {},
     "output_type": "execute_result"
    }
   ],
   "source": [
    "contractions.fix(data['tweet'][24])"
   ]
  },
  {
   "cell_type": "markdown",
   "id": "a00fd547",
   "metadata": {
    "id": "a00fd547"
   },
   "source": [
    "## Define the Cleaner Function & Apply"
   ]
  },
  {
   "cell_type": "code",
   "execution_count": 291,
   "id": "6bcdc3be",
   "metadata": {
    "id": "6bcdc3be"
   },
   "outputs": [],
   "source": [
    "import re"
   ]
  },
  {
   "cell_type": "code",
   "execution_count": 292,
   "id": "8be4ed4b",
   "metadata": {
    "id": "8be4ed4b"
   },
   "outputs": [],
   "source": [
    "def tweet_cleaner_without_stopwords(text):\n",
    "    new_text = re.sub(r\"'s\\b\", \" is\", text)\n",
    "    new_text = re.sub(\"#\", \"\", new_text)\n",
    "    new_text = re.sub(\"@[A-Za-z0-9]+\", \"\", new_text)\n",
    "    new_text = re.sub(r\"http\\S+\", \"\", new_text)\n",
    "    new_text = contractions.fix(new_text)\n",
    "    new_text = re.sub(r\"[^a-zA-Z]\", \" \", new_text)\n",
    "    new_text = new_text.lower().strip()\n",
    "\n",
    "    cleaned_text = ''\n",
    "    for token in new_text.split():\n",
    "        cleaned_text = cleaned_text + lemmatizer.lemmatize(token) + ' '\n",
    "\n",
    "    return cleaned_text"
   ]
  },
  {
   "cell_type": "code",
   "execution_count": 293,
   "id": "5f490cc9",
   "metadata": {
    "id": "5f490cc9"
   },
   "outputs": [],
   "source": [
    "cleaned_tweets = []  # list of cleaned tweets\n",
    "for twt in data['tweet']:\n",
    "    cleaned_tweets.append(tweet_cleaner_without_stopwords(twt))"
   ]
  },
  {
   "cell_type": "code",
   "execution_count": 294,
   "id": "d0ade359",
   "metadata": {
    "colab": {
     "base_uri": "https://localhost:8080/"
    },
    "id": "d0ade359",
    "outputId": "a4639637-030f-487f-941c-1dd6a268225d"
   },
   "outputs": [
    {
     "data": {
      "text/plain": [
       "['fingerprint pregnancy test android apps beautiful cute health igers iphoneonly iphonesia iphone ',\n",
       " 'finally a transparant silicon case thanks to my uncle yay sony xperia s sonyexperias ',\n",
       " 'we love this would you go talk makememories unplug relax iphone smartphone wifi connect ',\n",
       " 'i am wired i know i am george i wa made that way iphone cute daventry home ',\n",
       " 'what amazing service apple will not even talk to me about a question i have unless i pay them for their stupid support ']"
      ]
     },
     "execution_count": 294,
     "metadata": {},
     "output_type": "execute_result"
    }
   ],
   "source": [
    "cleaned_tweets[:5]"
   ]
  },
  {
   "cell_type": "code",
   "execution_count": 295,
   "id": "c9a4d13f",
   "metadata": {
    "colab": {
     "base_uri": "https://localhost:8080/",
     "height": 35
    },
    "id": "c9a4d13f",
    "outputId": "cbce12f3-14e7-422e-c99d-b070f5a070b5"
   },
   "outputs": [
    {
     "data": {
      "text/plain": [
       "'it is time for new wallpaper phone wallpaper wall screen galaxy samsung app '"
      ]
     },
     "execution_count": 295,
     "metadata": {},
     "output_type": "execute_result"
    }
   ],
   "source": [
    "cleaned_tweets[24]"
   ]
  },
  {
   "cell_type": "code",
   "execution_count": 296,
   "id": "be51e00a",
   "metadata": {
    "colab": {
     "base_uri": "https://localhost:8080/",
     "height": 70
    },
    "id": "be51e00a",
    "outputId": "1ecc3282-a641-4d45-c6ba-1df72e78ce72"
   },
   "outputs": [
    {
     "data": {
      "text/plain": [
       "'#Apple Bunch if Crooks Refused to repair/replace my beats wireless. Problem rubber on mic coming off microphones stopped working. Said warranty was void because ear piece looked chewed. Bullshit. I don’t have any animals and I would chew on anything I put in my ear. pic.twitter.com/GfgvquEpuC'"
      ]
     },
     "execution_count": 296,
     "metadata": {},
     "output_type": "execute_result"
    }
   ],
   "source": [
    "data['tweet'][1500]"
   ]
  },
  {
   "cell_type": "code",
   "execution_count": 297,
   "id": "6bc838c8",
   "metadata": {
    "colab": {
     "base_uri": "https://localhost:8080/"
    },
    "id": "6bc838c8",
    "outputId": "4076f689-113b-4f99-e162-5a8d09995f57"
   },
   "outputs": [
    {
     "data": {
      "text/plain": [
       "['#Apple',\n",
       " 'Bunch',\n",
       " 'if',\n",
       " 'Crooks',\n",
       " 'Refused',\n",
       " 'to',\n",
       " 'repair/replace',\n",
       " 'my',\n",
       " 'beats',\n",
       " 'wireless.',\n",
       " 'Problem',\n",
       " 'rubber',\n",
       " 'on',\n",
       " 'mic',\n",
       " 'coming',\n",
       " 'off',\n",
       " 'microphones',\n",
       " 'stopped',\n",
       " 'working.',\n",
       " 'Said',\n",
       " 'warranty',\n",
       " 'was',\n",
       " 'void',\n",
       " 'because',\n",
       " 'ear',\n",
       " 'piece',\n",
       " 'looked',\n",
       " 'chewed.',\n",
       " 'Bullshit.',\n",
       " 'I',\n",
       " 'don’t',\n",
       " 'have',\n",
       " 'any',\n",
       " 'animals',\n",
       " 'and',\n",
       " 'I',\n",
       " 'would',\n",
       " 'chew',\n",
       " 'on',\n",
       " 'anything',\n",
       " 'I',\n",
       " 'put',\n",
       " 'in',\n",
       " 'my',\n",
       " 'ear.',\n",
       " 'pic.twitter.com/GfgvquEpuC']"
      ]
     },
     "execution_count": 297,
     "metadata": {},
     "output_type": "execute_result"
    }
   ],
   "source": [
    "data['tweet'][1500].split()"
   ]
  },
  {
   "cell_type": "code",
   "execution_count": 298,
   "id": "6b35606a",
   "metadata": {
    "colab": {
     "base_uri": "https://localhost:8080/",
     "height": 70
    },
    "id": "6b35606a",
    "outputId": "a0484b3a-0c45-4e57-f794-891a53facefd"
   },
   "outputs": [
    {
     "data": {
      "text/plain": [
       "'apple bunch if crook refused to repair replace my beat wireless problem rubber on mic coming off microphone stopped working said warranty wa void because ear piece looked chewed bullshit i do not have any animal and i would chew on anything i put in my ear pic twitter com gfgvquepuc '"
      ]
     },
     "execution_count": 298,
     "metadata": {},
     "output_type": "execute_result"
    }
   ],
   "source": [
    "cleaned_tweets[1500]"
   ]
  },
  {
   "cell_type": "code",
   "execution_count": 299,
   "id": "035c3fde",
   "metadata": {
    "id": "035c3fde"
   },
   "outputs": [],
   "source": [
    "# tweet['tweet'].apply(lambda x: tweet_cleaner(x))"
   ]
  },
  {
   "cell_type": "code",
   "execution_count": 300,
   "id": "578f9e75",
   "metadata": {
    "colab": {
     "base_uri": "https://localhost:8080/",
     "height": 362
    },
    "id": "578f9e75",
    "outputId": "52eb0b00-af4a-4e7b-eca2-b9c89a8a5683"
   },
   "outputs": [
    {
     "data": {
      "text/html": [
       "<div>\n",
       "<style scoped>\n",
       "    .dataframe tbody tr th:only-of-type {\n",
       "        vertical-align: middle;\n",
       "    }\n",
       "\n",
       "    .dataframe tbody tr th {\n",
       "        vertical-align: top;\n",
       "    }\n",
       "\n",
       "    .dataframe thead th {\n",
       "        text-align: right;\n",
       "    }\n",
       "</style>\n",
       "<table border=\"1\" class=\"dataframe\">\n",
       "  <thead>\n",
       "    <tr style=\"text-align: right;\">\n",
       "      <th></th>\n",
       "      <th>label</th>\n",
       "      <th>tweet</th>\n",
       "      <th>cleaned_tweets_w/o_SW</th>\n",
       "    </tr>\n",
       "  </thead>\n",
       "  <tbody>\n",
       "    <tr>\n",
       "      <th>0</th>\n",
       "      <td>0</td>\n",
       "      <td>#fingerprint #Pregnancy Test https://goo.gl/h1MfQV #android #apps #beautiful #cute #health #igers #iphoneonly #iphonesia #iphone</td>\n",
       "      <td>fingerprint pregnancy test android apps beautiful cute health igers iphoneonly iphonesia iphone</td>\n",
       "    </tr>\n",
       "    <tr>\n",
       "      <th>1</th>\n",
       "      <td>0</td>\n",
       "      <td>Finally a transparant silicon case ^^ Thanks to my uncle :) #yay #Sony #Xperia #S #sonyexperias… http://instagram.com/p/YGEt5JC6JM/</td>\n",
       "      <td>finally a transparant silicon case thanks to my uncle yay sony xperia s sonyexperias</td>\n",
       "    </tr>\n",
       "    <tr>\n",
       "      <th>2</th>\n",
       "      <td>0</td>\n",
       "      <td>We love this! Would you go? #talk #makememories #unplug #relax #iphone #smartphone #wifi #connect... http://fb.me/6N3LsUpCu</td>\n",
       "      <td>we love this would you go talk makememories unplug relax iphone smartphone wifi connect</td>\n",
       "    </tr>\n",
       "    <tr>\n",
       "      <th>3</th>\n",
       "      <td>0</td>\n",
       "      <td>I'm wired I know I'm George I was made that way ;) #iphone #cute #daventry #home http://instagr.am/p/Li_5_ujS4k/</td>\n",
       "      <td>i am wired i know i am george i wa made that way iphone cute daventry home</td>\n",
       "    </tr>\n",
       "    <tr>\n",
       "      <th>4</th>\n",
       "      <td>1</td>\n",
       "      <td>What amazing service! Apple won't even talk to me about a question I have unless I pay them $19.95 for their stupid support!</td>\n",
       "      <td>what amazing service apple will not even talk to me about a question i have unless i pay them for their stupid support</td>\n",
       "    </tr>\n",
       "  </tbody>\n",
       "</table>\n",
       "</div>"
      ],
      "text/plain": [
       "   label  \\\n",
       "0      0   \n",
       "1      0   \n",
       "2      0   \n",
       "3      0   \n",
       "4      1   \n",
       "\n",
       "                                                                                                                                 tweet  \\\n",
       "0     #fingerprint #Pregnancy Test https://goo.gl/h1MfQV #android #apps #beautiful #cute #health #igers #iphoneonly #iphonesia #iphone   \n",
       "1  Finally a transparant silicon case ^^ Thanks to my uncle :) #yay #Sony #Xperia #S #sonyexperias… http://instagram.com/p/YGEt5JC6JM/   \n",
       "2          We love this! Would you go? #talk #makememories #unplug #relax #iphone #smartphone #wifi #connect... http://fb.me/6N3LsUpCu   \n",
       "3                     I'm wired I know I'm George I was made that way ;) #iphone #cute #daventry #home http://instagr.am/p/Li_5_ujS4k/   \n",
       "4         What amazing service! Apple won't even talk to me about a question I have unless I pay them $19.95 for their stupid support!   \n",
       "\n",
       "                                                                                                     cleaned_tweets_w/o_SW  \n",
       "0                         fingerprint pregnancy test android apps beautiful cute health igers iphoneonly iphonesia iphone   \n",
       "1                                    finally a transparant silicon case thanks to my uncle yay sony xperia s sonyexperias   \n",
       "2                                 we love this would you go talk makememories unplug relax iphone smartphone wifi connect   \n",
       "3                                              i am wired i know i am george i wa made that way iphone cute daventry home   \n",
       "4  what amazing service apple will not even talk to me about a question i have unless i pay them for their stupid support   "
      ]
     },
     "execution_count": 300,
     "metadata": {},
     "output_type": "execute_result"
    }
   ],
   "source": [
    "data['cleaned_tweets_w/o_SW'] = cleaned_tweets\n",
    "data.head()"
   ]
  },
  {
   "cell_type": "markdown",
   "id": "3453f45e",
   "metadata": {
    "id": "3453f45e"
   },
   "source": [
    "# 3. Data Visualization\n",
    "\n",
    "Plot the top 25 most common words in this tweets dataset"
   ]
  },
  {
   "cell_type": "code",
   "execution_count": 301,
   "id": "cb70565b",
   "metadata": {
    "id": "cb70565b"
   },
   "outputs": [],
   "source": [
    "import matplotlib.pyplot as plt"
   ]
  },
  {
   "cell_type": "code",
   "execution_count": 302,
   "id": "b8c83f18",
   "metadata": {
    "colab": {
     "base_uri": "https://localhost:8080/"
    },
    "id": "b8c83f18",
    "outputId": "4bf31c7f-6f6e-4ea0-810d-67629a9b51f5"
   },
   "outputs": [
    {
     "name": "stdout",
     "output_type": "stream",
     "text": [
      "['fingerprint', 'pregnancy', 'test', 'android', 'apps', 'beautiful', 'cute', 'health', 'igers', 'iphoneonly', 'iphonesia', 'iphone', 'finally', 'a', 'transparant', 'silicon', 'case', 'thanks', 'to', 'my', 'uncle', 'yay', 'sony', 'xperia', 's', 'sonyexperias', 'we', 'love', 'this', 'would', 'you', 'go', 'talk', 'makememories', 'unplug', 'relax', 'iphone', 'smartphone', 'wifi', 'connect', 'i', 'am', 'wired', 'i', 'know', 'i', 'am', 'george', 'i', 'wa']\n"
     ]
    }
   ],
   "source": [
    "# Write the code for plotting the cleaned tweets\n",
    "all_words = []\n",
    "for t in data['cleaned_tweets_w/o_SW']:\n",
    "    all_words.extend(t.split())\n",
    "\n",
    "print(all_words[:50])"
   ]
  },
  {
   "cell_type": "code",
   "execution_count": 303,
   "id": "c3317753",
   "metadata": {
    "colab": {
     "base_uri": "https://localhost:8080/"
    },
    "id": "c3317753",
    "outputId": "3f335b9d-44bd-4896-ad44-a8a550e21692"
   },
   "outputs": [
    {
     "data": {
      "text/plain": [
       "15981"
      ]
     },
     "execution_count": 303,
     "metadata": {},
     "output_type": "execute_result"
    }
   ],
   "source": [
    "len(set(all_words)) # this is the number of unique words in the list in the cleaned tweets without stop words removal"
   ]
  },
  {
   "cell_type": "code",
   "execution_count": 304,
   "id": "e170ffd8",
   "metadata": {
    "colab": {
     "base_uri": "https://localhost:8080/",
     "height": 481
    },
    "id": "e170ffd8",
    "outputId": "bd4d4e37-7cbb-48e0-ed2a-0cae6c4635a8"
   },
   "outputs": [
    {
     "data": {
      "image/png": "[encoded data removed]",
      "text/plain": [
       "<Figure size 1200x500 with 1 Axes>"
      ]
     },
     "metadata": {},
     "output_type": "display_data"
    }
   ],
   "source": [
    "# Frequency Distribution\n",
    "freq_dist = nltk.FreqDist(all_words)\n",
    "\n",
    "plt.figure(figsize=(12,5))\n",
    "plt.title('Top 25 most common words')\n",
    "plt.xticks(fontsize=15)\n",
    "\n",
    "freq_dist.plot(25, cumulative=False)\n",
    "\n",
    "plt.show()\n"
   ]
  },
  {
   "cell_type": "code",
   "execution_count": null,
   "id": "fcfa79f5",
   "metadata": {
    "id": "fcfa79f5"
   },
   "outputs": [],
   "source": []
  },
  {
   "cell_type": "code",
   "execution_count": null,
   "id": "fc68a02c",
   "metadata": {
    "id": "fc68a02c"
   },
   "outputs": [],
   "source": []
  },
  {
   "cell_type": "markdown",
   "id": "f961f7f9",
   "metadata": {
    "id": "f961f7f9"
   },
   "source": [
    "## DV After applying Stop words"
   ]
  },
  {
   "cell_type": "code",
   "execution_count": 305,
   "id": "271f2007",
   "metadata": {
    "colab": {
     "base_uri": "https://localhost:8080/"
    },
    "id": "271f2007",
    "outputId": "9a61dd43-39a1-4163-9a5b-134660e860d7"
   },
   "outputs": [
    {
     "data": {
      "text/plain": [
       "set"
      ]
     },
     "execution_count": 305,
     "metadata": {},
     "output_type": "execute_result"
    }
   ],
   "source": [
    "type(combined_stopwords)"
   ]
  },
  {
   "cell_type": "code",
   "execution_count": 306,
   "id": "ddf4f2e4",
   "metadata": {
    "id": "ddf4f2e4"
   },
   "outputs": [],
   "source": [
    "def tweet_cleaner_with_stopwords(text):\n",
    "    new_text = re.sub(r\"'s\\b\", \" is\", text)\n",
    "    new_text = re.sub(\"#\", \"\", new_text)\n",
    "    new_text = re.sub(\"@[A-Za-z0-9]+\", \"\", new_text)\n",
    "    new_text = re.sub(r\"http\\S+\", \"\", new_text)\n",
    "    new_text = contractions.fix(new_text)\n",
    "    new_text = re.sub(r\"[^a-zA-Z]\", \" \", new_text)\n",
    "    new_text = new_text.lower().strip()\n",
    "\n",
    "    new_text = [token for token in new_text.split() if token not in combined_stopwords]\n",
    "\n",
    "    new_text = [token for token in new_text if len(token)>2]\n",
    "\n",
    "    cleaned_text = ''\n",
    "    for token in new_text:\n",
    "        cleaned_text = cleaned_text + lemmatizer.lemmatize(token) + ' '\n",
    "\n",
    "    return cleaned_text"
   ]
  },
  {
   "cell_type": "code",
   "execution_count": 307,
   "id": "447a63d8",
   "metadata": {
    "colab": {
     "base_uri": "https://localhost:8080/"
    },
    "id": "447a63d8",
    "outputId": "b93f27f9-8e0a-49a6-f5d3-3ef61304a229"
   },
   "outputs": [
    {
     "name": "stdout",
     "output_type": "stream",
     "text": [
      "['fingerprint pregnancy test android apps beautiful cute health igers iphoneonly iphonesia iphone ', 'finally transparant silicon case thanks uncle yay sony xperia sonyexperias ', 'love talk makememories unplug relax iphone smartphone wifi connect ', 'wired know george way iphone cute daventry home ', 'amazing service apple talk question unless pay stupid support ', 'iphone software update fucked phone big time stupid iphones ', 'happy instapic instadaily sony xperia xperiaz ', 'new type charger cable bay amazon etsy new year rob cross toby young evemun mcmafia taylor spectre newyear starting recipe technology samsunggalaxys iphonex pic twitter com pjiwq wtc ', 'bout shopping listening music iphone justme music likeforlike followforfollow ', 'photo fun selfie pool water sony camera picoftheday sun instagood boy cute outdoor ']\n"
     ]
    }
   ],
   "source": [
    "cleaned_tweets = list(data['tweet'].apply(tweet_cleaner_with_stopwords))\n",
    "print(cleaned_tweets[:10])"
   ]
  },
  {
   "cell_type": "code",
   "execution_count": 308,
   "id": "08f114df",
   "metadata": {
    "colab": {
     "base_uri": "https://localhost:8080/"
    },
    "id": "08f114df",
    "outputId": "5c6e4d3b-99c5-4ff4-b7b2-8de3814aeec2"
   },
   "outputs": [
    {
     "data": {
      "text/plain": [
       "Index(['label', 'tweet', 'cleaned_tweets_w/o_SW'], dtype='object')"
      ]
     },
     "execution_count": 308,
     "metadata": {},
     "output_type": "execute_result"
    }
   ],
   "source": [
    "data.columns"
   ]
  },
  {
   "cell_type": "code",
   "execution_count": 309,
   "id": "15ba023d",
   "metadata": {
    "colab": {
     "base_uri": "https://localhost:8080/",
     "height": 449
    },
    "id": "15ba023d",
    "outputId": "2a2090ae-65e3-4dc8-fa5a-4ee5da3b0572"
   },
   "outputs": [
    {
     "data": {
      "text/html": [
       "<div>\n",
       "<style scoped>\n",
       "    .dataframe tbody tr th:only-of-type {\n",
       "        vertical-align: middle;\n",
       "    }\n",
       "\n",
       "    .dataframe tbody tr th {\n",
       "        vertical-align: top;\n",
       "    }\n",
       "\n",
       "    .dataframe thead th {\n",
       "        text-align: right;\n",
       "    }\n",
       "</style>\n",
       "<table border=\"1\" class=\"dataframe\">\n",
       "  <thead>\n",
       "    <tr style=\"text-align: right;\">\n",
       "      <th></th>\n",
       "      <th>label</th>\n",
       "      <th>tweet</th>\n",
       "      <th>cleaned_tweets_w/o_SW</th>\n",
       "      <th>cleaned_tweets_with_SW</th>\n",
       "    </tr>\n",
       "  </thead>\n",
       "  <tbody>\n",
       "    <tr>\n",
       "      <th>0</th>\n",
       "      <td>0</td>\n",
       "      <td>#fingerprint #Pregnancy Test https://goo.gl/h1MfQV #android #apps #beautiful #cute #health #igers #iphoneonly #iphonesia #iphone</td>\n",
       "      <td>fingerprint pregnancy test android apps beautiful cute health igers iphoneonly iphonesia iphone</td>\n",
       "      <td>fingerprint pregnancy test android apps beautiful cute health igers iphoneonly iphonesia iphone</td>\n",
       "    </tr>\n",
       "    <tr>\n",
       "      <th>1</th>\n",
       "      <td>0</td>\n",
       "      <td>Finally a transparant silicon case ^^ Thanks to my uncle :) #yay #Sony #Xperia #S #sonyexperias… http://instagram.com/p/YGEt5JC6JM/</td>\n",
       "      <td>finally a transparant silicon case thanks to my uncle yay sony xperia s sonyexperias</td>\n",
       "      <td>finally transparant silicon case thanks uncle yay sony xperia sonyexperias</td>\n",
       "    </tr>\n",
       "    <tr>\n",
       "      <th>2</th>\n",
       "      <td>0</td>\n",
       "      <td>We love this! Would you go? #talk #makememories #unplug #relax #iphone #smartphone #wifi #connect... http://fb.me/6N3LsUpCu</td>\n",
       "      <td>we love this would you go talk makememories unplug relax iphone smartphone wifi connect</td>\n",
       "      <td>love talk makememories unplug relax iphone smartphone wifi connect</td>\n",
       "    </tr>\n",
       "    <tr>\n",
       "      <th>3</th>\n",
       "      <td>0</td>\n",
       "      <td>I'm wired I know I'm George I was made that way ;) #iphone #cute #daventry #home http://instagr.am/p/Li_5_ujS4k/</td>\n",
       "      <td>i am wired i know i am george i wa made that way iphone cute daventry home</td>\n",
       "      <td>wired know george way iphone cute daventry home</td>\n",
       "    </tr>\n",
       "    <tr>\n",
       "      <th>4</th>\n",
       "      <td>1</td>\n",
       "      <td>What amazing service! Apple won't even talk to me about a question I have unless I pay them $19.95 for their stupid support!</td>\n",
       "      <td>what amazing service apple will not even talk to me about a question i have unless i pay them for their stupid support</td>\n",
       "      <td>amazing service apple talk question unless pay stupid support</td>\n",
       "    </tr>\n",
       "  </tbody>\n",
       "</table>\n",
       "</div>"
      ],
      "text/plain": [
       "   label  \\\n",
       "0      0   \n",
       "1      0   \n",
       "2      0   \n",
       "3      0   \n",
       "4      1   \n",
       "\n",
       "                                                                                                                                 tweet  \\\n",
       "0     #fingerprint #Pregnancy Test https://goo.gl/h1MfQV #android #apps #beautiful #cute #health #igers #iphoneonly #iphonesia #iphone   \n",
       "1  Finally a transparant silicon case ^^ Thanks to my uncle :) #yay #Sony #Xperia #S #sonyexperias… http://instagram.com/p/YGEt5JC6JM/   \n",
       "2          We love this! Would you go? #talk #makememories #unplug #relax #iphone #smartphone #wifi #connect... http://fb.me/6N3LsUpCu   \n",
       "3                     I'm wired I know I'm George I was made that way ;) #iphone #cute #daventry #home http://instagr.am/p/Li_5_ujS4k/   \n",
       "4         What amazing service! Apple won't even talk to me about a question I have unless I pay them $19.95 for their stupid support!   \n",
       "\n",
       "                                                                                                     cleaned_tweets_w/o_SW  \\\n",
       "0                         fingerprint pregnancy test android apps beautiful cute health igers iphoneonly iphonesia iphone    \n",
       "1                                    finally a transparant silicon case thanks to my uncle yay sony xperia s sonyexperias    \n",
       "2                                 we love this would you go talk makememories unplug relax iphone smartphone wifi connect    \n",
       "3                                              i am wired i know i am george i wa made that way iphone cute daventry home    \n",
       "4  what amazing service apple will not even talk to me about a question i have unless i pay them for their stupid support    \n",
       "\n",
       "                                                                             cleaned_tweets_with_SW  \n",
       "0  fingerprint pregnancy test android apps beautiful cute health igers iphoneonly iphonesia iphone   \n",
       "1                       finally transparant silicon case thanks uncle yay sony xperia sonyexperias   \n",
       "2                               love talk makememories unplug relax iphone smartphone wifi connect   \n",
       "3                                                  wired know george way iphone cute daventry home   \n",
       "4                                    amazing service apple talk question unless pay stupid support   "
      ]
     },
     "execution_count": 309,
     "metadata": {},
     "output_type": "execute_result"
    }
   ],
   "source": [
    "data['cleaned_tweets_with_SW'] = cleaned_tweets\n",
    "data.head()"
   ]
  },
  {
   "cell_type": "code",
   "execution_count": 310,
   "id": "4a9cd5ff",
   "metadata": {
    "colab": {
     "base_uri": "https://localhost:8080/",
     "height": 552
    },
    "id": "4a9cd5ff",
    "outputId": "6fef2ad2-57d0-42ab-8f60-c3b549adf898"
   },
   "outputs": [
    {
     "name": "stdout",
     "output_type": "stream",
     "text": [
      "['fingerprint', 'pregnancy', 'test', 'android', 'apps', 'beautiful', 'cute', 'health', 'igers', 'iphoneonly', 'iphonesia', 'iphone', 'finally', 'transparant', 'silicon', 'case', 'thanks', 'uncle', 'yay', 'sony', 'xperia', 'sonyexperias', 'love', 'talk', 'makememories', 'unplug', 'relax', 'iphone', 'smartphone', 'wifi', 'connect', 'wired', 'know', 'george', 'way', 'iphone', 'cute', 'daventry', 'home', 'amazing', 'service', 'apple', 'talk', 'question', 'unless', 'pay', 'stupid', 'support', 'iphone', 'software']\n"
     ]
    },
    {
     "data": {
      "image/png": "[encoded data removed]",
      "text/plain": [
       "<Figure size 1200x500 with 1 Axes>"
      ]
     },
     "metadata": {},
     "output_type": "display_data"
    }
   ],
   "source": [
    "all_words = []\n",
    "for t in data['cleaned_tweets_with_SW']:\n",
    "    all_words.extend(t.split())\n",
    "\n",
    "print(all_words[:50])\n",
    "\n",
    "# Frequency Distribution\n",
    "freq_dist = nltk.FreqDist(all_words)\n",
    "\n",
    "plt.figure(figsize=(12,5))\n",
    "plt.title('Top 25 most common words')\n",
    "plt.xticks(fontsize=15)\n",
    "\n",
    "freq_dist.plot(25, cumulative=False)\n",
    "\n",
    "plt.show()"
   ]
  },
  {
   "cell_type": "code",
   "execution_count": 311,
   "id": "3c403194",
   "metadata": {
    "id": "3c403194"
   },
   "outputs": [],
   "source": [
    "domain_stopwords = ['phone', 'mobile', 'twitter', 'rt', 'com', 'follow']\n",
    "final_stopwords = domain_stopwords + list(combined_stopwords)"
   ]
  },
  {
   "cell_type": "code",
   "execution_count": 312,
   "id": "5cdc409a",
   "metadata": {
    "colab": {
     "base_uri": "https://localhost:8080/",
     "height": 449
    },
    "id": "5cdc409a",
    "outputId": "8729673a-d833-43e6-e4a6-734de14e8d62"
   },
   "outputs": [
    {
     "data": {
      "text/html": [
       "<div>\n",
       "<style scoped>\n",
       "    .dataframe tbody tr th:only-of-type {\n",
       "        vertical-align: middle;\n",
       "    }\n",
       "\n",
       "    .dataframe tbody tr th {\n",
       "        vertical-align: top;\n",
       "    }\n",
       "\n",
       "    .dataframe thead th {\n",
       "        text-align: right;\n",
       "    }\n",
       "</style>\n",
       "<table border=\"1\" class=\"dataframe\">\n",
       "  <thead>\n",
       "    <tr style=\"text-align: right;\">\n",
       "      <th></th>\n",
       "      <th>label</th>\n",
       "      <th>tweet</th>\n",
       "      <th>cleaned_tweets_w/o_SW</th>\n",
       "      <th>cleaned_tweets_with_SW</th>\n",
       "    </tr>\n",
       "  </thead>\n",
       "  <tbody>\n",
       "    <tr>\n",
       "      <th>0</th>\n",
       "      <td>0</td>\n",
       "      <td>#fingerprint #Pregnancy Test https://goo.gl/h1MfQV #android #apps #beautiful #cute #health #igers #iphoneonly #iphonesia #iphone</td>\n",
       "      <td>fingerprint pregnancy test android apps beautiful cute health igers iphoneonly iphonesia iphone</td>\n",
       "      <td>fingerprint pregnancy test android apps beautiful cute health igers iphoneonly iphonesia iphone</td>\n",
       "    </tr>\n",
       "    <tr>\n",
       "      <th>1</th>\n",
       "      <td>0</td>\n",
       "      <td>Finally a transparant silicon case ^^ Thanks to my uncle :) #yay #Sony #Xperia #S #sonyexperias… http://instagram.com/p/YGEt5JC6JM/</td>\n",
       "      <td>finally a transparant silicon case thanks to my uncle yay sony xperia s sonyexperias</td>\n",
       "      <td>finally transparant silicon case thanks uncle yay sony xperia sonyexperias</td>\n",
       "    </tr>\n",
       "    <tr>\n",
       "      <th>2</th>\n",
       "      <td>0</td>\n",
       "      <td>We love this! Would you go? #talk #makememories #unplug #relax #iphone #smartphone #wifi #connect... http://fb.me/6N3LsUpCu</td>\n",
       "      <td>we love this would you go talk makememories unplug relax iphone smartphone wifi connect</td>\n",
       "      <td>love talk makememories unplug relax iphone smartphone wifi connect</td>\n",
       "    </tr>\n",
       "    <tr>\n",
       "      <th>3</th>\n",
       "      <td>0</td>\n",
       "      <td>I'm wired I know I'm George I was made that way ;) #iphone #cute #daventry #home http://instagr.am/p/Li_5_ujS4k/</td>\n",
       "      <td>i am wired i know i am george i wa made that way iphone cute daventry home</td>\n",
       "      <td>wired know george way iphone cute daventry home</td>\n",
       "    </tr>\n",
       "    <tr>\n",
       "      <th>4</th>\n",
       "      <td>1</td>\n",
       "      <td>What amazing service! Apple won't even talk to me about a question I have unless I pay them $19.95 for their stupid support!</td>\n",
       "      <td>what amazing service apple will not even talk to me about a question i have unless i pay them for their stupid support</td>\n",
       "      <td>amazing service apple talk question unless pay stupid support</td>\n",
       "    </tr>\n",
       "  </tbody>\n",
       "</table>\n",
       "</div>"
      ],
      "text/plain": [
       "   label  \\\n",
       "0      0   \n",
       "1      0   \n",
       "2      0   \n",
       "3      0   \n",
       "4      1   \n",
       "\n",
       "                                                                                                                                 tweet  \\\n",
       "0     #fingerprint #Pregnancy Test https://goo.gl/h1MfQV #android #apps #beautiful #cute #health #igers #iphoneonly #iphonesia #iphone   \n",
       "1  Finally a transparant silicon case ^^ Thanks to my uncle :) #yay #Sony #Xperia #S #sonyexperias… http://instagram.com/p/YGEt5JC6JM/   \n",
       "2          We love this! Would you go? #talk #makememories #unplug #relax #iphone #smartphone #wifi #connect... http://fb.me/6N3LsUpCu   \n",
       "3                     I'm wired I know I'm George I was made that way ;) #iphone #cute #daventry #home http://instagr.am/p/Li_5_ujS4k/   \n",
       "4         What amazing service! Apple won't even talk to me about a question I have unless I pay them $19.95 for their stupid support!   \n",
       "\n",
       "                                                                                                     cleaned_tweets_w/o_SW  \\\n",
       "0                         fingerprint pregnancy test android apps beautiful cute health igers iphoneonly iphonesia iphone    \n",
       "1                                    finally a transparant silicon case thanks to my uncle yay sony xperia s sonyexperias    \n",
       "2                                 we love this would you go talk makememories unplug relax iphone smartphone wifi connect    \n",
       "3                                              i am wired i know i am george i wa made that way iphone cute daventry home    \n",
       "4  what amazing service apple will not even talk to me about a question i have unless i pay them for their stupid support    \n",
       "\n",
       "                                                                             cleaned_tweets_with_SW  \n",
       "0  fingerprint pregnancy test android apps beautiful cute health igers iphoneonly iphonesia iphone   \n",
       "1                       finally transparant silicon case thanks uncle yay sony xperia sonyexperias   \n",
       "2                               love talk makememories unplug relax iphone smartphone wifi connect   \n",
       "3                                                  wired know george way iphone cute daventry home   \n",
       "4                                    amazing service apple talk question unless pay stupid support   "
      ]
     },
     "execution_count": 312,
     "metadata": {},
     "output_type": "execute_result"
    }
   ],
   "source": [
    "data.head()"
   ]
  },
  {
   "cell_type": "code",
   "execution_count": null,
   "id": "c84a7724",
   "metadata": {
    "id": "c84a7724"
   },
   "outputs": [],
   "source": []
  },
  {
   "cell_type": "markdown",
   "id": "9e67d67d",
   "metadata": {
    "id": "9e67d67d"
   },
   "source": [
    "# 4. Bag of Words Model (Feature Extraction)\n",
    "\n",
    "- Countvectorizer\n",
    "- TF-IDF Vectorizer"
   ]
  },
  {
   "cell_type": "code",
   "execution_count": 313,
   "id": "648429e5",
   "metadata": {
    "colab": {
     "base_uri": "https://localhost:8080/"
    },
    "id": "648429e5",
    "outputId": "0911eea9-1ac6-4ccd-8641-38df2f200933"
   },
   "outputs": [
    {
     "data": {
      "text/plain": [
       "(7920, 4)"
      ]
     },
     "execution_count": 313,
     "metadata": {},
     "output_type": "execute_result"
    }
   ],
   "source": [
    "data.shape"
   ]
  },
  {
   "cell_type": "code",
   "execution_count": 314,
   "id": "5ca6d51a",
   "metadata": {
    "id": "5ca6d51a"
   },
   "outputs": [],
   "source": [
    "from sklearn.feature_extraction.text import CountVectorizer\n",
    "\n",
    "CV = CountVectorizer()\n",
    "CV_features = CV.fit_transform(data['cleaned_tweets_w/o_SW'])\n"
   ]
  },
  {
   "cell_type": "code",
   "execution_count": 315,
   "id": "00eed834",
   "metadata": {
    "colab": {
     "base_uri": "https://localhost:8080/"
    },
    "id": "00eed834",
    "outputId": "3258dbf2-46d0-4b8f-f34b-a45f52cb50be"
   },
   "outputs": [
    {
     "data": {
      "text/plain": [
       "(7920, 15955)"
      ]
     },
     "execution_count": 315,
     "metadata": {},
     "output_type": "execute_result"
    }
   ],
   "source": [
    "CV_features.shape"
   ]
  },
  {
   "cell_type": "code",
   "execution_count": 316,
   "id": "6dda76be",
   "metadata": {
    "colab": {
     "base_uri": "https://localhost:8080/"
    },
    "id": "6dda76be",
    "outputId": "51349eee-6d09-44a5-9cb7-9462dd128f41"
   },
   "outputs": [
    {
     "data": {
      "text/plain": [
       "<1x15955 sparse matrix of type '<class 'numpy.int64'>'\n",
       "\twith 12 stored elements in Compressed Sparse Row format>"
      ]
     },
     "execution_count": 316,
     "metadata": {},
     "output_type": "execute_result"
    }
   ],
   "source": [
    "CV_features[0]"
   ]
  },
  {
   "cell_type": "code",
   "execution_count": 317,
   "id": "d1c52ba6",
   "metadata": {
    "id": "d1c52ba6"
   },
   "outputs": [],
   "source": [
    "# df = data.copy()\n",
    "# df.columns = ['label', 'cleaned_tweets_incl_SW', 'cleaned_tweets_SW_removed', 'cleaned_tweets_SW_removed_len_gt2']\n",
    "# df.to_pickle('cleaned_tweets.pkl')\n",
    "# df.to_csv('cleaned_tweets', index=False)"
   ]
  },
  {
   "cell_type": "code",
   "execution_count": 318,
   "id": "8d779cdb",
   "metadata": {
    "colab": {
     "base_uri": "https://localhost:8080/",
     "height": 186
    },
    "id": "8d779cdb",
    "outputId": "b94af8df-9315-4a06-f199-0e43db7676e2"
   },
   "outputs": [
    {
     "data": {
      "text/plain": [
       "scipy.sparse._csr.csr_matrix"
      ]
     },
     "execution_count": 318,
     "metadata": {},
     "output_type": "execute_result"
    }
   ],
   "source": [
    "type(CV_features[0])  # each row is a compressed spare row"
   ]
  },
  {
   "cell_type": "code",
   "execution_count": 319,
   "id": "96fd0554",
   "metadata": {
    "colab": {
     "base_uri": "https://localhost:8080/"
    },
    "id": "96fd0554",
    "outputId": "be585464-c1ad-41de-a28e-ecb0312c6e12"
   },
   "outputs": [
    {
     "data": {
      "text/plain": [
       "matrix([[0, 0, 0, ..., 0, 0, 0]], dtype=int64)"
      ]
     },
     "execution_count": 319,
     "metadata": {},
     "output_type": "execute_result"
    }
   ],
   "source": [
    "CV_features[0].todense()  # decompressing the CSR data"
   ]
  },
  {
   "cell_type": "code",
   "execution_count": 320,
   "id": "740fd79c",
   "metadata": {
    "colab": {
     "base_uri": "https://localhost:8080/",
     "height": 443
    },
    "id": "740fd79c",
    "outputId": "7149fe35-a219-42c7-9e76-2a2ef5aeb991"
   },
   "outputs": [
    {
     "data": {
      "text/html": [
       "<div>\n",
       "<style scoped>\n",
       "    .dataframe tbody tr th:only-of-type {\n",
       "        vertical-align: middle;\n",
       "    }\n",
       "\n",
       "    .dataframe tbody tr th {\n",
       "        vertical-align: top;\n",
       "    }\n",
       "\n",
       "    .dataframe thead th {\n",
       "        text-align: right;\n",
       "    }\n",
       "</style>\n",
       "<table border=\"1\" class=\"dataframe\">\n",
       "  <thead>\n",
       "    <tr style=\"text-align: right;\">\n",
       "      <th></th>\n",
       "      <th>0</th>\n",
       "      <th>1</th>\n",
       "      <th>2</th>\n",
       "      <th>3</th>\n",
       "      <th>4</th>\n",
       "      <th>5</th>\n",
       "      <th>6</th>\n",
       "      <th>7</th>\n",
       "      <th>8</th>\n",
       "      <th>9</th>\n",
       "      <th>...</th>\n",
       "      <th>15945</th>\n",
       "      <th>15946</th>\n",
       "      <th>15947</th>\n",
       "      <th>15948</th>\n",
       "      <th>15949</th>\n",
       "      <th>15950</th>\n",
       "      <th>15951</th>\n",
       "      <th>15952</th>\n",
       "      <th>15953</th>\n",
       "      <th>15954</th>\n",
       "    </tr>\n",
       "  </thead>\n",
       "  <tbody>\n",
       "    <tr>\n",
       "      <th>0</th>\n",
       "      <td>0</td>\n",
       "      <td>0</td>\n",
       "      <td>0</td>\n",
       "      <td>0</td>\n",
       "      <td>0</td>\n",
       "      <td>0</td>\n",
       "      <td>0</td>\n",
       "      <td>0</td>\n",
       "      <td>0</td>\n",
       "      <td>0</td>\n",
       "      <td>...</td>\n",
       "      <td>0</td>\n",
       "      <td>0</td>\n",
       "      <td>0</td>\n",
       "      <td>0</td>\n",
       "      <td>0</td>\n",
       "      <td>0</td>\n",
       "      <td>0</td>\n",
       "      <td>0</td>\n",
       "      <td>0</td>\n",
       "      <td>0</td>\n",
       "    </tr>\n",
       "    <tr>\n",
       "      <th>1</th>\n",
       "      <td>0</td>\n",
       "      <td>0</td>\n",
       "      <td>0</td>\n",
       "      <td>0</td>\n",
       "      <td>0</td>\n",
       "      <td>0</td>\n",
       "      <td>0</td>\n",
       "      <td>0</td>\n",
       "      <td>0</td>\n",
       "      <td>0</td>\n",
       "      <td>...</td>\n",
       "      <td>0</td>\n",
       "      <td>0</td>\n",
       "      <td>0</td>\n",
       "      <td>0</td>\n",
       "      <td>0</td>\n",
       "      <td>0</td>\n",
       "      <td>0</td>\n",
       "      <td>0</td>\n",
       "      <td>0</td>\n",
       "      <td>0</td>\n",
       "    </tr>\n",
       "    <tr>\n",
       "      <th>2</th>\n",
       "      <td>0</td>\n",
       "      <td>0</td>\n",
       "      <td>0</td>\n",
       "      <td>0</td>\n",
       "      <td>0</td>\n",
       "      <td>0</td>\n",
       "      <td>0</td>\n",
       "      <td>0</td>\n",
       "      <td>0</td>\n",
       "      <td>0</td>\n",
       "      <td>...</td>\n",
       "      <td>0</td>\n",
       "      <td>0</td>\n",
       "      <td>0</td>\n",
       "      <td>0</td>\n",
       "      <td>0</td>\n",
       "      <td>0</td>\n",
       "      <td>0</td>\n",
       "      <td>0</td>\n",
       "      <td>0</td>\n",
       "      <td>0</td>\n",
       "    </tr>\n",
       "    <tr>\n",
       "      <th>3</th>\n",
       "      <td>0</td>\n",
       "      <td>0</td>\n",
       "      <td>0</td>\n",
       "      <td>0</td>\n",
       "      <td>0</td>\n",
       "      <td>0</td>\n",
       "      <td>0</td>\n",
       "      <td>0</td>\n",
       "      <td>0</td>\n",
       "      <td>0</td>\n",
       "      <td>...</td>\n",
       "      <td>0</td>\n",
       "      <td>0</td>\n",
       "      <td>0</td>\n",
       "      <td>0</td>\n",
       "      <td>0</td>\n",
       "      <td>0</td>\n",
       "      <td>0</td>\n",
       "      <td>0</td>\n",
       "      <td>0</td>\n",
       "      <td>0</td>\n",
       "    </tr>\n",
       "    <tr>\n",
       "      <th>4</th>\n",
       "      <td>0</td>\n",
       "      <td>0</td>\n",
       "      <td>0</td>\n",
       "      <td>0</td>\n",
       "      <td>0</td>\n",
       "      <td>0</td>\n",
       "      <td>0</td>\n",
       "      <td>0</td>\n",
       "      <td>0</td>\n",
       "      <td>0</td>\n",
       "      <td>...</td>\n",
       "      <td>0</td>\n",
       "      <td>0</td>\n",
       "      <td>0</td>\n",
       "      <td>0</td>\n",
       "      <td>0</td>\n",
       "      <td>0</td>\n",
       "      <td>0</td>\n",
       "      <td>0</td>\n",
       "      <td>0</td>\n",
       "      <td>0</td>\n",
       "    </tr>\n",
       "    <tr>\n",
       "      <th>...</th>\n",
       "      <td>...</td>\n",
       "      <td>...</td>\n",
       "      <td>...</td>\n",
       "      <td>...</td>\n",
       "      <td>...</td>\n",
       "      <td>...</td>\n",
       "      <td>...</td>\n",
       "      <td>...</td>\n",
       "      <td>...</td>\n",
       "      <td>...</td>\n",
       "      <td>...</td>\n",
       "      <td>...</td>\n",
       "      <td>...</td>\n",
       "      <td>...</td>\n",
       "      <td>...</td>\n",
       "      <td>...</td>\n",
       "      <td>...</td>\n",
       "      <td>...</td>\n",
       "      <td>...</td>\n",
       "      <td>...</td>\n",
       "      <td>...</td>\n",
       "    </tr>\n",
       "    <tr>\n",
       "      <th>7915</th>\n",
       "      <td>0</td>\n",
       "      <td>0</td>\n",
       "      <td>0</td>\n",
       "      <td>0</td>\n",
       "      <td>0</td>\n",
       "      <td>0</td>\n",
       "      <td>0</td>\n",
       "      <td>0</td>\n",
       "      <td>0</td>\n",
       "      <td>0</td>\n",
       "      <td>...</td>\n",
       "      <td>0</td>\n",
       "      <td>0</td>\n",
       "      <td>0</td>\n",
       "      <td>0</td>\n",
       "      <td>0</td>\n",
       "      <td>0</td>\n",
       "      <td>0</td>\n",
       "      <td>0</td>\n",
       "      <td>0</td>\n",
       "      <td>0</td>\n",
       "    </tr>\n",
       "    <tr>\n",
       "      <th>7916</th>\n",
       "      <td>0</td>\n",
       "      <td>0</td>\n",
       "      <td>0</td>\n",
       "      <td>0</td>\n",
       "      <td>0</td>\n",
       "      <td>0</td>\n",
       "      <td>0</td>\n",
       "      <td>0</td>\n",
       "      <td>0</td>\n",
       "      <td>0</td>\n",
       "      <td>...</td>\n",
       "      <td>0</td>\n",
       "      <td>0</td>\n",
       "      <td>0</td>\n",
       "      <td>0</td>\n",
       "      <td>0</td>\n",
       "      <td>0</td>\n",
       "      <td>0</td>\n",
       "      <td>0</td>\n",
       "      <td>0</td>\n",
       "      <td>0</td>\n",
       "    </tr>\n",
       "    <tr>\n",
       "      <th>7917</th>\n",
       "      <td>0</td>\n",
       "      <td>0</td>\n",
       "      <td>0</td>\n",
       "      <td>0</td>\n",
       "      <td>0</td>\n",
       "      <td>0</td>\n",
       "      <td>0</td>\n",
       "      <td>0</td>\n",
       "      <td>0</td>\n",
       "      <td>0</td>\n",
       "      <td>...</td>\n",
       "      <td>0</td>\n",
       "      <td>0</td>\n",
       "      <td>0</td>\n",
       "      <td>0</td>\n",
       "      <td>0</td>\n",
       "      <td>0</td>\n",
       "      <td>0</td>\n",
       "      <td>0</td>\n",
       "      <td>0</td>\n",
       "      <td>0</td>\n",
       "    </tr>\n",
       "    <tr>\n",
       "      <th>7918</th>\n",
       "      <td>0</td>\n",
       "      <td>0</td>\n",
       "      <td>0</td>\n",
       "      <td>0</td>\n",
       "      <td>0</td>\n",
       "      <td>0</td>\n",
       "      <td>0</td>\n",
       "      <td>0</td>\n",
       "      <td>0</td>\n",
       "      <td>0</td>\n",
       "      <td>...</td>\n",
       "      <td>0</td>\n",
       "      <td>0</td>\n",
       "      <td>0</td>\n",
       "      <td>0</td>\n",
       "      <td>0</td>\n",
       "      <td>0</td>\n",
       "      <td>0</td>\n",
       "      <td>0</td>\n",
       "      <td>0</td>\n",
       "      <td>0</td>\n",
       "    </tr>\n",
       "    <tr>\n",
       "      <th>7919</th>\n",
       "      <td>0</td>\n",
       "      <td>0</td>\n",
       "      <td>0</td>\n",
       "      <td>0</td>\n",
       "      <td>0</td>\n",
       "      <td>0</td>\n",
       "      <td>0</td>\n",
       "      <td>0</td>\n",
       "      <td>0</td>\n",
       "      <td>0</td>\n",
       "      <td>...</td>\n",
       "      <td>0</td>\n",
       "      <td>0</td>\n",
       "      <td>0</td>\n",
       "      <td>0</td>\n",
       "      <td>0</td>\n",
       "      <td>0</td>\n",
       "      <td>0</td>\n",
       "      <td>0</td>\n",
       "      <td>0</td>\n",
       "      <td>0</td>\n",
       "    </tr>\n",
       "  </tbody>\n",
       "</table>\n",
       "<p>7920 rows × 15955 columns</p>\n",
       "</div>"
      ],
      "text/plain": [
       "      0      1      2      3      4      5      6      7      8      9      \\\n",
       "0         0      0      0      0      0      0      0      0      0      0   \n",
       "1         0      0      0      0      0      0      0      0      0      0   \n",
       "2         0      0      0      0      0      0      0      0      0      0   \n",
       "3         0      0      0      0      0      0      0      0      0      0   \n",
       "4         0      0      0      0      0      0      0      0      0      0   \n",
       "...     ...    ...    ...    ...    ...    ...    ...    ...    ...    ...   \n",
       "7915      0      0      0      0      0      0      0      0      0      0   \n",
       "7916      0      0      0      0      0      0      0      0      0      0   \n",
       "7917      0      0      0      0      0      0      0      0      0      0   \n",
       "7918      0      0      0      0      0      0      0      0      0      0   \n",
       "7919      0      0      0      0      0      0      0      0      0      0   \n",
       "\n",
       "      ...  15945  15946  15947  15948  15949  15950  15951  15952  15953  \\\n",
       "0     ...      0      0      0      0      0      0      0      0      0   \n",
       "1     ...      0      0      0      0      0      0      0      0      0   \n",
       "2     ...      0      0      0      0      0      0      0      0      0   \n",
       "3     ...      0      0      0      0      0      0      0      0      0   \n",
       "4     ...      0      0      0      0      0      0      0      0      0   \n",
       "...   ...    ...    ...    ...    ...    ...    ...    ...    ...    ...   \n",
       "7915  ...      0      0      0      0      0      0      0      0      0   \n",
       "7916  ...      0      0      0      0      0      0      0      0      0   \n",
       "7917  ...      0      0      0      0      0      0      0      0      0   \n",
       "7918  ...      0      0      0      0      0      0      0      0      0   \n",
       "7919  ...      0      0      0      0      0      0      0      0      0   \n",
       "\n",
       "      15954  \n",
       "0         0  \n",
       "1         0  \n",
       "2         0  \n",
       "3         0  \n",
       "4         0  \n",
       "...     ...  \n",
       "7915      0  \n",
       "7916      0  \n",
       "7917      0  \n",
       "7918      0  \n",
       "7919      0  \n",
       "\n",
       "[7920 rows x 15955 columns]"
      ]
     },
     "execution_count": 320,
     "metadata": {},
     "output_type": "execute_result"
    }
   ],
   "source": [
    "import pandas as pd\n",
    "df = pd.DataFrame(CV_features.todense() )\n",
    "df\n",
    "# Document-Term-Matrix X = [N x p ]\n",
    "# N = no. of documentns\n",
    "# p = no. of unique words in the vocab!!# this is your D"
   ]
  },
  {
   "cell_type": "code",
   "execution_count": 321,
   "id": "def61af3",
   "metadata": {
    "colab": {
     "base_uri": "https://localhost:8080/"
    },
    "id": "def61af3",
    "outputId": "4a61278b-2874-4da7-ddce-4eb98852f758"
   },
   "outputs": [
    {
     "data": {
      "text/plain": [
       "126.3636"
      ]
     },
     "execution_count": 321,
     "metadata": {},
     "output_type": "execute_result"
    }
   ],
   "source": [
    "df.size/1e6  # these many elements/numbers are presnt in the df"
   ]
  },
  {
   "cell_type": "code",
   "execution_count": 322,
   "id": "76f78d34",
   "metadata": {
    "colab": {
     "base_uri": "https://localhost:8080/"
    },
    "id": "76f78d34",
    "outputId": "45fe99ca-4f78-4389-ae31-e7be2d61eb3c"
   },
   "outputs": [
    {
     "data": {
      "text/plain": [
       "114973"
      ]
     },
     "execution_count": 322,
     "metadata": {},
     "output_type": "execute_result"
    }
   ],
   "source": [
    "import numpy as np\n",
    "np.count_nonzero(df)"
   ]
  },
  {
   "cell_type": "code",
   "execution_count": 323,
   "id": "c2d68b8c",
   "metadata": {
    "colab": {
     "base_uri": "https://localhost:8080/"
    },
    "id": "c2d68b8c",
    "outputId": "f2dc8487-7fa1-48c1-f264-2c2e4269fa91"
   },
   "outputs": [
    {
     "data": {
      "text/plain": [
       "0.09098585352110893"
      ]
     },
     "execution_count": 323,
     "metadata": {},
     "output_type": "execute_result"
    }
   ],
   "source": [
    "100*np.count_nonzero(df)/df.size # percent of the non-zero elements i nthe df"
   ]
  },
  {
   "cell_type": "code",
   "execution_count": 324,
   "id": "2607ec8d",
   "metadata": {
    "colab": {
     "base_uri": "https://localhost:8080/"
    },
    "id": "2607ec8d",
    "outputId": "6708f2ee-c44f-41a0-a767-2f2381ffb5ea"
   },
   "outputs": [
    {
     "name": "stdout",
     "output_type": "stream",
     "text": [
      "['aa' 'aaaahhhhhhh' 'aag' 'aah' 'aalborg' 'aand' 'aapl' 'aarhus' 'aaron'\n",
      " 'aarp' 'aarrrggghhhh' 'aashamsakal' 'aaydojbfkq' 'aayp' 'ab' 'abah'\n",
      " 'abareta' 'abay' 'abb' 'abc' 'abdou' 'abe' 'aber' 'abercrombie' 'abi'\n",
      " 'ability' 'abit' 'able' 'ableton' 'abnqum' 'aboard' 'about' 'aboutalook'\n",
      " 'aboutdamntime' 'abouttime' 'abouttonight' 'above' 'abp' 'abscbn'\n",
      " 'absence' 'absolute' 'absolutely' 'absurd' 'abu' 'abudhabi' 'abuja'\n",
      " 'abujacity' 'abujafct' 'abujapeople' 'abujaphones']\n"
     ]
    }
   ],
   "source": [
    "print(CV.get_feature_names_out()[:50])  # these are the vocab words\n"
   ]
  },
  {
   "cell_type": "code",
   "execution_count": 325,
   "id": "403d67e4",
   "metadata": {
    "id": "403d67e4"
   },
   "outputs": [],
   "source": [
    "# CV.get_feature_names_out()[:50]  # these the vocab words"
   ]
  },
  {
   "cell_type": "code",
   "execution_count": 326,
   "id": "6d09f6d7",
   "metadata": {
    "colab": {
     "base_uri": "https://localhost:8080/"
    },
    "id": "6d09f6d7",
    "outputId": "f0a0325c-31b0-4049-eb39-ab7c7ab6c2dd"
   },
   "outputs": [
    {
     "data": {
      "text/plain": [
       "15955"
      ]
     },
     "execution_count": 326,
     "metadata": {},
     "output_type": "execute_result"
    }
   ],
   "source": [
    "len(CV.get_feature_names_out())\n",
    "#len(CV.get_feature_names())"
   ]
  },
  {
   "cell_type": "code",
   "execution_count": 327,
   "id": "54d6d866",
   "metadata": {
    "colab": {
     "base_uri": "https://localhost:8080/"
    },
    "id": "54d6d866",
    "outputId": "fdd109f4-fbc7-4fbd-8549-31d93676e80c"
   },
   "outputs": [
    {
     "data": {
      "text/plain": [
       "matrix([[0, 0, 0, ..., 0, 0, 0]], dtype=int64)"
      ]
     },
     "execution_count": 327,
     "metadata": {},
     "output_type": "execute_result"
    }
   ],
   "source": [
    "CV_features[10].todense()  # these are numbers corresponding to the 11th tweet"
   ]
  },
  {
   "cell_type": "code",
   "execution_count": 328,
   "id": "0e765ec8",
   "metadata": {
    "colab": {
     "base_uri": "https://localhost:8080/"
    },
    "id": "0e765ec8",
    "outputId": "7cfdbfb5-4d82-46ac-93de-75062befad4e"
   },
   "outputs": [
    {
     "data": {
      "text/plain": [
       "[array(['apple', 'color', 'crash', 'do', 'every', 'five', 'fuckin', 'hey',\n",
       "        'inch', 'ipod', 'it', 'make', 'minite', 'new', 'not', 'or',\n",
       "        'thinner', 'when', 'you'], dtype='<U41')]"
      ]
     },
     "execution_count": 328,
     "metadata": {},
     "output_type": "execute_result"
    }
   ],
   "source": [
    "CV.inverse_transform(np.asarray(CV_features[10].todense()))  # actual words in the 10th tweet"
   ]
  },
  {
   "cell_type": "markdown",
   "id": "e6dd7b9a",
   "metadata": {
    "id": "e6dd7b9a"
   },
   "source": [
    "# 5. Model building"
   ]
  },
  {
   "cell_type": "code",
   "execution_count": 329,
   "id": "4c72611d",
   "metadata": {
    "id": "4c72611d"
   },
   "outputs": [],
   "source": [
    "from sklearn.model_selection import train_test_split\n",
    "\n",
    "X_train, X_test, y_train, y_test = train_test_split(CV_features, data['label'], test_size=0.25, stratify=data['label'], random_state=42)"
   ]
  },
  {
   "cell_type": "code",
   "execution_count": 330,
   "id": "2a3b3020",
   "metadata": {
    "colab": {
     "base_uri": "https://localhost:8080/"
    },
    "id": "2a3b3020",
    "outputId": "35531a68-77ac-4aa1-ddfa-575033fff3c7"
   },
   "outputs": [
    {
     "name": "stdout",
     "output_type": "stream",
     "text": [
      "0.9779461279461279\n",
      "0.8813131313131313\n"
     ]
    }
   ],
   "source": [
    "from sklearn.linear_model import LogisticRegression\n",
    "LR = LogisticRegression(solver='liblinear')\n",
    "LR.fit(X_train, y_train)\n",
    "\n",
    "print(LR.score(X_train, y_train))  # train score)\n",
    "print(LR.score(X_test, y_test))   # test score)"
   ]
  },
  {
   "cell_type": "code",
   "execution_count": 331,
   "id": "82c2b527",
   "metadata": {
    "colab": {
     "base_uri": "https://localhost:8080/"
    },
    "id": "82c2b527",
    "outputId": "9258416c-34ef-4df3-e80a-c2340dde0185"
   },
   "outputs": [
    {
     "name": "stdout",
     "output_type": "stream",
     "text": [
      "0.9038720538720538\n",
      "0.8813131313131313\n"
     ]
    }
   ],
   "source": [
    "## L1-REGULARIZATION\n",
    "LR1 = LogisticRegression(class_weight='balanced', solver='liblinear', penalty='l1', C=0.4)\n",
    "LR1.fit(X_train, y_train)\n",
    "\n",
    "print(LR1.score(X_train, y_train))  # train score)\n",
    "print(LR1.score(X_test, y_test))   # test score)"
   ]
  },
  {
   "cell_type": "code",
   "execution_count": 332,
   "id": "7b364a8e",
   "metadata": {
    "id": "7b364a8e"
   },
   "outputs": [],
   "source": [
    "## leT'S Cross-Validate the Logistic Regression Model ?????\n",
    "from sklearn.model_selection import cross_val_score, cross_validate\n",
    "from sklearn.model_selection import StratifiedKFold"
   ]
  },
  {
   "cell_type": "code",
   "execution_count": 333,
   "id": "fcaf89c2",
   "metadata": {
    "id": "fcaf89c2"
   },
   "outputs": [],
   "source": [
    "X = CV_features\n",
    "y = data['label']"
   ]
  },
  {
   "cell_type": "code",
   "execution_count": 334,
   "id": "7c55927c",
   "metadata": {
    "colab": {
     "base_uri": "https://localhost:8080/"
    },
    "id": "7c55927c",
    "outputId": "f5ac4abc-bf52-411f-e530-e569e05d47cf"
   },
   "outputs": [
    {
     "name": "stdout",
     "output_type": "stream",
     "text": [
      "[0.88320707 0.86931818 0.87752525 0.89709596 0.88699495]\n",
      "88.28 0.93\n"
     ]
    }
   ],
   "source": [
    "## crOSS VALIDATE THE LR1 model\n",
    "\n",
    "LR1 = LogisticRegression(class_weight='balanced', solver='liblinear', penalty='l1', C=0.4)\n",
    "kfold = StratifiedKFold(n_splits=5, shuffle=True, random_state=42)\n",
    "results = cross_val_score(LR1, X, y, cv=kfold, scoring='accuracy')\n",
    "print(results)\n",
    "print(np.round((results.mean())*100, 2), np.round((results.std())*100, 2))"
   ]
  },
  {
   "cell_type": "code",
   "execution_count": 335,
   "id": "97d2ef36",
   "metadata": {
    "id": "97d2ef36"
   },
   "outputs": [],
   "source": [
    "# our's model accuracy = 88.23 +/- 0.93 %"
   ]
  },
  {
   "cell_type": "code",
   "execution_count": 336,
   "id": "3b5cbe8e",
   "metadata": {
    "id": "3b5cbe8e"
   },
   "outputs": [],
   "source": [
    "kfold = StratifiedKFold(n_splits=5, shuffle=True, random_state=42)\n",
    "results = cross_validate(LR1, X, y, cv=kfold, scoring='accuracy', return_train_score=True)"
   ]
  },
  {
   "cell_type": "code",
   "execution_count": 337,
   "id": "f4195164",
   "metadata": {
    "colab": {
     "base_uri": "https://localhost:8080/"
    },
    "id": "f4195164",
    "outputId": "75aa398c-4638-4fc9-fc20-54f47a04bc77"
   },
   "outputs": [
    {
     "data": {
      "text/plain": [
       "{'fit_time': array([0.04650283, 0.03934884, 0.03576279, 0.04397345, 0.05064058]),\n",
       " 'score_time': array([0.        , 0.00441623, 0.        , 0.        , 0.        ]),\n",
       " 'test_score': array([0.88320707, 0.86931818, 0.87752525, 0.89709596, 0.88699495]),\n",
       " 'train_score': array([0.90388258, 0.90909091, 0.9040404 , 0.90372475, 0.90451389])}"
      ]
     },
     "execution_count": 337,
     "metadata": {},
     "output_type": "execute_result"
    }
   ],
   "source": [
    "results"
   ]
  },
  {
   "cell_type": "code",
   "execution_count": 338,
   "id": "dbcf5a18",
   "metadata": {
    "colab": {
     "base_uri": "https://localhost:8080/"
    },
    "id": "dbcf5a18",
    "outputId": "63705053-45ae-4bf0-e7fb-ee1a3e3ba2b4"
   },
   "outputs": [
    {
     "name": "stdout",
     "output_type": "stream",
     "text": [
      "[0.90388258 0.90909091 0.9040404  0.90372475 0.90451389]\n",
      "90.51 0.2\n"
     ]
    }
   ],
   "source": [
    "print(results['train_score'])\n",
    "print(np.round((results['train_score'].mean())*100, 2), np.round((results['train_score'].std())*100, 2))"
   ]
  },
  {
   "cell_type": "code",
   "execution_count": 339,
   "id": "9762fdf9",
   "metadata": {
    "colab": {
     "base_uri": "https://localhost:8080/"
    },
    "id": "9762fdf9",
    "outputId": "bda9fb6e-f582-4f4e-a03b-5ef539defc12"
   },
   "outputs": [
    {
     "name": "stdout",
     "output_type": "stream",
     "text": [
      "[0.88320707 0.86931818 0.87752525 0.89709596 0.88699495]\n",
      "88.28 0.93\n"
     ]
    }
   ],
   "source": [
    "print(results['test_score'])\n",
    "print(np.round((results['test_score'].mean())*100, 2), np.round((results['test_score'].std())*100, 2))"
   ]
  },
  {
   "cell_type": "markdown",
   "id": "1d1407d8",
   "metadata": {
    "id": "1d1407d8"
   },
   "source": [
    "## Hyper parameter tuning of the LR1 model"
   ]
  },
  {
   "cell_type": "code",
   "execution_count": 340,
   "id": "0db78851",
   "metadata": {
    "colab": {
     "base_uri": "https://localhost:8080/"
    },
    "id": "0db78851",
    "outputId": "00470a1f-aad0-46c7-ddb9-32d9ca09ffcb"
   },
   "outputs": [
    {
     "name": "stdout",
     "output_type": "stream",
     "text": [
      "Fitting 5 folds for each of 20 candidates, totalling 100 fits\n"
     ]
    }
   ],
   "source": [
    "## Hyper parameter tuning of the LR1 model\n",
    "from sklearn.model_selection import GridSearchCV\n",
    "\n",
    "LR1 = LogisticRegression(class_weight='balanced', solver='liblinear', penalty='l1')\n",
    "\n",
    "C_values = np.arange(0.00001, 1, 0.05) # 20 values\n",
    "\n",
    "grid = GridSearchCV(estimator=LR1, param_grid={'C': C_values}, cv=kfold, scoring='accuracy', \\\n",
    "                    return_train_score=True, verbose=2, n_jobs=-1)\n",
    "grid_results = grid.fit(X,y)"
   ]
  },
  {
   "cell_type": "code",
   "execution_count": 341,
   "id": "443d5137",
   "metadata": {
    "colab": {
     "base_uri": "https://localhost:8080/",
     "height": 116
    },
    "id": "443d5137",
    "outputId": "39886b85-2771-450d-9afa-7b2cffe61786"
   },
   "outputs": [
    {
     "data": {
      "text/html": [
       "<style>#sk-container-id-5 {\n",
       "  /* Definition of color scheme common for light and dark mode */\n",
       "  --sklearn-color-text: black;\n",
       "  --sklearn-color-line: gray;\n",
       "  /* Definition of color scheme for unfitted estimators */\n",
       "  --sklearn-color-unfitted-level-0: #fff5e6;\n",
       "  --sklearn-color-unfitted-level-1: #f6e4d2;\n",
       "  --sklearn-color-unfitted-level-2: #ffe0b3;\n",
       "  --sklearn-color-unfitted-level-3: chocolate;\n",
       "  /* Definition of color scheme for fitted estimators */\n",
       "  --sklearn-color-fitted-level-0: #f0f8ff;\n",
       "  --sklearn-color-fitted-level-1: #d4ebff;\n",
       "  --sklearn-color-fitted-level-2: #b3dbfd;\n",
       "  --sklearn-color-fitted-level-3: cornflowerblue;\n",
       "\n",
       "  /* Specific color for light theme */\n",
       "  --sklearn-color-text-on-default-background: var(--sg-text-color, var(--theme-code-foreground, var(--jp-content-font-color1, black)));\n",
       "  --sklearn-color-background: var(--sg-background-color, var(--theme-background, var(--jp-layout-color0, white)));\n",
       "  --sklearn-color-border-box: var(--sg-text-color, var(--theme-code-foreground, var(--jp-content-font-color1, black)));\n",
       "  --sklearn-color-icon: #696969;\n",
       "\n",
       "  @media (prefers-color-scheme: dark) {\n",
       "    /* Redefinition of color scheme for dark theme */\n",
       "    --sklearn-color-text-on-default-background: var(--sg-text-color, var(--theme-code-foreground, var(--jp-content-font-color1, white)));\n",
       "    --sklearn-color-background: var(--sg-background-color, var(--theme-background, var(--jp-layout-color0, #111)));\n",
       "    --sklearn-color-border-box: var(--sg-text-color, var(--theme-code-foreground, var(--jp-content-font-color1, white)));\n",
       "    --sklearn-color-icon: #878787;\n",
       "  }\n",
       "}\n",
       "\n",
       "#sk-container-id-5 {\n",
       "  color: var(--sklearn-color-text);\n",
       "}\n",
       "\n",
       "#sk-container-id-5 pre {\n",
       "  padding: 0;\n",
       "}\n",
       "\n",
       "#sk-container-id-5 input.sk-hidden--visually {\n",
       "  border: 0;\n",
       "  clip: rect(1px 1px 1px 1px);\n",
       "  clip: rect(1px, 1px, 1px, 1px);\n",
       "  height: 1px;\n",
       "  margin: -1px;\n",
       "  overflow: hidden;\n",
       "  padding: 0;\n",
       "  position: absolute;\n",
       "  width: 1px;\n",
       "}\n",
       "\n",
       "#sk-container-id-5 div.sk-dashed-wrapped {\n",
       "  border: 1px dashed var(--sklearn-color-line);\n",
       "  margin: 0 0.4em 0.5em 0.4em;\n",
       "  box-sizing: border-box;\n",
       "  padding-bottom: 0.4em;\n",
       "  background-color: var(--sklearn-color-background);\n",
       "}\n",
       "\n",
       "#sk-container-id-5 div.sk-container {\n",
       "  /* jupyter's `normalize.less` sets `[hidden] { display: none; }`\n",
       "     but bootstrap.min.css set `[hidden] { display: none !important; }`\n",
       "     so we also need the `!important` here to be able to override the\n",
       "     default hidden behavior on the sphinx rendered scikit-learn.org.\n",
       "     See: https://github.com/scikit-learn/scikit-learn/issues/21755 */\n",
       "  display: inline-block !important;\n",
       "  position: relative;\n",
       "}\n",
       "\n",
       "#sk-container-id-5 div.sk-text-repr-fallback {\n",
       "  display: none;\n",
       "}\n",
       "\n",
       "div.sk-parallel-item,\n",
       "div.sk-serial,\n",
       "div.sk-item {\n",
       "  /* draw centered vertical line to link estimators */\n",
       "  background-image: linear-gradient(var(--sklearn-color-text-on-default-background), var(--sklearn-color-text-on-default-background));\n",
       "  background-size: 2px 100%;\n",
       "  background-repeat: no-repeat;\n",
       "  background-position: center center;\n",
       "}\n",
       "\n",
       "/* Parallel-specific style estimator block */\n",
       "\n",
       "#sk-container-id-5 div.sk-parallel-item::after {\n",
       "  content: \"\";\n",
       "  width: 100%;\n",
       "  border-bottom: 2px solid var(--sklearn-color-text-on-default-background);\n",
       "  flex-grow: 1;\n",
       "}\n",
       "\n",
       "#sk-container-id-5 div.sk-parallel {\n",
       "  display: flex;\n",
       "  align-items: stretch;\n",
       "  justify-content: center;\n",
       "  background-color: var(--sklearn-color-background);\n",
       "  position: relative;\n",
       "}\n",
       "\n",
       "#sk-container-id-5 div.sk-parallel-item {\n",
       "  display: flex;\n",
       "  flex-direction: column;\n",
       "}\n",
       "\n",
       "#sk-container-id-5 div.sk-parallel-item:first-child::after {\n",
       "  align-self: flex-end;\n",
       "  width: 50%;\n",
       "}\n",
       "\n",
       "#sk-container-id-5 div.sk-parallel-item:last-child::after {\n",
       "  align-self: flex-start;\n",
       "  width: 50%;\n",
       "}\n",
       "\n",
       "#sk-container-id-5 div.sk-parallel-item:only-child::after {\n",
       "  width: 0;\n",
       "}\n",
       "\n",
       "/* Serial-specific style estimator block */\n",
       "\n",
       "#sk-container-id-5 div.sk-serial {\n",
       "  display: flex;\n",
       "  flex-direction: column;\n",
       "  align-items: center;\n",
       "  background-color: var(--sklearn-color-background);\n",
       "  padding-right: 1em;\n",
       "  padding-left: 1em;\n",
       "}\n",
       "\n",
       "\n",
       "/* Toggleable style: style used for estimator/Pipeline/ColumnTransformer box that is\n",
       "clickable and can be expanded/collapsed.\n",
       "- Pipeline and ColumnTransformer use this feature and define the default style\n",
       "- Estimators will overwrite some part of the style using the `sk-estimator` class\n",
       "*/\n",
       "\n",
       "/* Pipeline and ColumnTransformer style (default) */\n",
       "\n",
       "#sk-container-id-5 div.sk-toggleable {\n",
       "  /* Default theme specific background. It is overwritten whether we have a\n",
       "  specific estimator or a Pipeline/ColumnTransformer */\n",
       "  background-color: var(--sklearn-color-background);\n",
       "}\n",
       "\n",
       "/* Toggleable label */\n",
       "#sk-container-id-5 label.sk-toggleable__label {\n",
       "  cursor: pointer;\n",
       "  display: block;\n",
       "  width: 100%;\n",
       "  margin-bottom: 0;\n",
       "  padding: 0.5em;\n",
       "  box-sizing: border-box;\n",
       "  text-align: center;\n",
       "}\n",
       "\n",
       "#sk-container-id-5 label.sk-toggleable__label-arrow:before {\n",
       "  /* Arrow on the left of the label */\n",
       "  content: \"▸\";\n",
       "  float: left;\n",
       "  margin-right: 0.25em;\n",
       "  color: var(--sklearn-color-icon);\n",
       "}\n",
       "\n",
       "#sk-container-id-5 label.sk-toggleable__label-arrow:hover:before {\n",
       "  color: var(--sklearn-color-text);\n",
       "}\n",
       "\n",
       "/* Toggleable content - dropdown */\n",
       "\n",
       "#sk-container-id-5 div.sk-toggleable__content {\n",
       "  max-height: 0;\n",
       "  max-width: 0;\n",
       "  overflow: hidden;\n",
       "  text-align: left;\n",
       "  /* unfitted */\n",
       "  background-color: var(--sklearn-color-unfitted-level-0);\n",
       "}\n",
       "\n",
       "#sk-container-id-5 div.sk-toggleable__content.fitted {\n",
       "  /* fitted */\n",
       "  background-color: var(--sklearn-color-fitted-level-0);\n",
       "}\n",
       "\n",
       "#sk-container-id-5 div.sk-toggleable__content pre {\n",
       "  margin: 0.2em;\n",
       "  border-radius: 0.25em;\n",
       "  color: var(--sklearn-color-text);\n",
       "  /* unfitted */\n",
       "  background-color: var(--sklearn-color-unfitted-level-0);\n",
       "}\n",
       "\n",
       "#sk-container-id-5 div.sk-toggleable__content.fitted pre {\n",
       "  /* unfitted */\n",
       "  background-color: var(--sklearn-color-fitted-level-0);\n",
       "}\n",
       "\n",
       "#sk-container-id-5 input.sk-toggleable__control:checked~div.sk-toggleable__content {\n",
       "  /* Expand drop-down */\n",
       "  max-height: 200px;\n",
       "  max-width: 100%;\n",
       "  overflow: auto;\n",
       "}\n",
       "\n",
       "#sk-container-id-5 input.sk-toggleable__control:checked~label.sk-toggleable__label-arrow:before {\n",
       "  content: \"▾\";\n",
       "}\n",
       "\n",
       "/* Pipeline/ColumnTransformer-specific style */\n",
       "\n",
       "#sk-container-id-5 div.sk-label input.sk-toggleable__control:checked~label.sk-toggleable__label {\n",
       "  color: var(--sklearn-color-text);\n",
       "  background-color: var(--sklearn-color-unfitted-level-2);\n",
       "}\n",
       "\n",
       "#sk-container-id-5 div.sk-label.fitted input.sk-toggleable__control:checked~label.sk-toggleable__label {\n",
       "  background-color: var(--sklearn-color-fitted-level-2);\n",
       "}\n",
       "\n",
       "/* Estimator-specific style */\n",
       "\n",
       "/* Colorize estimator box */\n",
       "#sk-container-id-5 div.sk-estimator input.sk-toggleable__control:checked~label.sk-toggleable__label {\n",
       "  /* unfitted */\n",
       "  background-color: var(--sklearn-color-unfitted-level-2);\n",
       "}\n",
       "\n",
       "#sk-container-id-5 div.sk-estimator.fitted input.sk-toggleable__control:checked~label.sk-toggleable__label {\n",
       "  /* fitted */\n",
       "  background-color: var(--sklearn-color-fitted-level-2);\n",
       "}\n",
       "\n",
       "#sk-container-id-5 div.sk-label label.sk-toggleable__label,\n",
       "#sk-container-id-5 div.sk-label label {\n",
       "  /* The background is the default theme color */\n",
       "  color: var(--sklearn-color-text-on-default-background);\n",
       "}\n",
       "\n",
       "/* On hover, darken the color of the background */\n",
       "#sk-container-id-5 div.sk-label:hover label.sk-toggleable__label {\n",
       "  color: var(--sklearn-color-text);\n",
       "  background-color: var(--sklearn-color-unfitted-level-2);\n",
       "}\n",
       "\n",
       "/* Label box, darken color on hover, fitted */\n",
       "#sk-container-id-5 div.sk-label.fitted:hover label.sk-toggleable__label.fitted {\n",
       "  color: var(--sklearn-color-text);\n",
       "  background-color: var(--sklearn-color-fitted-level-2);\n",
       "}\n",
       "\n",
       "/* Estimator label */\n",
       "\n",
       "#sk-container-id-5 div.sk-label label {\n",
       "  font-family: monospace;\n",
       "  font-weight: bold;\n",
       "  display: inline-block;\n",
       "  line-height: 1.2em;\n",
       "}\n",
       "\n",
       "#sk-container-id-5 div.sk-label-container {\n",
       "  text-align: center;\n",
       "}\n",
       "\n",
       "/* Estimator-specific */\n",
       "#sk-container-id-5 div.sk-estimator {\n",
       "  font-family: monospace;\n",
       "  border: 1px dotted var(--sklearn-color-border-box);\n",
       "  border-radius: 0.25em;\n",
       "  box-sizing: border-box;\n",
       "  margin-bottom: 0.5em;\n",
       "  /* unfitted */\n",
       "  background-color: var(--sklearn-color-unfitted-level-0);\n",
       "}\n",
       "\n",
       "#sk-container-id-5 div.sk-estimator.fitted {\n",
       "  /* fitted */\n",
       "  background-color: var(--sklearn-color-fitted-level-0);\n",
       "}\n",
       "\n",
       "/* on hover */\n",
       "#sk-container-id-5 div.sk-estimator:hover {\n",
       "  /* unfitted */\n",
       "  background-color: var(--sklearn-color-unfitted-level-2);\n",
       "}\n",
       "\n",
       "#sk-container-id-5 div.sk-estimator.fitted:hover {\n",
       "  /* fitted */\n",
       "  background-color: var(--sklearn-color-fitted-level-2);\n",
       "}\n",
       "\n",
       "/* Specification for estimator info (e.g. \"i\" and \"?\") */\n",
       "\n",
       "/* Common style for \"i\" and \"?\" */\n",
       "\n",
       ".sk-estimator-doc-link,\n",
       "a:link.sk-estimator-doc-link,\n",
       "a:visited.sk-estimator-doc-link {\n",
       "  float: right;\n",
       "  font-size: smaller;\n",
       "  line-height: 1em;\n",
       "  font-family: monospace;\n",
       "  background-color: var(--sklearn-color-background);\n",
       "  border-radius: 1em;\n",
       "  height: 1em;\n",
       "  width: 1em;\n",
       "  text-decoration: none !important;\n",
       "  margin-left: 1ex;\n",
       "  /* unfitted */\n",
       "  border: var(--sklearn-color-unfitted-level-1) 1pt solid;\n",
       "  color: var(--sklearn-color-unfitted-level-1);\n",
       "}\n",
       "\n",
       ".sk-estimator-doc-link.fitted,\n",
       "a:link.sk-estimator-doc-link.fitted,\n",
       "a:visited.sk-estimator-doc-link.fitted {\n",
       "  /* fitted */\n",
       "  border: var(--sklearn-color-fitted-level-1) 1pt solid;\n",
       "  color: var(--sklearn-color-fitted-level-1);\n",
       "}\n",
       "\n",
       "/* On hover */\n",
       "div.sk-estimator:hover .sk-estimator-doc-link:hover,\n",
       ".sk-estimator-doc-link:hover,\n",
       "div.sk-label-container:hover .sk-estimator-doc-link:hover,\n",
       ".sk-estimator-doc-link:hover {\n",
       "  /* unfitted */\n",
       "  background-color: var(--sklearn-color-unfitted-level-3);\n",
       "  color: var(--sklearn-color-background);\n",
       "  text-decoration: none;\n",
       "}\n",
       "\n",
       "div.sk-estimator.fitted:hover .sk-estimator-doc-link.fitted:hover,\n",
       ".sk-estimator-doc-link.fitted:hover,\n",
       "div.sk-label-container:hover .sk-estimator-doc-link.fitted:hover,\n",
       ".sk-estimator-doc-link.fitted:hover {\n",
       "  /* fitted */\n",
       "  background-color: var(--sklearn-color-fitted-level-3);\n",
       "  color: var(--sklearn-color-background);\n",
       "  text-decoration: none;\n",
       "}\n",
       "\n",
       "/* Span, style for the box shown on hovering the info icon */\n",
       ".sk-estimator-doc-link span {\n",
       "  display: none;\n",
       "  z-index: 9999;\n",
       "  position: relative;\n",
       "  font-weight: normal;\n",
       "  right: .2ex;\n",
       "  padding: .5ex;\n",
       "  margin: .5ex;\n",
       "  width: min-content;\n",
       "  min-width: 20ex;\n",
       "  max-width: 50ex;\n",
       "  color: var(--sklearn-color-text);\n",
       "  box-shadow: 2pt 2pt 4pt #999;\n",
       "  /* unfitted */\n",
       "  background: var(--sklearn-color-unfitted-level-0);\n",
       "  border: .5pt solid var(--sklearn-color-unfitted-level-3);\n",
       "}\n",
       "\n",
       ".sk-estimator-doc-link.fitted span {\n",
       "  /* fitted */\n",
       "  background: var(--sklearn-color-fitted-level-0);\n",
       "  border: var(--sklearn-color-fitted-level-3);\n",
       "}\n",
       "\n",
       ".sk-estimator-doc-link:hover span {\n",
       "  display: block;\n",
       "}\n",
       "\n",
       "/* \"?\"-specific style due to the `<a>` HTML tag */\n",
       "\n",
       "#sk-container-id-5 a.estimator_doc_link {\n",
       "  float: right;\n",
       "  font-size: 1rem;\n",
       "  line-height: 1em;\n",
       "  font-family: monospace;\n",
       "  background-color: var(--sklearn-color-background);\n",
       "  border-radius: 1rem;\n",
       "  height: 1rem;\n",
       "  width: 1rem;\n",
       "  text-decoration: none;\n",
       "  /* unfitted */\n",
       "  color: var(--sklearn-color-unfitted-level-1);\n",
       "  border: var(--sklearn-color-unfitted-level-1) 1pt solid;\n",
       "}\n",
       "\n",
       "#sk-container-id-5 a.estimator_doc_link.fitted {\n",
       "  /* fitted */\n",
       "  border: var(--sklearn-color-fitted-level-1) 1pt solid;\n",
       "  color: var(--sklearn-color-fitted-level-1);\n",
       "}\n",
       "\n",
       "/* On hover */\n",
       "#sk-container-id-5 a.estimator_doc_link:hover {\n",
       "  /* unfitted */\n",
       "  background-color: var(--sklearn-color-unfitted-level-3);\n",
       "  color: var(--sklearn-color-background);\n",
       "  text-decoration: none;\n",
       "}\n",
       "\n",
       "#sk-container-id-5 a.estimator_doc_link.fitted:hover {\n",
       "  /* fitted */\n",
       "  background-color: var(--sklearn-color-fitted-level-3);\n",
       "}\n",
       "</style><div id=\"sk-container-id-5\" class=\"sk-top-container\"><div class=\"sk-text-repr-fallback\"><pre>GridSearchCV(cv=StratifiedKFold(n_splits=5, random_state=42, shuffle=True),\n",
       "             estimator=LogisticRegression(class_weight=&#x27;balanced&#x27;, penalty=&#x27;l1&#x27;,\n",
       "                                          solver=&#x27;liblinear&#x27;),\n",
       "             n_jobs=-1,\n",
       "             param_grid={&#x27;C&#x27;: array([1.0000e-05, 5.0010e-02, 1.0001e-01, 1.5001e-01, 2.0001e-01,\n",
       "       2.5001e-01, 3.0001e-01, 3.5001e-01, 4.0001e-01, 4.5001e-01,\n",
       "       5.0001e-01, 5.5001e-01, 6.0001e-01, 6.5001e-01, 7.0001e-01,\n",
       "       7.5001e-01, 8.0001e-01, 8.5001e-01, 9.0001e-01, 9.5001e-01])},\n",
       "             return_train_score=True, scoring=&#x27;accuracy&#x27;, verbose=2)</pre><b>In a Jupyter environment, please rerun this cell to show the HTML representation or trust the notebook. <br />On GitHub, the HTML representation is unable to render, please try loading this page with nbviewer.org.</b></div><div class=\"sk-container\" hidden><div class=\"sk-item sk-dashed-wrapped\"><div class=\"sk-label-container\"><div class=\"sk-label fitted sk-toggleable\"><input class=\"sk-toggleable__control sk-hidden--visually\" id=\"sk-estimator-id-13\" type=\"checkbox\" ><label for=\"sk-estimator-id-13\" class=\"sk-toggleable__label fitted sk-toggleable__label-arrow fitted\">&nbsp;&nbsp;GridSearchCV<a class=\"sk-estimator-doc-link fitted\" rel=\"noreferrer\" target=\"_blank\" href=\"https://scikit-learn.org/1.4/modules/generated/sklearn.model_selection.GridSearchCV.html\">?<span>Documentation for GridSearchCV</span></a><span class=\"sk-estimator-doc-link fitted\">i<span>Fitted</span></span></label><div class=\"sk-toggleable__content fitted\"><pre>GridSearchCV(cv=StratifiedKFold(n_splits=5, random_state=42, shuffle=True),\n",
       "             estimator=LogisticRegression(class_weight=&#x27;balanced&#x27;, penalty=&#x27;l1&#x27;,\n",
       "                                          solver=&#x27;liblinear&#x27;),\n",
       "             n_jobs=-1,\n",
       "             param_grid={&#x27;C&#x27;: array([1.0000e-05, 5.0010e-02, 1.0001e-01, 1.5001e-01, 2.0001e-01,\n",
       "       2.5001e-01, 3.0001e-01, 3.5001e-01, 4.0001e-01, 4.5001e-01,\n",
       "       5.0001e-01, 5.5001e-01, 6.0001e-01, 6.5001e-01, 7.0001e-01,\n",
       "       7.5001e-01, 8.0001e-01, 8.5001e-01, 9.0001e-01, 9.5001e-01])},\n",
       "             return_train_score=True, scoring=&#x27;accuracy&#x27;, verbose=2)</pre></div> </div></div><div class=\"sk-parallel\"><div class=\"sk-parallel-item\"><div class=\"sk-item\"><div class=\"sk-label-container\"><div class=\"sk-label fitted sk-toggleable\"><input class=\"sk-toggleable__control sk-hidden--visually\" id=\"sk-estimator-id-14\" type=\"checkbox\" ><label for=\"sk-estimator-id-14\" class=\"sk-toggleable__label fitted sk-toggleable__label-arrow fitted\">estimator: LogisticRegression</label><div class=\"sk-toggleable__content fitted\"><pre>LogisticRegression(class_weight=&#x27;balanced&#x27;, penalty=&#x27;l1&#x27;, solver=&#x27;liblinear&#x27;)</pre></div> </div></div><div class=\"sk-serial\"><div class=\"sk-item\"><div class=\"sk-estimator fitted sk-toggleable\"><input class=\"sk-toggleable__control sk-hidden--visually\" id=\"sk-estimator-id-15\" type=\"checkbox\" ><label for=\"sk-estimator-id-15\" class=\"sk-toggleable__label fitted sk-toggleable__label-arrow fitted\">&nbsp;LogisticRegression<a class=\"sk-estimator-doc-link fitted\" rel=\"noreferrer\" target=\"_blank\" href=\"https://scikit-learn.org/1.4/modules/generated/sklearn.linear_model.LogisticRegression.html\">?<span>Documentation for LogisticRegression</span></a></label><div class=\"sk-toggleable__content fitted\"><pre>LogisticRegression(class_weight=&#x27;balanced&#x27;, penalty=&#x27;l1&#x27;, solver=&#x27;liblinear&#x27;)</pre></div> </div></div></div></div></div></div></div></div></div>"
      ],
      "text/plain": [
       "GridSearchCV(cv=StratifiedKFold(n_splits=5, random_state=42, shuffle=True),\n",
       "             estimator=LogisticRegression(class_weight='balanced', penalty='l1',\n",
       "                                          solver='liblinear'),\n",
       "             n_jobs=-1,\n",
       "             param_grid={'C': array([1.0000e-05, 5.0010e-02, 1.0001e-01, 1.5001e-01, 2.0001e-01,\n",
       "       2.5001e-01, 3.0001e-01, 3.5001e-01, 4.0001e-01, 4.5001e-01,\n",
       "       5.0001e-01, 5.5001e-01, 6.0001e-01, 6.5001e-01, 7.0001e-01,\n",
       "       7.5001e-01, 8.0001e-01, 8.5001e-01, 9.0001e-01, 9.5001e-01])},\n",
       "             return_train_score=True, scoring='accuracy', verbose=2)"
      ]
     },
     "execution_count": 341,
     "metadata": {},
     "output_type": "execute_result"
    }
   ],
   "source": [
    "grid_results"
   ]
  },
  {
   "cell_type": "code",
   "execution_count": 342,
   "id": "774eaa39",
   "metadata": {
    "colab": {
     "base_uri": "https://localhost:8080/"
    },
    "id": "774eaa39",
    "outputId": "1c2eef5d-c328-40d2-a6e7-20d06152a2fb"
   },
   "outputs": [
    {
     "data": {
      "text/plain": [
       "({'C': 0.95001}, 0.8905303030303029, 19)"
      ]
     },
     "execution_count": 342,
     "metadata": {},
     "output_type": "execute_result"
    }
   ],
   "source": [
    "grid_results.best_params_, grid_results.best_score_, grid_results.best_index_"
   ]
  },
  {
   "cell_type": "code",
   "execution_count": 343,
   "id": "f9061881",
   "metadata": {
    "colab": {
     "base_uri": "https://localhost:8080/"
    },
    "id": "f9061881",
    "outputId": "f0b76b84-f884-45fd-eeda-e4c02b4fea5c"
   },
   "outputs": [
    {
     "data": {
      "text/plain": [
       "dict_keys(['mean_fit_time', 'std_fit_time', 'mean_score_time', 'std_score_time', 'param_C', 'params', 'split0_test_score', 'split1_test_score', 'split2_test_score', 'split3_test_score', 'split4_test_score', 'mean_test_score', 'std_test_score', 'rank_test_score', 'split0_train_score', 'split1_train_score', 'split2_train_score', 'split3_train_score', 'split4_train_score', 'mean_train_score', 'std_train_score'])"
      ]
     },
     "execution_count": 343,
     "metadata": {},
     "output_type": "execute_result"
    }
   ],
   "source": [
    "grid_results.cv_results_.keys()"
   ]
  },
  {
   "cell_type": "code",
   "execution_count": 344,
   "id": "e986baef",
   "metadata": {
    "colab": {
     "base_uri": "https://localhost:8080/"
    },
    "id": "e986baef",
    "outputId": "31494e9b-b8a7-4cbc-ea4f-96e706e30d7d"
   },
   "outputs": [
    {
     "data": {
      "text/plain": [
       "89.05303030303028"
      ]
     },
     "execution_count": 344,
     "metadata": {},
     "output_type": "execute_result"
    }
   ],
   "source": [
    "grid_results.cv_results_['mean_test_score'][grid_results.best_index_]*100"
   ]
  },
  {
   "cell_type": "code",
   "execution_count": 345,
   "id": "f6302ce0",
   "metadata": {
    "colab": {
     "base_uri": "https://localhost:8080/"
    },
    "id": "f6302ce0",
    "outputId": "d4079d9d-3825-4426-eb4b-f1d7f7c57266"
   },
   "outputs": [
    {
     "data": {
      "text/plain": [
       "93.28282828282829"
      ]
     },
     "execution_count": 345,
     "metadata": {},
     "output_type": "execute_result"
    }
   ],
   "source": [
    "grid_results.cv_results_['mean_train_score'][grid_results.best_index_]*100\n",
    "\n",
    "# means your \"best-fitted\" model from GridsearchCV is (could be) still OVERFITTED!!!!!!!!!"
   ]
  },
  {
   "cell_type": "code",
   "execution_count": 346,
   "id": "8b424b9b",
   "metadata": {
    "colab": {
     "base_uri": "https://localhost:8080/"
    },
    "id": "8b424b9b",
    "outputId": "4c193356-da55-4fdb-9194-55517efe4af1"
   },
   "outputs": [
    {
     "data": {
      "text/plain": [
       "0.6616450760895921"
      ]
     },
     "execution_count": 346,
     "metadata": {},
     "output_type": "execute_result"
    }
   ],
   "source": [
    "grid_results.cv_results_['std_test_score'][grid_results.best_index_]*100"
   ]
  },
  {
   "cell_type": "code",
   "execution_count": 347,
   "id": "ef6fdcfa",
   "metadata": {
    "colab": {
     "base_uri": "https://localhost:8080/"
    },
    "id": "ef6fdcfa",
    "outputId": "840f9ddd-946b-4ad0-e3b5-0f1d3f550eeb"
   },
   "outputs": [
    {
     "data": {
      "text/plain": [
       "array([0.74419192, 0.84494949, 0.86338384, 0.87171717, 0.87537879,\n",
       "       0.8790404 , 0.88017677, 0.88156566, 0.88282828, 0.88497475,\n",
       "       0.88560606, 0.88661616, 0.88699495, 0.88876263, 0.88939394,\n",
       "       0.88901515, 0.8895202 , 0.88939394, 0.89015152, 0.8905303 ])"
      ]
     },
     "execution_count": 347,
     "metadata": {},
     "output_type": "execute_result"
    }
   ],
   "source": [
    "grid_results.cv_results_['mean_test_score']"
   ]
  },
  {
   "cell_type": "code",
   "execution_count": 348,
   "id": "b40bc4d2",
   "metadata": {
    "colab": {
     "base_uri": "https://localhost:8080/"
    },
    "id": "b40bc4d2",
    "outputId": "3a3260c6-2356-43f4-e614-246a3c714d31"
   },
   "outputs": [
    {
     "data": {
      "text/plain": [
       "array([0.74419192, 0.85      , 0.86998106, 0.8803346 , 0.88715278,\n",
       "       0.89232955, 0.89649621, 0.90094697, 0.90505051, 0.90811237,\n",
       "       0.91003788, 0.91344697, 0.91568813, 0.91856061, 0.92130682,\n",
       "       0.92332702, 0.92604167, 0.92856692, 0.93055556, 0.93282828])"
      ]
     },
     "execution_count": 348,
     "metadata": {},
     "output_type": "execute_result"
    }
   ],
   "source": [
    "grid_results.cv_results_['mean_train_score']"
   ]
  },
  {
   "cell_type": "code",
   "execution_count": 349,
   "id": "e611e951",
   "metadata": {
    "colab": {
     "base_uri": "https://localhost:8080/",
     "height": 447
    },
    "id": "e611e951",
    "outputId": "bd47aa98-0b38-473b-f667-39decaca35cb",
    "scrolled": true
   },
   "outputs": [
    {
     "data": {
      "text/plain": [
       "[<matplotlib.lines.Line2D at 0x1ec9a34ca70>]"
      ]
     },
     "execution_count": 349,
     "metadata": {},
     "output_type": "execute_result"
    },
    {
     "data": {
      "image/png": "[encoded data removed]",
      "text/plain": [
       "<Figure size 640x480 with 1 Axes>"
      ]
     },
     "metadata": {},
     "output_type": "display_data"
    }
   ],
   "source": [
    "plt.plot(grid_results.cv_results_['mean_train_score'] - grid_results.cv_results_['mean_test_score'])"
   ]
  },
  {
   "cell_type": "code",
   "execution_count": 350,
   "id": "c0b0f88b",
   "metadata": {
    "colab": {
     "base_uri": "https://localhost:8080/"
    },
    "id": "c0b0f88b",
    "outputId": "63c406f1-628a-4a4a-ffc8-a1b066cf7a3a"
   },
   "outputs": [
    {
     "data": {
      "text/plain": [
       "{'C': array([1.0000e-05, 5.0010e-02, 1.0001e-01, 1.5001e-01, 2.0001e-01,\n",
       "        2.5001e-01, 3.0001e-01, 3.5001e-01, 4.0001e-01, 4.5001e-01,\n",
       "        5.0001e-01, 5.5001e-01, 6.0001e-01, 6.5001e-01, 7.0001e-01,\n",
       "        7.5001e-01, 8.0001e-01, 8.5001e-01, 9.0001e-01, 9.5001e-01])}"
      ]
     },
     "execution_count": 350,
     "metadata": {},
     "output_type": "execute_result"
    }
   ],
   "source": [
    "grid_results.param_grid"
   ]
  },
  {
   "cell_type": "code",
   "execution_count": 351,
   "id": "d70a0c25",
   "metadata": {
    "colab": {
     "base_uri": "https://localhost:8080/"
    },
    "id": "d70a0c25",
    "outputId": "61330672-ed19-4922-8079-71ea502a5bac"
   },
   "outputs": [
    {
     "data": {
      "text/plain": [
       "0.15001000000000003"
      ]
     },
     "execution_count": 351,
     "metadata": {},
     "output_type": "execute_result"
    }
   ],
   "source": [
    "grid_results.param_grid['C'][3]"
   ]
  },
  {
   "cell_type": "code",
   "execution_count": 352,
   "id": "4b1898b1",
   "metadata": {
    "colab": {
     "base_uri": "https://localhost:8080/"
    },
    "id": "4b1898b1",
    "outputId": "65569720-ce3a-4d4b-b574-42b2dae86a10"
   },
   "outputs": [
    {
     "data": {
      "text/plain": [
       "array([-1.11022302e-16,  5.05050505e-03,  6.59722222e-03,  8.61742424e-03,\n",
       "        1.17739899e-02,  1.32891414e-02,  1.63194444e-02,  1.93813131e-02,\n",
       "        2.22222222e-02,  2.31376263e-02,  2.44318182e-02,  2.68308081e-02,\n",
       "        2.86931818e-02,  2.97979798e-02,  3.19128788e-02,  3.43118687e-02,\n",
       "        3.65214646e-02,  3.91729798e-02,  4.04040404e-02,  4.22979798e-02])"
      ]
     },
     "execution_count": 352,
     "metadata": {},
     "output_type": "execute_result"
    }
   ],
   "source": [
    "grid_results.cv_results_['mean_train_score'] - grid_results.cv_results_['mean_test_score']"
   ]
  },
  {
   "cell_type": "code",
   "execution_count": 353,
   "id": "683ca4f1",
   "metadata": {
    "colab": {
     "base_uri": "https://localhost:8080/"
    },
    "id": "683ca4f1",
    "outputId": "5041602b-fd5d-4524-f72c-09d20f6d1ebc"
   },
   "outputs": [
    {
     "name": "stdout",
     "output_type": "stream",
     "text": [
      "88.3 0.95\n"
     ]
    }
   ],
   "source": [
    "# Create a pipeline & cross-validate\n",
    "from sklearn.pipeline import make_pipeline, Pipeline\n",
    "\n",
    "X = data['cleaned_tweets_w/o_SW']\n",
    "y = data['label']\n",
    "\n",
    "CV = CountVectorizer()\n",
    "LR1 = LogisticRegression(class_weight='balanced', solver='liblinear', penalty='l1', C=0.4)\n",
    "\n",
    "CV_pipe = Pipeline([('CV', CV) , ('LR', LR1)] )\n",
    "\n",
    "results = cross_val_score(CV_pipe, X, y, cv=kfold, scoring='accuracy')\n",
    "print(np.round((results.mean())*100, 2), np.round((results.std())*100, 2))"
   ]
  },
  {
   "cell_type": "code",
   "execution_count": 354,
   "id": "ba6c19bb",
   "metadata": {
    "colab": {
     "base_uri": "https://localhost:8080/"
    },
    "id": "ba6c19bb",
    "outputId": "ff0ca33c-958c-43dc-e5d2-db6fe7a3df16"
   },
   "outputs": [
    {
     "data": {
      "text/plain": [
       "{'CV': CountVectorizer(),\n",
       " 'LR': LogisticRegression(C=0.4, class_weight='balanced', penalty='l1',\n",
       "                    solver='liblinear')}"
      ]
     },
     "execution_count": 354,
     "metadata": {},
     "output_type": "execute_result"
    }
   ],
   "source": [
    "CV_pipe.named_steps"
   ]
  },
  {
   "cell_type": "code",
   "execution_count": 355,
   "id": "6820a163",
   "metadata": {
    "colab": {
     "base_uri": "https://localhost:8080/",
     "height": 124
    },
    "id": "6820a163",
    "outputId": "4ef11727-2d76-490d-9885-2a4700ab0849"
   },
   "outputs": [
    {
     "data": {
      "text/html": [
       "<style>#sk-container-id-6 {\n",
       "  /* Definition of color scheme common for light and dark mode */\n",
       "  --sklearn-color-text: black;\n",
       "  --sklearn-color-line: gray;\n",
       "  /* Definition of color scheme for unfitted estimators */\n",
       "  --sklearn-color-unfitted-level-0: #fff5e6;\n",
       "  --sklearn-color-unfitted-level-1: #f6e4d2;\n",
       "  --sklearn-color-unfitted-level-2: #ffe0b3;\n",
       "  --sklearn-color-unfitted-level-3: chocolate;\n",
       "  /* Definition of color scheme for fitted estimators */\n",
       "  --sklearn-color-fitted-level-0: #f0f8ff;\n",
       "  --sklearn-color-fitted-level-1: #d4ebff;\n",
       "  --sklearn-color-fitted-level-2: #b3dbfd;\n",
       "  --sklearn-color-fitted-level-3: cornflowerblue;\n",
       "\n",
       "  /* Specific color for light theme */\n",
       "  --sklearn-color-text-on-default-background: var(--sg-text-color, var(--theme-code-foreground, var(--jp-content-font-color1, black)));\n",
       "  --sklearn-color-background: var(--sg-background-color, var(--theme-background, var(--jp-layout-color0, white)));\n",
       "  --sklearn-color-border-box: var(--sg-text-color, var(--theme-code-foreground, var(--jp-content-font-color1, black)));\n",
       "  --sklearn-color-icon: #696969;\n",
       "\n",
       "  @media (prefers-color-scheme: dark) {\n",
       "    /* Redefinition of color scheme for dark theme */\n",
       "    --sklearn-color-text-on-default-background: var(--sg-text-color, var(--theme-code-foreground, var(--jp-content-font-color1, white)));\n",
       "    --sklearn-color-background: var(--sg-background-color, var(--theme-background, var(--jp-layout-color0, #111)));\n",
       "    --sklearn-color-border-box: var(--sg-text-color, var(--theme-code-foreground, var(--jp-content-font-color1, white)));\n",
       "    --sklearn-color-icon: #878787;\n",
       "  }\n",
       "}\n",
       "\n",
       "#sk-container-id-6 {\n",
       "  color: var(--sklearn-color-text);\n",
       "}\n",
       "\n",
       "#sk-container-id-6 pre {\n",
       "  padding: 0;\n",
       "}\n",
       "\n",
       "#sk-container-id-6 input.sk-hidden--visually {\n",
       "  border: 0;\n",
       "  clip: rect(1px 1px 1px 1px);\n",
       "  clip: rect(1px, 1px, 1px, 1px);\n",
       "  height: 1px;\n",
       "  margin: -1px;\n",
       "  overflow: hidden;\n",
       "  padding: 0;\n",
       "  position: absolute;\n",
       "  width: 1px;\n",
       "}\n",
       "\n",
       "#sk-container-id-6 div.sk-dashed-wrapped {\n",
       "  border: 1px dashed var(--sklearn-color-line);\n",
       "  margin: 0 0.4em 0.5em 0.4em;\n",
       "  box-sizing: border-box;\n",
       "  padding-bottom: 0.4em;\n",
       "  background-color: var(--sklearn-color-background);\n",
       "}\n",
       "\n",
       "#sk-container-id-6 div.sk-container {\n",
       "  /* jupyter's `normalize.less` sets `[hidden] { display: none; }`\n",
       "     but bootstrap.min.css set `[hidden] { display: none !important; }`\n",
       "     so we also need the `!important` here to be able to override the\n",
       "     default hidden behavior on the sphinx rendered scikit-learn.org.\n",
       "     See: https://github.com/scikit-learn/scikit-learn/issues/21755 */\n",
       "  display: inline-block !important;\n",
       "  position: relative;\n",
       "}\n",
       "\n",
       "#sk-container-id-6 div.sk-text-repr-fallback {\n",
       "  display: none;\n",
       "}\n",
       "\n",
       "div.sk-parallel-item,\n",
       "div.sk-serial,\n",
       "div.sk-item {\n",
       "  /* draw centered vertical line to link estimators */\n",
       "  background-image: linear-gradient(var(--sklearn-color-text-on-default-background), var(--sklearn-color-text-on-default-background));\n",
       "  background-size: 2px 100%;\n",
       "  background-repeat: no-repeat;\n",
       "  background-position: center center;\n",
       "}\n",
       "\n",
       "/* Parallel-specific style estimator block */\n",
       "\n",
       "#sk-container-id-6 div.sk-parallel-item::after {\n",
       "  content: \"\";\n",
       "  width: 100%;\n",
       "  border-bottom: 2px solid var(--sklearn-color-text-on-default-background);\n",
       "  flex-grow: 1;\n",
       "}\n",
       "\n",
       "#sk-container-id-6 div.sk-parallel {\n",
       "  display: flex;\n",
       "  align-items: stretch;\n",
       "  justify-content: center;\n",
       "  background-color: var(--sklearn-color-background);\n",
       "  position: relative;\n",
       "}\n",
       "\n",
       "#sk-container-id-6 div.sk-parallel-item {\n",
       "  display: flex;\n",
       "  flex-direction: column;\n",
       "}\n",
       "\n",
       "#sk-container-id-6 div.sk-parallel-item:first-child::after {\n",
       "  align-self: flex-end;\n",
       "  width: 50%;\n",
       "}\n",
       "\n",
       "#sk-container-id-6 div.sk-parallel-item:last-child::after {\n",
       "  align-self: flex-start;\n",
       "  width: 50%;\n",
       "}\n",
       "\n",
       "#sk-container-id-6 div.sk-parallel-item:only-child::after {\n",
       "  width: 0;\n",
       "}\n",
       "\n",
       "/* Serial-specific style estimator block */\n",
       "\n",
       "#sk-container-id-6 div.sk-serial {\n",
       "  display: flex;\n",
       "  flex-direction: column;\n",
       "  align-items: center;\n",
       "  background-color: var(--sklearn-color-background);\n",
       "  padding-right: 1em;\n",
       "  padding-left: 1em;\n",
       "}\n",
       "\n",
       "\n",
       "/* Toggleable style: style used for estimator/Pipeline/ColumnTransformer box that is\n",
       "clickable and can be expanded/collapsed.\n",
       "- Pipeline and ColumnTransformer use this feature and define the default style\n",
       "- Estimators will overwrite some part of the style using the `sk-estimator` class\n",
       "*/\n",
       "\n",
       "/* Pipeline and ColumnTransformer style (default) */\n",
       "\n",
       "#sk-container-id-6 div.sk-toggleable {\n",
       "  /* Default theme specific background. It is overwritten whether we have a\n",
       "  specific estimator or a Pipeline/ColumnTransformer */\n",
       "  background-color: var(--sklearn-color-background);\n",
       "}\n",
       "\n",
       "/* Toggleable label */\n",
       "#sk-container-id-6 label.sk-toggleable__label {\n",
       "  cursor: pointer;\n",
       "  display: block;\n",
       "  width: 100%;\n",
       "  margin-bottom: 0;\n",
       "  padding: 0.5em;\n",
       "  box-sizing: border-box;\n",
       "  text-align: center;\n",
       "}\n",
       "\n",
       "#sk-container-id-6 label.sk-toggleable__label-arrow:before {\n",
       "  /* Arrow on the left of the label */\n",
       "  content: \"▸\";\n",
       "  float: left;\n",
       "  margin-right: 0.25em;\n",
       "  color: var(--sklearn-color-icon);\n",
       "}\n",
       "\n",
       "#sk-container-id-6 label.sk-toggleable__label-arrow:hover:before {\n",
       "  color: var(--sklearn-color-text);\n",
       "}\n",
       "\n",
       "/* Toggleable content - dropdown */\n",
       "\n",
       "#sk-container-id-6 div.sk-toggleable__content {\n",
       "  max-height: 0;\n",
       "  max-width: 0;\n",
       "  overflow: hidden;\n",
       "  text-align: left;\n",
       "  /* unfitted */\n",
       "  background-color: var(--sklearn-color-unfitted-level-0);\n",
       "}\n",
       "\n",
       "#sk-container-id-6 div.sk-toggleable__content.fitted {\n",
       "  /* fitted */\n",
       "  background-color: var(--sklearn-color-fitted-level-0);\n",
       "}\n",
       "\n",
       "#sk-container-id-6 div.sk-toggleable__content pre {\n",
       "  margin: 0.2em;\n",
       "  border-radius: 0.25em;\n",
       "  color: var(--sklearn-color-text);\n",
       "  /* unfitted */\n",
       "  background-color: var(--sklearn-color-unfitted-level-0);\n",
       "}\n",
       "\n",
       "#sk-container-id-6 div.sk-toggleable__content.fitted pre {\n",
       "  /* unfitted */\n",
       "  background-color: var(--sklearn-color-fitted-level-0);\n",
       "}\n",
       "\n",
       "#sk-container-id-6 input.sk-toggleable__control:checked~div.sk-toggleable__content {\n",
       "  /* Expand drop-down */\n",
       "  max-height: 200px;\n",
       "  max-width: 100%;\n",
       "  overflow: auto;\n",
       "}\n",
       "\n",
       "#sk-container-id-6 input.sk-toggleable__control:checked~label.sk-toggleable__label-arrow:before {\n",
       "  content: \"▾\";\n",
       "}\n",
       "\n",
       "/* Pipeline/ColumnTransformer-specific style */\n",
       "\n",
       "#sk-container-id-6 div.sk-label input.sk-toggleable__control:checked~label.sk-toggleable__label {\n",
       "  color: var(--sklearn-color-text);\n",
       "  background-color: var(--sklearn-color-unfitted-level-2);\n",
       "}\n",
       "\n",
       "#sk-container-id-6 div.sk-label.fitted input.sk-toggleable__control:checked~label.sk-toggleable__label {\n",
       "  background-color: var(--sklearn-color-fitted-level-2);\n",
       "}\n",
       "\n",
       "/* Estimator-specific style */\n",
       "\n",
       "/* Colorize estimator box */\n",
       "#sk-container-id-6 div.sk-estimator input.sk-toggleable__control:checked~label.sk-toggleable__label {\n",
       "  /* unfitted */\n",
       "  background-color: var(--sklearn-color-unfitted-level-2);\n",
       "}\n",
       "\n",
       "#sk-container-id-6 div.sk-estimator.fitted input.sk-toggleable__control:checked~label.sk-toggleable__label {\n",
       "  /* fitted */\n",
       "  background-color: var(--sklearn-color-fitted-level-2);\n",
       "}\n",
       "\n",
       "#sk-container-id-6 div.sk-label label.sk-toggleable__label,\n",
       "#sk-container-id-6 div.sk-label label {\n",
       "  /* The background is the default theme color */\n",
       "  color: var(--sklearn-color-text-on-default-background);\n",
       "}\n",
       "\n",
       "/* On hover, darken the color of the background */\n",
       "#sk-container-id-6 div.sk-label:hover label.sk-toggleable__label {\n",
       "  color: var(--sklearn-color-text);\n",
       "  background-color: var(--sklearn-color-unfitted-level-2);\n",
       "}\n",
       "\n",
       "/* Label box, darken color on hover, fitted */\n",
       "#sk-container-id-6 div.sk-label.fitted:hover label.sk-toggleable__label.fitted {\n",
       "  color: var(--sklearn-color-text);\n",
       "  background-color: var(--sklearn-color-fitted-level-2);\n",
       "}\n",
       "\n",
       "/* Estimator label */\n",
       "\n",
       "#sk-container-id-6 div.sk-label label {\n",
       "  font-family: monospace;\n",
       "  font-weight: bold;\n",
       "  display: inline-block;\n",
       "  line-height: 1.2em;\n",
       "}\n",
       "\n",
       "#sk-container-id-6 div.sk-label-container {\n",
       "  text-align: center;\n",
       "}\n",
       "\n",
       "/* Estimator-specific */\n",
       "#sk-container-id-6 div.sk-estimator {\n",
       "  font-family: monospace;\n",
       "  border: 1px dotted var(--sklearn-color-border-box);\n",
       "  border-radius: 0.25em;\n",
       "  box-sizing: border-box;\n",
       "  margin-bottom: 0.5em;\n",
       "  /* unfitted */\n",
       "  background-color: var(--sklearn-color-unfitted-level-0);\n",
       "}\n",
       "\n",
       "#sk-container-id-6 div.sk-estimator.fitted {\n",
       "  /* fitted */\n",
       "  background-color: var(--sklearn-color-fitted-level-0);\n",
       "}\n",
       "\n",
       "/* on hover */\n",
       "#sk-container-id-6 div.sk-estimator:hover {\n",
       "  /* unfitted */\n",
       "  background-color: var(--sklearn-color-unfitted-level-2);\n",
       "}\n",
       "\n",
       "#sk-container-id-6 div.sk-estimator.fitted:hover {\n",
       "  /* fitted */\n",
       "  background-color: var(--sklearn-color-fitted-level-2);\n",
       "}\n",
       "\n",
       "/* Specification for estimator info (e.g. \"i\" and \"?\") */\n",
       "\n",
       "/* Common style for \"i\" and \"?\" */\n",
       "\n",
       ".sk-estimator-doc-link,\n",
       "a:link.sk-estimator-doc-link,\n",
       "a:visited.sk-estimator-doc-link {\n",
       "  float: right;\n",
       "  font-size: smaller;\n",
       "  line-height: 1em;\n",
       "  font-family: monospace;\n",
       "  background-color: var(--sklearn-color-background);\n",
       "  border-radius: 1em;\n",
       "  height: 1em;\n",
       "  width: 1em;\n",
       "  text-decoration: none !important;\n",
       "  margin-left: 1ex;\n",
       "  /* unfitted */\n",
       "  border: var(--sklearn-color-unfitted-level-1) 1pt solid;\n",
       "  color: var(--sklearn-color-unfitted-level-1);\n",
       "}\n",
       "\n",
       ".sk-estimator-doc-link.fitted,\n",
       "a:link.sk-estimator-doc-link.fitted,\n",
       "a:visited.sk-estimator-doc-link.fitted {\n",
       "  /* fitted */\n",
       "  border: var(--sklearn-color-fitted-level-1) 1pt solid;\n",
       "  color: var(--sklearn-color-fitted-level-1);\n",
       "}\n",
       "\n",
       "/* On hover */\n",
       "div.sk-estimator:hover .sk-estimator-doc-link:hover,\n",
       ".sk-estimator-doc-link:hover,\n",
       "div.sk-label-container:hover .sk-estimator-doc-link:hover,\n",
       ".sk-estimator-doc-link:hover {\n",
       "  /* unfitted */\n",
       "  background-color: var(--sklearn-color-unfitted-level-3);\n",
       "  color: var(--sklearn-color-background);\n",
       "  text-decoration: none;\n",
       "}\n",
       "\n",
       "div.sk-estimator.fitted:hover .sk-estimator-doc-link.fitted:hover,\n",
       ".sk-estimator-doc-link.fitted:hover,\n",
       "div.sk-label-container:hover .sk-estimator-doc-link.fitted:hover,\n",
       ".sk-estimator-doc-link.fitted:hover {\n",
       "  /* fitted */\n",
       "  background-color: var(--sklearn-color-fitted-level-3);\n",
       "  color: var(--sklearn-color-background);\n",
       "  text-decoration: none;\n",
       "}\n",
       "\n",
       "/* Span, style for the box shown on hovering the info icon */\n",
       ".sk-estimator-doc-link span {\n",
       "  display: none;\n",
       "  z-index: 9999;\n",
       "  position: relative;\n",
       "  font-weight: normal;\n",
       "  right: .2ex;\n",
       "  padding: .5ex;\n",
       "  margin: .5ex;\n",
       "  width: min-content;\n",
       "  min-width: 20ex;\n",
       "  max-width: 50ex;\n",
       "  color: var(--sklearn-color-text);\n",
       "  box-shadow: 2pt 2pt 4pt #999;\n",
       "  /* unfitted */\n",
       "  background: var(--sklearn-color-unfitted-level-0);\n",
       "  border: .5pt solid var(--sklearn-color-unfitted-level-3);\n",
       "}\n",
       "\n",
       ".sk-estimator-doc-link.fitted span {\n",
       "  /* fitted */\n",
       "  background: var(--sklearn-color-fitted-level-0);\n",
       "  border: var(--sklearn-color-fitted-level-3);\n",
       "}\n",
       "\n",
       ".sk-estimator-doc-link:hover span {\n",
       "  display: block;\n",
       "}\n",
       "\n",
       "/* \"?\"-specific style due to the `<a>` HTML tag */\n",
       "\n",
       "#sk-container-id-6 a.estimator_doc_link {\n",
       "  float: right;\n",
       "  font-size: 1rem;\n",
       "  line-height: 1em;\n",
       "  font-family: monospace;\n",
       "  background-color: var(--sklearn-color-background);\n",
       "  border-radius: 1rem;\n",
       "  height: 1rem;\n",
       "  width: 1rem;\n",
       "  text-decoration: none;\n",
       "  /* unfitted */\n",
       "  color: var(--sklearn-color-unfitted-level-1);\n",
       "  border: var(--sklearn-color-unfitted-level-1) 1pt solid;\n",
       "}\n",
       "\n",
       "#sk-container-id-6 a.estimator_doc_link.fitted {\n",
       "  /* fitted */\n",
       "  border: var(--sklearn-color-fitted-level-1) 1pt solid;\n",
       "  color: var(--sklearn-color-fitted-level-1);\n",
       "}\n",
       "\n",
       "/* On hover */\n",
       "#sk-container-id-6 a.estimator_doc_link:hover {\n",
       "  /* unfitted */\n",
       "  background-color: var(--sklearn-color-unfitted-level-3);\n",
       "  color: var(--sklearn-color-background);\n",
       "  text-decoration: none;\n",
       "}\n",
       "\n",
       "#sk-container-id-6 a.estimator_doc_link.fitted:hover {\n",
       "  /* fitted */\n",
       "  background-color: var(--sklearn-color-fitted-level-3);\n",
       "}\n",
       "</style><div id=\"sk-container-id-6\" class=\"sk-top-container\"><div class=\"sk-text-repr-fallback\"><pre>Pipeline(steps=[(&#x27;CV&#x27;, CountVectorizer()),\n",
       "                (&#x27;LR&#x27;,\n",
       "                 LogisticRegression(C=0.4, class_weight=&#x27;balanced&#x27;,\n",
       "                                    penalty=&#x27;l1&#x27;, solver=&#x27;liblinear&#x27;))])</pre><b>In a Jupyter environment, please rerun this cell to show the HTML representation or trust the notebook. <br />On GitHub, the HTML representation is unable to render, please try loading this page with nbviewer.org.</b></div><div class=\"sk-container\" hidden><div class=\"sk-item sk-dashed-wrapped\"><div class=\"sk-label-container\"><div class=\"sk-label fitted sk-toggleable\"><input class=\"sk-toggleable__control sk-hidden--visually\" id=\"sk-estimator-id-16\" type=\"checkbox\" ><label for=\"sk-estimator-id-16\" class=\"sk-toggleable__label fitted sk-toggleable__label-arrow fitted\">&nbsp;&nbsp;Pipeline<a class=\"sk-estimator-doc-link fitted\" rel=\"noreferrer\" target=\"_blank\" href=\"https://scikit-learn.org/1.4/modules/generated/sklearn.pipeline.Pipeline.html\">?<span>Documentation for Pipeline</span></a><span class=\"sk-estimator-doc-link fitted\">i<span>Fitted</span></span></label><div class=\"sk-toggleable__content fitted\"><pre>Pipeline(steps=[(&#x27;CV&#x27;, CountVectorizer()),\n",
       "                (&#x27;LR&#x27;,\n",
       "                 LogisticRegression(C=0.4, class_weight=&#x27;balanced&#x27;,\n",
       "                                    penalty=&#x27;l1&#x27;, solver=&#x27;liblinear&#x27;))])</pre></div> </div></div><div class=\"sk-serial\"><div class=\"sk-item\"><div class=\"sk-estimator fitted sk-toggleable\"><input class=\"sk-toggleable__control sk-hidden--visually\" id=\"sk-estimator-id-17\" type=\"checkbox\" ><label for=\"sk-estimator-id-17\" class=\"sk-toggleable__label fitted sk-toggleable__label-arrow fitted\">&nbsp;CountVectorizer<a class=\"sk-estimator-doc-link fitted\" rel=\"noreferrer\" target=\"_blank\" href=\"https://scikit-learn.org/1.4/modules/generated/sklearn.feature_extraction.text.CountVectorizer.html\">?<span>Documentation for CountVectorizer</span></a></label><div class=\"sk-toggleable__content fitted\"><pre>CountVectorizer()</pre></div> </div></div><div class=\"sk-item\"><div class=\"sk-estimator fitted sk-toggleable\"><input class=\"sk-toggleable__control sk-hidden--visually\" id=\"sk-estimator-id-18\" type=\"checkbox\" ><label for=\"sk-estimator-id-18\" class=\"sk-toggleable__label fitted sk-toggleable__label-arrow fitted\">&nbsp;LogisticRegression<a class=\"sk-estimator-doc-link fitted\" rel=\"noreferrer\" target=\"_blank\" href=\"https://scikit-learn.org/1.4/modules/generated/sklearn.linear_model.LogisticRegression.html\">?<span>Documentation for LogisticRegression</span></a></label><div class=\"sk-toggleable__content fitted\"><pre>LogisticRegression(C=0.4, class_weight=&#x27;balanced&#x27;, penalty=&#x27;l1&#x27;,\n",
       "                   solver=&#x27;liblinear&#x27;)</pre></div> </div></div></div></div></div></div>"
      ],
      "text/plain": [
       "Pipeline(steps=[('CV', CountVectorizer()),\n",
       "                ('LR',\n",
       "                 LogisticRegression(C=0.4, class_weight='balanced',\n",
       "                                    penalty='l1', solver='liblinear'))])"
      ]
     },
     "execution_count": 355,
     "metadata": {},
     "output_type": "execute_result"
    }
   ],
   "source": [
    "CV_pipe.fit(X,y)"
   ]
  },
  {
   "cell_type": "code",
   "execution_count": 356,
   "id": "17a39f4e",
   "metadata": {
    "colab": {
     "base_uri": "https://localhost:8080/"
    },
    "id": "17a39f4e",
    "outputId": "31ab6e53-df67-436a-9857-2f65de2ba00b"
   },
   "outputs": [
    {
     "data": {
      "text/plain": [
       "15955"
      ]
     },
     "execution_count": 356,
     "metadata": {},
     "output_type": "execute_result"
    }
   ],
   "source": [
    "len(CV_pipe['CV'].vocabulary_)  # CV with stopwords applied already & word_len > 2"
   ]
  },
  {
   "cell_type": "code",
   "execution_count": 357,
   "id": "b498e1e8",
   "metadata": {
    "id": "b498e1e8"
   },
   "outputs": [],
   "source": [
    "# print(CV_pipe['CV'].vocabulary_)"
   ]
  },
  {
   "cell_type": "markdown",
   "id": "3cb2eae1",
   "metadata": {
    "id": "3cb2eae1"
   },
   "source": [
    "# 6. LR Model without vs with stop_words ??"
   ]
  },
  {
   "cell_type": "code",
   "execution_count": 358,
   "id": "12a440e2",
   "metadata": {
    "colab": {
     "base_uri": "https://localhost:8080/"
    },
    "id": "12a440e2",
    "outputId": "4c7adc61-603e-4159-a8f1-7c77edc6897a"
   },
   "outputs": [
    {
     "name": "stdout",
     "output_type": "stream",
     "text": [
      "86.87 1.07\n"
     ]
    },
    {
     "data": {
      "text/plain": [
       "15673"
      ]
     },
     "execution_count": 358,
     "metadata": {},
     "output_type": "execute_result"
    }
   ],
   "source": [
    "# Create a pipeline & cross-validate\n",
    "from sklearn.pipeline import make_pipeline, Pipeline\n",
    "\n",
    "X = data['cleaned_tweets_w/o_SW']\n",
    "y = data['label']\n",
    "#applied the stopwords by using the argument in count vectorizer\n",
    "CV = CountVectorizer(stop_words=final_stopwords)\n",
    "LR1 = LogisticRegression(class_weight='balanced', solver='liblinear', penalty='l1', C=0.4)\n",
    "\n",
    "CV_pipe = Pipeline([('CV', CV) , ('LR', LR1)] )\n",
    "\n",
    "results = cross_val_score(CV_pipe, X, y, cv=kfold, scoring='accuracy')\n",
    "print(np.round((results.mean())*100, 2), np.round((results.std())*100, 2))\n",
    "\n",
    "CV_pipe.fit(X,y)\n",
    "len(CV_pipe['CV'].vocabulary_)"
   ]
  },
  {
   "cell_type": "code",
   "execution_count": null,
   "id": "783a68f8",
   "metadata": {
    "id": "783a68f8"
   },
   "outputs": [],
   "source": []
  },
  {
   "cell_type": "code",
   "execution_count": 359,
   "id": "7f3c229f",
   "metadata": {
    "colab": {
     "base_uri": "https://localhost:8080/"
    },
    "id": "7f3c229f",
    "outputId": "3ec10a17-899f-4a28-e353-c8aa254de45c"
   },
   "outputs": [
    {
     "name": "stdout",
     "output_type": "stream",
     "text": [
      "86.78 1.04\n"
     ]
    },
    {
     "data": {
      "text/plain": [
       "1086"
      ]
     },
     "execution_count": 359,
     "metadata": {},
     "output_type": "execute_result"
    }
   ],
   "source": [
    "# Create a pipeline & cross-validate\n",
    "from sklearn.pipeline import make_pipeline, Pipeline\n",
    "\n",
    "X = data['cleaned_tweets_w/o_SW']\n",
    "y = data['label']\n",
    "\n",
    "CV = CountVectorizer(stop_words=final_stopwords, min_df=10, max_features=None)\n",
    "LR1 = LogisticRegression(class_weight='balanced', solver='liblinear', penalty='l1', C=0.4)\n",
    "\n",
    "CV_pipe = Pipeline([('CV', CV) , ('LR', LR1)] )\n",
    "\n",
    "results = cross_val_score(CV_pipe, X, y, cv=kfold, scoring='accuracy')\n",
    "print(np.round((results.mean())*100, 2), np.round((results.std())*100, 2))\n",
    "\n",
    "CV_pipe.fit(X,y)\n",
    "len(CV_pipe['CV'].vocabulary_)"
   ]
  },
  {
   "cell_type": "code",
   "execution_count": null,
   "id": "a3de4b3b",
   "metadata": {
    "id": "a3de4b3b"
   },
   "outputs": [],
   "source": []
  },
  {
   "cell_type": "code",
   "execution_count": 360,
   "id": "d2100b72",
   "metadata": {
    "colab": {
     "base_uri": "https://localhost:8080/"
    },
    "id": "d2100b72",
    "outputId": "1c20bc45-998a-4b1c-cc2f-afb9ad98af96"
   },
   "outputs": [
    {
     "name": "stdout",
     "output_type": "stream",
     "text": [
      "85.23 1.28\n"
     ]
    },
    {
     "data": {
      "text/plain": [
       "300"
      ]
     },
     "execution_count": 360,
     "metadata": {},
     "output_type": "execute_result"
    }
   ],
   "source": [
    "# Create a pipeline & cross-validate\n",
    "from sklearn.pipeline import make_pipeline, Pipeline\n",
    "\n",
    "X = data['cleaned_tweets_w/o_SW']\n",
    "y = data['label']\n",
    "\n",
    "CV = CountVectorizer(stop_words=final_stopwords, min_df=10, max_features=300)\n",
    "LR1 = LogisticRegression(class_weight='balanced', solver='liblinear', penalty='l1', C=0.4)\n",
    "\n",
    "CV_pipe = Pipeline([('CV', CV) , ('LR', LR1)] )\n",
    "\n",
    "results = cross_val_score(CV_pipe, X, y, cv=kfold, scoring='accuracy')\n",
    "print(np.round((results.mean())*100, 2), np.round((results.std())*100, 2))\n",
    "\n",
    "CV_pipe.fit(X,y)\n",
    "len(CV_pipe['CV'].vocabulary_)"
   ]
  },
  {
   "cell_type": "code",
   "execution_count": null,
   "id": "ea6ec811",
   "metadata": {
    "id": "ea6ec811"
   },
   "outputs": [],
   "source": []
  },
  {
   "cell_type": "markdown",
   "id": "83a79b75",
   "metadata": {
    "id": "83a79b75"
   },
   "source": [
    "# 7. TF-IDF Vector BoW Model + Logistic Regression"
   ]
  },
  {
   "cell_type": "code",
   "execution_count": 361,
   "id": "f152b1bc",
   "metadata": {
    "id": "f152b1bc"
   },
   "outputs": [],
   "source": [
    "doc1 = 'I love cooking'\n",
    "doc2 = 'Today I cooked pasta today'"
   ]
  },
  {
   "cell_type": "code",
   "execution_count": null,
   "id": "09630f86",
   "metadata": {
    "id": "09630f86"
   },
   "outputs": [],
   "source": []
  },
  {
   "cell_type": "code",
   "execution_count": 362,
   "id": "9656e8e8",
   "metadata": {
    "id": "9656e8e8"
   },
   "outputs": [],
   "source": [
    "# TF_score = how many times a word (from the vocab) is appearing in a given doc / total no. of words in that doc\n",
    "# TF(today | doc2) = 2/5\n",
    "# TF_score will be high for \"very frequent\" words in a given doc\n",
    "\n",
    "# IDF_score = log( (1+Total no. of documents) / (1+No. of documents contianing that \"term\") )\n",
    "# IDF_score penalizes those those words which are EQUALLY frequent in almost all the documents\n",
    "\n",
    "# TF_IDF score = TF_score*IDF_score"
   ]
  },
  {
   "cell_type": "code",
   "execution_count": 363,
   "id": "e026f9e6",
   "metadata": {
    "colab": {
     "base_uri": "https://localhost:8080/"
    },
    "id": "e026f9e6",
    "outputId": "d98d8b96-468f-42a8-c13d-ab2025f1391b"
   },
   "outputs": [
    {
     "name": "stdout",
     "output_type": "stream",
     "text": [
      "86.82 0.14\n",
      "85.24 0.84\n"
     ]
    },
    {
     "data": {
      "text/plain": [
       "1000"
      ]
     },
     "execution_count": 363,
     "metadata": {},
     "output_type": "execute_result"
    }
   ],
   "source": [
    "from sklearn.feature_extraction.text import TfidfVectorizer\n",
    "X = data['cleaned_tweets_w/o_SW']\n",
    "y = data['label']\n",
    "\n",
    "# we want to include only those words in the vocab which have min df of 5,\n",
    "# means select only those words which occur ATLEAST in 5 documents!!\n",
    "# AND SELECT the TOP 1000 FEATURES ONLY to build the model\n",
    "TFIDF = TfidfVectorizer(stop_words=final_stopwords,  min_df=5, max_features=1000)\n",
    "\n",
    "LR1 = LogisticRegression(class_weight='balanced', solver='liblinear', penalty='l1', C=0.4)\n",
    "CV_pipe = Pipeline([('TFIDF', TFIDF) , ('LR', LR1)] )\n",
    "results = cross_validate(CV_pipe, X, y, cv=kfold, scoring='accuracy', return_train_score=True)\n",
    "\n",
    "# print(results['train_score'])\n",
    "print(np.round((results['train_score'].mean())*100, 2), np.round((results['train_score'].std())*100, 2))\n",
    "\n",
    "# print(results['test_score'])\n",
    "print(np.round((results['test_score'].mean())*100, 2), np.round((results['test_score'].std())*100, 2))\n",
    "\n",
    "TFIDF.fit_transform(X)\n",
    "len(TFIDF.vocabulary_)  # no. of features AFTER applying the stopwords"
   ]
  },
  {
   "cell_type": "code",
   "execution_count": null,
   "id": "83a4cdff",
   "metadata": {
    "id": "83a4cdff"
   },
   "outputs": [],
   "source": []
  },
  {
   "cell_type": "markdown",
   "id": "398eb47b",
   "metadata": {
    "id": "398eb47b"
   },
   "source": [
    "# 8. Dimesionality Reduction"
   ]
  },
  {
   "cell_type": "code",
   "execution_count": 364,
   "id": "597c7c15",
   "metadata": {
    "id": "597c7c15"
   },
   "outputs": [],
   "source": [
    "# [7920 x 15955] >>> [7920 x 1000]"
   ]
  },
  {
   "cell_type": "code",
   "execution_count": 365,
   "id": "bca8ddcd",
   "metadata": {
    "colab": {
     "base_uri": "https://localhost:8080/"
    },
    "id": "bca8ddcd",
    "outputId": "6811b304-eac4-4cfd-a47c-c48dcf9a36f6"
   },
   "outputs": [
    {
     "name": "stdout",
     "output_type": "stream",
     "text": [
      "87.42 0.25\n",
      "86.57 0.83\n"
     ]
    },
    {
     "data": {
      "text/plain": [
       "15955"
      ]
     },
     "execution_count": 365,
     "metadata": {},
     "output_type": "execute_result"
    }
   ],
   "source": [
    "from sklearn.decomposition import TruncatedSVD\n",
    "\n",
    "X = data['cleaned_tweets_w/o_SW']\n",
    "y = data['label']\n",
    "\n",
    "TFIDF = TfidfVectorizer()  # will originally have 15955 features\n",
    "SVD = TruncatedSVD(n_components=1000)  # reduce it to 1000 PCs\n",
    "\n",
    "LR1 = LogisticRegression(class_weight='balanced', solver='liblinear', penalty='l1', C=0.4)\n",
    "CV_pipe = Pipeline([('TFIDF', TFIDF), ('SVD', SVD), ('LR', LR1)] )\n",
    "results = cross_validate(CV_pipe, X, y, cv=kfold, scoring='accuracy', return_train_score=True)\n",
    "\n",
    "# print(results['train_score'])\n",
    "print(np.round((results['train_score'].mean())*100, 2), np.round((results['train_score'].std())*100, 2))\n",
    "\n",
    "# print(results['test_score'])\n",
    "print(np.round((results['test_score'].mean())*100, 2), np.round((results['test_score'].std())*100, 2))\n",
    "\n",
    "TFIDF.fit_transform(X)\n",
    "len(TFIDF.vocabulary_)"
   ]
  },
  {
   "cell_type": "code",
   "execution_count": null,
   "id": "9f6725d9",
   "metadata": {
    "id": "9f6725d9"
   },
   "outputs": [],
   "source": []
  },
  {
   "cell_type": "code",
   "execution_count": 366,
   "id": "007da074",
   "metadata": {
    "colab": {
     "base_uri": "https://localhost:8080/"
    },
    "id": "007da074",
    "outputId": "efdd7ffe-7205-4f19-ebd7-43bbc9c2c0ac"
   },
   "outputs": [
    {
     "data": {
      "text/plain": [
       "{'TFIDF': TfidfVectorizer(),\n",
       " 'SVD': TruncatedSVD(n_components=1000),\n",
       " 'LR': LogisticRegression(C=0.4, class_weight='balanced', penalty='l1',\n",
       "                    solver='liblinear')}"
      ]
     },
     "execution_count": 366,
     "metadata": {},
     "output_type": "execute_result"
    }
   ],
   "source": [
    "CV_pipe.named_steps"
   ]
  },
  {
   "cell_type": "code",
   "execution_count": null,
   "id": "3eb3c8fb",
   "metadata": {
    "id": "3eb3c8fb"
   },
   "outputs": [],
   "source": []
  },
  {
   "cell_type": "code",
   "execution_count": null,
   "id": "7b7d5b22",
   "metadata": {
    "id": "7b7d5b22"
   },
   "outputs": [],
   "source": []
  },
  {
   "cell_type": "code",
   "execution_count": null,
   "id": "bf2c3221",
   "metadata": {
    "id": "bf2c3221"
   },
   "outputs": [],
   "source": []
  },
  {
   "cell_type": "markdown",
   "id": "251e95fc",
   "metadata": {
    "id": "251e95fc"
   },
   "source": [
    "# 9. N-Gram Models"
   ]
  },
  {
   "cell_type": "code",
   "execution_count": 367,
   "id": "0f043d71",
   "metadata": {
    "colab": {
     "base_uri": "https://localhost:8080/"
    },
    "id": "0f043d71",
    "outputId": "ff58051d-5525-47d9-c650-3e00711f1ca9"
   },
   "outputs": [
    {
     "name": "stdout",
     "output_type": "stream",
     "text": [
      "88.89 0.2\n",
      "86.84 0.68\n"
     ]
    },
    {
     "data": {
      "text/plain": [
       "3322"
      ]
     },
     "execution_count": 367,
     "metadata": {},
     "output_type": "execute_result"
    }
   ],
   "source": [
    "# Unigrams + Bigrams\n",
    "X = data['cleaned_tweets_w/o_SW']\n",
    "y = data['label']\n",
    "\n",
    "# we want to include only those words in the vocab which have min df of 5,\n",
    "# means select only those words which occur ATLEAST in 5 documents!!\n",
    "# AND SELECT the TOP 1000 FEATURES ONLY to build the model\n",
    "CV = CountVectorizer(stop_words=final_stopwords,  ngram_range=(1, 2), min_df=5)\n",
    "\n",
    "LR1 = LogisticRegression(class_weight='balanced', solver='liblinear', penalty='l1', C=0.4)\n",
    "CV_pipe = Pipeline([('CV', CV) , ('LR', LR1)] )\n",
    "results = cross_validate(CV_pipe, X, y, cv=kfold, scoring='accuracy', return_train_score=True)\n",
    "\n",
    "# print(results['train_score'])\n",
    "print(np.round((results['train_score'].mean())*100, 2), np.round((results['train_score'].std())*100, 2))\n",
    "\n",
    "# print(results['test_score'])\n",
    "print(np.round((results['test_score'].mean())*100, 2), np.round((results['test_score'].std())*100, 2))\n",
    "\n",
    "CV.fit_transform(X)\n",
    "len(CV.vocabulary_)  # no. of features AFTER applying the stopwords"
   ]
  },
  {
   "cell_type": "code",
   "execution_count": 368,
   "id": "3a547e56",
   "metadata": {
    "id": "3a547e56"
   },
   "outputs": [],
   "source": [
    "# CV.vocabulary_"
   ]
  },
  {
   "cell_type": "code",
   "execution_count": 369,
   "id": "47c796bc",
   "metadata": {
    "colab": {
     "base_uri": "https://localhost:8080/"
    },
    "id": "47c796bc",
    "outputId": "1e23cc7c-83c3-4f34-8064-117f9435bf22"
   },
   "outputs": [
    {
     "data": {
      "text/plain": [
       "{'CV': CountVectorizer(min_df=5, ngram_range=(1, 2),\n",
       "                 stop_words=['phone', 'mobile', 'twitter', 'rt', 'com', 'follow',\n",
       "                             'couldnt', 'weren', 've', 'wouldn', 'detail',\n",
       "                             'even', 'formerly', 'moreover', \"haven't\",\n",
       "                             'whether', 'bottom', 'whose', 'before',\n",
       "                             'beforehand', 'somewhere', 'whatever', 'everyone',\n",
       "                             's', 'without', 'too', 'may', 'yet', 'would',\n",
       "                             'became', ...]),\n",
       " 'LR': LogisticRegression(C=0.4, class_weight='balanced', penalty='l1',\n",
       "                    solver='liblinear')}"
      ]
     },
     "execution_count": 369,
     "metadata": {},
     "output_type": "execute_result"
    }
   ],
   "source": [
    "CV_pipe.named_steps"
   ]
  },
  {
   "cell_type": "code",
   "execution_count": 370,
   "id": "d2686aec",
   "metadata": {
    "colab": {
     "base_uri": "https://localhost:8080/",
     "height": 35
    },
    "id": "d2686aec",
    "outputId": "8f405851-e7df-422f-de66-341cbaf25129"
   },
   "outputs": [
    {
     "data": {
      "text/plain": [
       "'1.3.2'"
      ]
     },
     "execution_count": 370,
     "metadata": {},
     "output_type": "execute_result"
    }
   ],
   "source": [
    "import joblib\n",
    "joblib.__version__"
   ]
  },
  {
   "cell_type": "code",
   "execution_count": 371,
   "id": "7b502abf",
   "metadata": {
    "id": "7b502abf"
   },
   "outputs": [],
   "source": [
    "# pip install --upgrade joblib==1.1.0"
   ]
  },
  {
   "cell_type": "code",
   "execution_count": 372,
   "id": "d8e5bd58",
   "metadata": {
    "colab": {
     "base_uri": "https://localhost:8080/"
    },
    "id": "d8e5bd58",
    "outputId": "e7a26a65-4825-4c54-fb42-791c3b86140a"
   },
   "outputs": [
    {
     "name": "stdout",
     "output_type": "stream",
     "text": [
      "Requirement already satisfied: mglearn in c:\\users\\kiit\\appdata\\local\\programs\\python\\python312\\lib\\site-packages (0.2.0)\n",
      "Requirement already satisfied: numpy in c:\\users\\kiit\\appdata\\local\\programs\\python\\python312\\lib\\site-packages (from mglearn) (1.26.4)\n",
      "Requirement already satisfied: matplotlib in c:\\users\\kiit\\appdata\\local\\programs\\python\\python312\\lib\\site-packages (from mglearn) (3.8.3)\n",
      "Requirement already satisfied: scikit-learn in c:\\users\\kiit\\appdata\\local\\programs\\python\\python312\\lib\\site-packages (from mglearn) (1.4.1.post1)\n",
      "Requirement already satisfied: pandas in c:\\users\\kiit\\appdata\\local\\programs\\python\\python312\\lib\\site-packages (from mglearn) (2.2.1)\n",
      "Requirement already satisfied: pillow in c:\\users\\kiit\\appdata\\local\\programs\\python\\python312\\lib\\site-packages (from mglearn) (10.2.0)\n",
      "Requirement already satisfied: cycler in c:\\users\\kiit\\appdata\\local\\programs\\python\\python312\\lib\\site-packages (from mglearn) (0.12.1)\n",
      "Requirement already satisfied: imageio in c:\\users\\kiit\\appdata\\local\\programs\\python\\python312\\lib\\site-packages (from mglearn) (2.34.0)\n",
      "Requirement already satisfied: joblib in c:\\users\\kiit\\appdata\\local\\programs\\python\\python312\\lib\\site-packages (from mglearn) (1.3.2)\n",
      "Requirement already satisfied: contourpy>=1.0.1 in c:\\users\\kiit\\appdata\\local\\programs\\python\\python312\\lib\\site-packages (from matplotlib->mglearn) (1.2.0)\n",
      "Requirement already satisfied: fonttools>=4.22.0 in c:\\users\\kiit\\appdata\\local\\programs\\python\\python312\\lib\\site-packages (from matplotlib->mglearn) (4.50.0)\n",
      "Requirement already satisfied: kiwisolver>=1.3.1 in c:\\users\\kiit\\appdata\\local\\programs\\python\\python312\\lib\\site-packages (from matplotlib->mglearn) (1.4.5)\n",
      "Requirement already satisfied: packaging>=20.0 in c:\\users\\kiit\\appdata\\local\\programs\\python\\python312\\lib\\site-packages (from matplotlib->mglearn) (23.2)\n",
      "Requirement already satisfied: pyparsing>=2.3.1 in c:\\users\\kiit\\appdata\\local\\programs\\python\\python312\\lib\\site-packages (from matplotlib->mglearn) (3.1.2)\n",
      "Requirement already satisfied: python-dateutil>=2.7 in c:\\users\\kiit\\appdata\\local\\programs\\python\\python312\\lib\\site-packages (from matplotlib->mglearn) (2.8.2)\n",
      "Requirement already satisfied: pytz>=2020.1 in c:\\users\\kiit\\appdata\\local\\programs\\python\\python312\\lib\\site-packages (from pandas->mglearn) (2024.1)\n",
      "Requirement already satisfied: tzdata>=2022.7 in c:\\users\\kiit\\appdata\\local\\programs\\python\\python312\\lib\\site-packages (from pandas->mglearn) (2024.1)\n",
      "Requirement already satisfied: scipy>=1.6.0 in c:\\users\\kiit\\appdata\\local\\programs\\python\\python312\\lib\\site-packages (from scikit-learn->mglearn) (1.12.0)\n",
      "Requirement already satisfied: threadpoolctl>=2.0.0 in c:\\users\\kiit\\appdata\\local\\programs\\python\\python312\\lib\\site-packages (from scikit-learn->mglearn) (3.4.0)\n",
      "Requirement already satisfied: six>=1.5 in c:\\users\\kiit\\appdata\\local\\programs\\python\\python312\\lib\\site-packages (from python-dateutil>=2.7->matplotlib->mglearn) (1.16.0)\n"
     ]
    },
    {
     "name": "stderr",
     "output_type": "stream",
     "text": [
      "\n",
      "[notice] A new release of pip is available: 23.2.1 -> 24.0\n",
      "[notice] To update, run: python.exe -m pip install --upgrade pip\n"
     ]
    }
   ],
   "source": [
    "!pip install mglearn\n",
    "import mglearn"
   ]
  },
  {
   "cell_type": "code",
   "execution_count": 373,
   "id": "1a9791e2",
   "metadata": {
    "colab": {
     "base_uri": "https://localhost:8080/"
    },
    "id": "1a9791e2",
    "outputId": "294bb76b-585b-4787-d36a-5d9442cd1f37"
   },
   "outputs": [
    {
     "name": "stdout",
     "output_type": "stream",
     "text": [
      "88.88 0.2\n",
      "86.84 0.68\n"
     ]
    },
    {
     "data": {
      "text/plain": [
       "3871"
      ]
     },
     "execution_count": 373,
     "metadata": {},
     "output_type": "execute_result"
    }
   ],
   "source": [
    "# Unigrams + Bigrams + Trigrams\n",
    "X = data['cleaned_tweets_w/o_SW']\n",
    "y = data['label']\n",
    "\n",
    "# we want to include only those words in the vocab which have min df of 5,\n",
    "# means select only those words which occur ATLEAST in 5 documents!!\n",
    "# AND SELECT the TOP 1000 FEATURES ONLY to build the model\n",
    "CV = CountVectorizer(stop_words=final_stopwords,  ngram_range=(1, 3), min_df=5)\n",
    "\n",
    "LR1 = LogisticRegression(class_weight='balanced', solver='liblinear', penalty='l1', C=0.4)\n",
    "CV_pipe = Pipeline([('CV', CV) , ('LR', LR1)] )\n",
    "results = cross_validate(CV_pipe, X, y, cv=kfold, scoring='accuracy', return_train_score=True)\n",
    "\n",
    "# print(results['train_score'])\n",
    "print(np.round((results['train_score'].mean())*100, 2), np.round((results['train_score'].std())*100, 2))\n",
    "\n",
    "# print(results['test_score'])\n",
    "print(np.round((results['test_score'].mean())*100, 2), np.round((results['test_score'].std())*100, 2))\n",
    "\n",
    "CV.fit_transform(X)\n",
    "len(CV.vocabulary_)  # no. of features AFTER applying the stopwords"
   ]
  },
  {
   "cell_type": "code",
   "execution_count": 374,
   "id": "bfd0d534",
   "metadata": {
    "id": "bfd0d534"
   },
   "outputs": [],
   "source": [
    "# CV.vocabulary_"
   ]
  },
  {
   "cell_type": "code",
   "execution_count": 375,
   "id": "KbH3OAH69x8V",
   "metadata": {
    "id": "KbH3OAH69x8V"
   },
   "outputs": [],
   "source": [
    "# 0 refers to positive sentiment, 1 is negative sentiment\n"
   ]
  },
  {
   "cell_type": "markdown",
   "id": "SMDEgllq-jg_",
   "metadata": {
    "id": "SMDEgllq-jg_"
   },
   "source": [
    "10.\n",
    "word embeddings"
   ]
  },
  {
   "cell_type": "code",
   "execution_count": 376,
   "id": "u8E8Efx293SQ",
   "metadata": {
    "colab": {
     "base_uri": "https://localhost:8080/"
    },
    "id": "u8E8Efx293SQ",
    "outputId": "29388fad-3ddb-48de-84d5-751a5796bdc9"
   },
   "outputs": [
    {
     "data": {
      "text/plain": [
       "['fingerprint',\n",
       " 'pregnancy',\n",
       " 'test',\n",
       " 'android',\n",
       " 'apps',\n",
       " 'beautiful',\n",
       " 'cute',\n",
       " 'health',\n",
       " 'igers',\n",
       " 'iphoneonly',\n",
       " 'iphonesia',\n",
       " 'iphone']"
      ]
     },
     "execution_count": 376,
     "metadata": {},
     "output_type": "execute_result"
    }
   ],
   "source": [
    "tweets_list = list(data['cleaned_tweets_w/o_SW'].apply(lambda x: x.split()))\n",
    "tweets_list[0] # list of lists, where each tweet is a list of tokens, finally we have a list of tweets"
   ]
  },
  {
   "cell_type": "code",
   "execution_count": 377,
   "id": "uJZmObV6-5Gg",
   "metadata": {
    "id": "uJZmObV6-5Gg"
   },
   "outputs": [
    {
     "name": "stdout",
     "output_type": "stream",
     "text": [
      "Collecting gensim\n",
      "  Using cached gensim-4.3.2.tar.gz (23.3 MB)\n",
      "  Installing build dependencies: started\n",
      "  Installing build dependencies: finished with status 'done'\n",
      "  Getting requirements to build wheel: started\n",
      "  Getting requirements to build wheel: finished with status 'done'\n",
      "  Preparing metadata (pyproject.toml): started\n",
      "  Preparing metadata (pyproject.toml): finished with status 'done'\n",
      "Requirement already satisfied: numpy>=1.18.5 in c:\\users\\kiit\\appdata\\local\\programs\\python\\python312\\lib\\site-packages (from gensim) (1.26.4)\n",
      "Requirement already satisfied: scipy>=1.7.0 in c:\\users\\kiit\\appdata\\local\\programs\\python\\python312\\lib\\site-packages (from gensim) (1.12.0)\n",
      "Collecting smart-open>=1.8.1 (from gensim)\n",
      "  Obtaining dependency information for smart-open>=1.8.1 from https://files.pythonhosted.org/packages/f9/45/e6db4bcf38a7473f7a649abca6bd20e346051013a4e5276ac2d0e0e27b32/smart_open-7.0.3-py3-none-any.whl.metadata\n",
      "  Using cached smart_open-7.0.3-py3-none-any.whl.metadata (23 kB)\n",
      "Collecting wrapt (from smart-open>=1.8.1->gensim)\n",
      "  Obtaining dependency information for wrapt from https://files.pythonhosted.org/packages/5c/cc/8297f9658506b224aa4bd71906447dea6bb0ba629861a758c28f67428b91/wrapt-1.16.0-cp312-cp312-win_amd64.whl.metadata\n",
      "  Using cached wrapt-1.16.0-cp312-cp312-win_amd64.whl.metadata (6.8 kB)\n",
      "Using cached smart_open-7.0.3-py3-none-any.whl (60 kB)\n",
      "Using cached wrapt-1.16.0-cp312-cp312-win_amd64.whl (37 kB)\n",
      "Building wheels for collected packages: gensim\n",
      "  Building wheel for gensim (pyproject.toml): started\n",
      "  Building wheel for gensim (pyproject.toml): finished with status 'error'\n",
      "Failed to build gensim\n"
     ]
    },
    {
     "name": "stderr",
     "output_type": "stream",
     "text": [
      "  error: subprocess-exited-with-error\n",
      "  \n",
      "  Building wheel for gensim (pyproject.toml) did not run successfully.\n",
      "  exit code: 1\n",
      "  \n",
      "  [714 lines of output]\n",
      "  running bdist_wheel\n",
      "  running build\n",
      "  running build_py\n",
      "  creating build\n",
      "  creating build\\lib.win-amd64-cpython-312\n",
      "  creating build\\lib.win-amd64-cpython-312\\gensim\n",
      "  copying gensim\\downloader.py -> build\\lib.win-amd64-cpython-312\\gensim\n",
      "  copying gensim\\interfaces.py -> build\\lib.win-amd64-cpython-312\\gensim\n",
      "  copying gensim\\matutils.py -> build\\lib.win-amd64-cpython-312\\gensim\n",
      "  copying gensim\\nosy.py -> build\\lib.win-amd64-cpython-312\\gensim\n",
      "  copying gensim\\utils.py -> build\\lib.win-amd64-cpython-312\\gensim\n",
      "  copying gensim\\__init__.py -> build\\lib.win-amd64-cpython-312\\gensim\n",
      "  creating build\\lib.win-amd64-cpython-312\\gensim\\corpora\n",
      "  copying gensim\\corpora\\bleicorpus.py -> build\\lib.win-amd64-cpython-312\\gensim\\corpora\n",
      "  copying gensim\\corpora\\csvcorpus.py -> build\\lib.win-amd64-cpython-312\\gensim\\corpora\n",
      "  copying gensim\\corpora\\dictionary.py -> build\\lib.win-amd64-cpython-312\\gensim\\corpora\n",
      "  copying gensim\\corpora\\hashdictionary.py -> build\\lib.win-amd64-cpython-312\\gensim\\corpora\n",
      "  copying gensim\\corpora\\indexedcorpus.py -> build\\lib.win-amd64-cpython-312\\gensim\\corpora\n",
      "  copying gensim\\corpora\\lowcorpus.py -> build\\lib.win-amd64-cpython-312\\gensim\\corpora\n",
      "  copying gensim\\corpora\\malletcorpus.py -> build\\lib.win-amd64-cpython-312\\gensim\\corpora\n",
      "  copying gensim\\corpora\\mmcorpus.py -> build\\lib.win-amd64-cpython-312\\gensim\\corpora\n",
      "  copying gensim\\corpora\\opinosiscorpus.py -> build\\lib.win-amd64-cpython-312\\gensim\\corpora\n",
      "  copying gensim\\corpora\\sharded_corpus.py -> build\\lib.win-amd64-cpython-312\\gensim\\corpora\n",
      "  copying gensim\\corpora\\svmlightcorpus.py -> build\\lib.win-amd64-cpython-312\\gensim\\corpora\n",
      "  copying gensim\\corpora\\textcorpus.py -> build\\lib.win-amd64-cpython-312\\gensim\\corpora\n",
      "  copying gensim\\corpora\\ucicorpus.py -> build\\lib.win-amd64-cpython-312\\gensim\\corpora\n",
      "  copying gensim\\corpora\\wikicorpus.py -> build\\lib.win-amd64-cpython-312\\gensim\\corpora\n",
      "  copying gensim\\corpora\\__init__.py -> build\\lib.win-amd64-cpython-312\\gensim\\corpora\n",
      "  creating build\\lib.win-amd64-cpython-312\\gensim\\models\n",
      "  copying gensim\\models\\atmodel.py -> build\\lib.win-amd64-cpython-312\\gensim\\models\n",
      "  copying gensim\\models\\basemodel.py -> build\\lib.win-amd64-cpython-312\\gensim\\models\n",
      "  copying gensim\\models\\bm25model.py -> build\\lib.win-amd64-cpython-312\\gensim\\models\n",
      "  copying gensim\\models\\callbacks.py -> build\\lib.win-amd64-cpython-312\\gensim\\models\n",
      "  copying gensim\\models\\coherencemodel.py -> build\\lib.win-amd64-cpython-312\\gensim\\models\n",
      "  copying gensim\\models\\doc2vec.py -> build\\lib.win-amd64-cpython-312\\gensim\\models\n",
      "  copying gensim\\models\\ensemblelda.py -> build\\lib.win-amd64-cpython-312\\gensim\\models\n",
      "  copying gensim\\models\\fasttext.py -> build\\lib.win-amd64-cpython-312\\gensim\\models\n",
      "  copying gensim\\models\\hdpmodel.py -> build\\lib.win-amd64-cpython-312\\gensim\\models\n",
      "  copying gensim\\models\\keyedvectors.py -> build\\lib.win-amd64-cpython-312\\gensim\\models\n",
      "  copying gensim\\models\\ldamodel.py -> build\\lib.win-amd64-cpython-312\\gensim\\models\n",
      "  copying gensim\\models\\ldamulticore.py -> build\\lib.win-amd64-cpython-312\\gensim\\models\n",
      "  copying gensim\\models\\ldaseqmodel.py -> build\\lib.win-amd64-cpython-312\\gensim\\models\n",
      "  copying gensim\\models\\lda_dispatcher.py -> build\\lib.win-amd64-cpython-312\\gensim\\models\n",
      "  copying gensim\\models\\lda_worker.py -> build\\lib.win-amd64-cpython-312\\gensim\\models\n",
      "  copying gensim\\models\\logentropy_model.py -> build\\lib.win-amd64-cpython-312\\gensim\\models\n",
      "  copying gensim\\models\\lsimodel.py -> build\\lib.win-amd64-cpython-312\\gensim\\models\n",
      "  copying gensim\\models\\lsi_dispatcher.py -> build\\lib.win-amd64-cpython-312\\gensim\\models\n",
      "  copying gensim\\models\\lsi_worker.py -> build\\lib.win-amd64-cpython-312\\gensim\\models\n",
      "  copying gensim\\models\\nmf.py -> build\\lib.win-amd64-cpython-312\\gensim\\models\n",
      "  copying gensim\\models\\normmodel.py -> build\\lib.win-amd64-cpython-312\\gensim\\models\n",
      "  copying gensim\\models\\phrases.py -> build\\lib.win-amd64-cpython-312\\gensim\\models\n",
      "  copying gensim\\models\\poincare.py -> build\\lib.win-amd64-cpython-312\\gensim\\models\n",
      "  copying gensim\\models\\rpmodel.py -> build\\lib.win-amd64-cpython-312\\gensim\\models\n",
      "  copying gensim\\models\\tfidfmodel.py -> build\\lib.win-amd64-cpython-312\\gensim\\models\n",
      "  copying gensim\\models\\translation_matrix.py -> build\\lib.win-amd64-cpython-312\\gensim\\models\n",
      "  copying gensim\\models\\word2vec.py -> build\\lib.win-amd64-cpython-312\\gensim\\models\n",
      "  copying gensim\\models\\_fasttext_bin.py -> build\\lib.win-amd64-cpython-312\\gensim\\models\n",
      "  copying gensim\\models\\__init__.py -> build\\lib.win-amd64-cpython-312\\gensim\\models\n",
      "  creating build\\lib.win-amd64-cpython-312\\gensim\\parsing\n",
      "  copying gensim\\parsing\\porter.py -> build\\lib.win-amd64-cpython-312\\gensim\\parsing\n",
      "  copying gensim\\parsing\\preprocessing.py -> build\\lib.win-amd64-cpython-312\\gensim\\parsing\n",
      "  copying gensim\\parsing\\__init__.py -> build\\lib.win-amd64-cpython-312\\gensim\\parsing\n",
      "  creating build\\lib.win-amd64-cpython-312\\gensim\\scripts\n",
      "  copying gensim\\scripts\\benchmark.py -> build\\lib.win-amd64-cpython-312\\gensim\\scripts\n",
      "  copying gensim\\scripts\\glove2word2vec.py -> build\\lib.win-amd64-cpython-312\\gensim\\scripts\n",
      "  copying gensim\\scripts\\make_wiki.py -> build\\lib.win-amd64-cpython-312\\gensim\\scripts\n",
      "  copying gensim\\scripts\\make_wikicorpus.py -> build\\lib.win-amd64-cpython-312\\gensim\\scripts\n",
      "  copying gensim\\scripts\\make_wiki_online.py -> build\\lib.win-amd64-cpython-312\\gensim\\scripts\n",
      "  copying gensim\\scripts\\make_wiki_online_nodebug.py -> build\\lib.win-amd64-cpython-312\\gensim\\scripts\n",
      "  copying gensim\\scripts\\package_info.py -> build\\lib.win-amd64-cpython-312\\gensim\\scripts\n",
      "  copying gensim\\scripts\\segment_wiki.py -> build\\lib.win-amd64-cpython-312\\gensim\\scripts\n",
      "  copying gensim\\scripts\\word2vec2tensor.py -> build\\lib.win-amd64-cpython-312\\gensim\\scripts\n",
      "  copying gensim\\scripts\\word2vec_standalone.py -> build\\lib.win-amd64-cpython-312\\gensim\\scripts\n",
      "  copying gensim\\scripts\\__init__.py -> build\\lib.win-amd64-cpython-312\\gensim\\scripts\n",
      "  creating build\\lib.win-amd64-cpython-312\\gensim\\similarities\n",
      "  copying gensim\\similarities\\annoy.py -> build\\lib.win-amd64-cpython-312\\gensim\\similarities\n",
      "  copying gensim\\similarities\\docsim.py -> build\\lib.win-amd64-cpython-312\\gensim\\similarities\n",
      "  copying gensim\\similarities\\levenshtein.py -> build\\lib.win-amd64-cpython-312\\gensim\\similarities\n",
      "  copying gensim\\similarities\\nmslib.py -> build\\lib.win-amd64-cpython-312\\gensim\\similarities\n",
      "  copying gensim\\similarities\\termsim.py -> build\\lib.win-amd64-cpython-312\\gensim\\similarities\n",
      "  copying gensim\\similarities\\__init__.py -> build\\lib.win-amd64-cpython-312\\gensim\\similarities\n",
      "  creating build\\lib.win-amd64-cpython-312\\gensim\\test\n",
      "  copying gensim\\test\\basetmtests.py -> build\\lib.win-amd64-cpython-312\\gensim\\test\n",
      "  copying gensim\\test\\simspeed.py -> build\\lib.win-amd64-cpython-312\\gensim\\test\n",
      "  copying gensim\\test\\simspeed2.py -> build\\lib.win-amd64-cpython-312\\gensim\\test\n",
      "  copying gensim\\test\\svd_error.py -> build\\lib.win-amd64-cpython-312\\gensim\\test\n",
      "  copying gensim\\test\\test_aggregation.py -> build\\lib.win-amd64-cpython-312\\gensim\\test\n",
      "  copying gensim\\test\\test_api.py -> build\\lib.win-amd64-cpython-312\\gensim\\test\n",
      "  copying gensim\\test\\test_atmodel.py -> build\\lib.win-amd64-cpython-312\\gensim\\test\n",
      "  copying gensim\\test\\test_big.py -> build\\lib.win-amd64-cpython-312\\gensim\\test\n",
      "  copying gensim\\test\\test_bm25model.py -> build\\lib.win-amd64-cpython-312\\gensim\\test\n",
      "  copying gensim\\test\\test_coherencemodel.py -> build\\lib.win-amd64-cpython-312\\gensim\\test\n",
      "  copying gensim\\test\\test_corpora.py -> build\\lib.win-amd64-cpython-312\\gensim\\test\n",
      "  copying gensim\\test\\test_corpora_dictionary.py -> build\\lib.win-amd64-cpython-312\\gensim\\test\n",
      "  copying gensim\\test\\test_corpora_hashdictionary.py -> build\\lib.win-amd64-cpython-312\\gensim\\test\n",
      "  copying gensim\\test\\test_datatype.py -> build\\lib.win-amd64-cpython-312\\gensim\\test\n",
      "  copying gensim\\test\\test_direct_confirmation.py -> build\\lib.win-amd64-cpython-312\\gensim\\test\n",
      "  copying gensim\\test\\test_doc2vec.py -> build\\lib.win-amd64-cpython-312\\gensim\\test\n",
      "  copying gensim\\test\\test_ensemblelda.py -> build\\lib.win-amd64-cpython-312\\gensim\\test\n",
      "  copying gensim\\test\\test_fasttext.py -> build\\lib.win-amd64-cpython-312\\gensim\\test\n",
      "  copying gensim\\test\\test_glove2word2vec.py -> build\\lib.win-amd64-cpython-312\\gensim\\test\n",
      "  copying gensim\\test\\test_hdpmodel.py -> build\\lib.win-amd64-cpython-312\\gensim\\test\n",
      "  copying gensim\\test\\test_indirect_confirmation.py -> build\\lib.win-amd64-cpython-312\\gensim\\test\n",
      "  copying gensim\\test\\test_keyedvectors.py -> build\\lib.win-amd64-cpython-312\\gensim\\test\n",
      "  copying gensim\\test\\test_ldamodel.py -> build\\lib.win-amd64-cpython-312\\gensim\\test\n",
      "  copying gensim\\test\\test_ldaseqmodel.py -> build\\lib.win-amd64-cpython-312\\gensim\\test\n",
      "  copying gensim\\test\\test_lda_callback.py -> build\\lib.win-amd64-cpython-312\\gensim\\test\n",
      "  copying gensim\\test\\test_lee.py -> build\\lib.win-amd64-cpython-312\\gensim\\test\n",
      "  copying gensim\\test\\test_logentropy_model.py -> build\\lib.win-amd64-cpython-312\\gensim\\test\n",
      "  copying gensim\\test\\test_lsimodel.py -> build\\lib.win-amd64-cpython-312\\gensim\\test\n",
      "  copying gensim\\test\\test_matutils.py -> build\\lib.win-amd64-cpython-312\\gensim\\test\n",
      "  copying gensim\\test\\test_miislita.py -> build\\lib.win-amd64-cpython-312\\gensim\\test\n",
      "  copying gensim\\test\\test_nmf.py -> build\\lib.win-amd64-cpython-312\\gensim\\test\n",
      "  copying gensim\\test\\test_normmodel.py -> build\\lib.win-amd64-cpython-312\\gensim\\test\n",
      "  copying gensim\\test\\test_parsing.py -> build\\lib.win-amd64-cpython-312\\gensim\\test\n",
      "  copying gensim\\test\\test_phrases.py -> build\\lib.win-amd64-cpython-312\\gensim\\test\n",
      "  copying gensim\\test\\test_poincare.py -> build\\lib.win-amd64-cpython-312\\gensim\\test\n",
      "  copying gensim\\test\\test_probability_estimation.py -> build\\lib.win-amd64-cpython-312\\gensim\\test\n",
      "  copying gensim\\test\\test_rpmodel.py -> build\\lib.win-amd64-cpython-312\\gensim\\test\n",
      "  copying gensim\\test\\test_scripts.py -> build\\lib.win-amd64-cpython-312\\gensim\\test\n",
      "  copying gensim\\test\\test_segmentation.py -> build\\lib.win-amd64-cpython-312\\gensim\\test\n",
      "  copying gensim\\test\\test_sharded_corpus.py -> build\\lib.win-amd64-cpython-312\\gensim\\test\n",
      "  copying gensim\\test\\test_similarities.py -> build\\lib.win-amd64-cpython-312\\gensim\\test\n",
      "  copying gensim\\test\\test_similarity_metrics.py -> build\\lib.win-amd64-cpython-312\\gensim\\test\n",
      "  copying gensim\\test\\test_text_analysis.py -> build\\lib.win-amd64-cpython-312\\gensim\\test\n",
      "  copying gensim\\test\\test_tfidfmodel.py -> build\\lib.win-amd64-cpython-312\\gensim\\test\n",
      "  copying gensim\\test\\test_tmdiff.py -> build\\lib.win-amd64-cpython-312\\gensim\\test\n",
      "  copying gensim\\test\\test_translation_matrix.py -> build\\lib.win-amd64-cpython-312\\gensim\\test\n",
      "  copying gensim\\test\\test_utils.py -> build\\lib.win-amd64-cpython-312\\gensim\\test\n",
      "  copying gensim\\test\\test_word2vec.py -> build\\lib.win-amd64-cpython-312\\gensim\\test\n",
      "  copying gensim\\test\\utils.py -> build\\lib.win-amd64-cpython-312\\gensim\\test\n",
      "  copying gensim\\test\\__init__.py -> build\\lib.win-amd64-cpython-312\\gensim\\test\n",
      "  creating build\\lib.win-amd64-cpython-312\\gensim\\topic_coherence\n",
      "  copying gensim\\topic_coherence\\aggregation.py -> build\\lib.win-amd64-cpython-312\\gensim\\topic_coherence\n",
      "  copying gensim\\topic_coherence\\direct_confirmation_measure.py -> build\\lib.win-amd64-cpython-312\\gensim\\topic_coherence\n",
      "  copying gensim\\topic_coherence\\indirect_confirmation_measure.py -> build\\lib.win-amd64-cpython-312\\gensim\\topic_coherence\n",
      "  copying gensim\\topic_coherence\\probability_estimation.py -> build\\lib.win-amd64-cpython-312\\gensim\\topic_coherence\n",
      "  copying gensim\\topic_coherence\\segmentation.py -> build\\lib.win-amd64-cpython-312\\gensim\\topic_coherence\n",
      "  copying gensim\\topic_coherence\\text_analysis.py -> build\\lib.win-amd64-cpython-312\\gensim\\topic_coherence\n",
      "  copying gensim\\topic_coherence\\__init__.py -> build\\lib.win-amd64-cpython-312\\gensim\\topic_coherence\n",
      "  running egg_info\n",
      "  writing gensim.egg-info\\PKG-INFO\n",
      "  writing dependency_links to gensim.egg-info\\dependency_links.txt\n",
      "  writing requirements to gensim.egg-info\\requires.txt\n",
      "  writing top-level names to gensim.egg-info\\top_level.txt\n",
      "  reading manifest file 'gensim.egg-info\\SOURCES.txt'\n",
      "  reading manifest template 'MANIFEST.in'\n",
      "  adding license file 'COPYING'\n",
      "  writing manifest file 'gensim.egg-info\\SOURCES.txt'\n",
      "  C:\\Users\\KIIT\\AppData\\Local\\Temp\\pip-build-env-mj_b03za\\overlay\\Lib\\site-packages\\setuptools\\command\\build_py.py:207: _Warning: Package 'gensim.corpora' is absent from the `packages` configuration.\n",
      "  !!\n",
      "  \n",
      "          ********************************************************************************\n",
      "          ############################\n",
      "          # Package would be ignored #\n",
      "          ############################\n",
      "          Python recognizes 'gensim.corpora' as an importable package[^1],\n",
      "          but it is absent from setuptools' `packages` configuration.\n",
      "  \n",
      "          This leads to an ambiguous overall configuration. If you want to distribute this\n",
      "          package, please make sure that 'gensim.corpora' is explicitly added\n",
      "          to the `packages` configuration field.\n",
      "  \n",
      "          Alternatively, you can also rely on setuptools' discovery methods\n",
      "          (for example by using `find_namespace_packages(...)`/`find_namespace:`\n",
      "          instead of `find_packages(...)`/`find:`).\n",
      "  \n",
      "          You can read more about \"package discovery\" on setuptools documentation page:\n",
      "  \n",
      "          - https://setuptools.pypa.io/en/latest/userguide/package_discovery.html\n",
      "  \n",
      "          If you don't want 'gensim.corpora' to be distributed and are\n",
      "          already explicitly excluding 'gensim.corpora' via\n",
      "          `find_namespace_packages(...)/find_namespace` or `find_packages(...)/find`,\n",
      "          you can try to use `exclude_package_data`, or `include-package-data=False` in\n",
      "          combination with a more fine grained `package-data` configuration.\n",
      "  \n",
      "          You can read more about \"package data files\" on setuptools documentation page:\n",
      "  \n",
      "          - https://setuptools.pypa.io/en/latest/userguide/datafiles.html\n",
      "  \n",
      "  \n",
      "          [^1]: For Python, any directory (with suitable naming) can be imported,\n",
      "                even if it does not contain any `.py` files.\n",
      "                On the other hand, currently there is no concept of package data\n",
      "                directory, all directories are treated like packages.\n",
      "          ********************************************************************************\n",
      "  \n",
      "  !!\n",
      "    check.warn(importable)\n",
      "  C:\\Users\\KIIT\\AppData\\Local\\Temp\\pip-build-env-mj_b03za\\overlay\\Lib\\site-packages\\setuptools\\command\\build_py.py:207: _Warning: Package 'gensim.models' is absent from the `packages` configuration.\n",
      "  !!\n",
      "  \n",
      "          ********************************************************************************\n",
      "          ############################\n",
      "          # Package would be ignored #\n",
      "          ############################\n",
      "          Python recognizes 'gensim.models' as an importable package[^1],\n",
      "          but it is absent from setuptools' `packages` configuration.\n",
      "  \n",
      "          This leads to an ambiguous overall configuration. If you want to distribute this\n",
      "          package, please make sure that 'gensim.models' is explicitly added\n",
      "          to the `packages` configuration field.\n",
      "  \n",
      "          Alternatively, you can also rely on setuptools' discovery methods\n",
      "          (for example by using `find_namespace_packages(...)`/`find_namespace:`\n",
      "          instead of `find_packages(...)`/`find:`).\n",
      "  \n",
      "          You can read more about \"package discovery\" on setuptools documentation page:\n",
      "  \n",
      "          - https://setuptools.pypa.io/en/latest/userguide/package_discovery.html\n",
      "  \n",
      "          If you don't want 'gensim.models' to be distributed and are\n",
      "          already explicitly excluding 'gensim.models' via\n",
      "          `find_namespace_packages(...)/find_namespace` or `find_packages(...)/find`,\n",
      "          you can try to use `exclude_package_data`, or `include-package-data=False` in\n",
      "          combination with a more fine grained `package-data` configuration.\n",
      "  \n",
      "          You can read more about \"package data files\" on setuptools documentation page:\n",
      "  \n",
      "          - https://setuptools.pypa.io/en/latest/userguide/datafiles.html\n",
      "  \n",
      "  \n",
      "          [^1]: For Python, any directory (with suitable naming) can be imported,\n",
      "                even if it does not contain any `.py` files.\n",
      "                On the other hand, currently there is no concept of package data\n",
      "                directory, all directories are treated like packages.\n",
      "          ********************************************************************************\n",
      "  \n",
      "  !!\n",
      "    check.warn(importable)\n",
      "  C:\\Users\\KIIT\\AppData\\Local\\Temp\\pip-build-env-mj_b03za\\overlay\\Lib\\site-packages\\setuptools\\command\\build_py.py:207: _Warning: Package 'gensim.similarities' is absent from the `packages` configuration.\n",
      "  !!\n",
      "  \n",
      "          ********************************************************************************\n",
      "          ############################\n",
      "          # Package would be ignored #\n",
      "          ############################\n",
      "          Python recognizes 'gensim.similarities' as an importable package[^1],\n",
      "          but it is absent from setuptools' `packages` configuration.\n",
      "  \n",
      "          This leads to an ambiguous overall configuration. If you want to distribute this\n",
      "          package, please make sure that 'gensim.similarities' is explicitly added\n",
      "          to the `packages` configuration field.\n",
      "  \n",
      "          Alternatively, you can also rely on setuptools' discovery methods\n",
      "          (for example by using `find_namespace_packages(...)`/`find_namespace:`\n",
      "          instead of `find_packages(...)`/`find:`).\n",
      "  \n",
      "          You can read more about \"package discovery\" on setuptools documentation page:\n",
      "  \n",
      "          - https://setuptools.pypa.io/en/latest/userguide/package_discovery.html\n",
      "  \n",
      "          If you don't want 'gensim.similarities' to be distributed and are\n",
      "          already explicitly excluding 'gensim.similarities' via\n",
      "          `find_namespace_packages(...)/find_namespace` or `find_packages(...)/find`,\n",
      "          you can try to use `exclude_package_data`, or `include-package-data=False` in\n",
      "          combination with a more fine grained `package-data` configuration.\n",
      "  \n",
      "          You can read more about \"package data files\" on setuptools documentation page:\n",
      "  \n",
      "          - https://setuptools.pypa.io/en/latest/userguide/datafiles.html\n",
      "  \n",
      "  \n",
      "          [^1]: For Python, any directory (with suitable naming) can be imported,\n",
      "                even if it does not contain any `.py` files.\n",
      "                On the other hand, currently there is no concept of package data\n",
      "                directory, all directories are treated like packages.\n",
      "          ********************************************************************************\n",
      "  \n",
      "  !!\n",
      "    check.warn(importable)\n",
      "  C:\\Users\\KIIT\\AppData\\Local\\Temp\\pip-build-env-mj_b03za\\overlay\\Lib\\site-packages\\setuptools\\command\\build_py.py:207: _Warning: Package 'gensim.test.test_data' is absent from the `packages` configuration.\n",
      "  !!\n",
      "  \n",
      "          ********************************************************************************\n",
      "          ############################\n",
      "          # Package would be ignored #\n",
      "          ############################\n",
      "          Python recognizes 'gensim.test.test_data' as an importable package[^1],\n",
      "          but it is absent from setuptools' `packages` configuration.\n",
      "  \n",
      "          This leads to an ambiguous overall configuration. If you want to distribute this\n",
      "          package, please make sure that 'gensim.test.test_data' is explicitly added\n",
      "          to the `packages` configuration field.\n",
      "  \n",
      "          Alternatively, you can also rely on setuptools' discovery methods\n",
      "          (for example by using `find_namespace_packages(...)`/`find_namespace:`\n",
      "          instead of `find_packages(...)`/`find:`).\n",
      "  \n",
      "          You can read more about \"package discovery\" on setuptools documentation page:\n",
      "  \n",
      "          - https://setuptools.pypa.io/en/latest/userguide/package_discovery.html\n",
      "  \n",
      "          If you don't want 'gensim.test.test_data' to be distributed and are\n",
      "          already explicitly excluding 'gensim.test.test_data' via\n",
      "          `find_namespace_packages(...)/find_namespace` or `find_packages(...)/find`,\n",
      "          you can try to use `exclude_package_data`, or `include-package-data=False` in\n",
      "          combination with a more fine grained `package-data` configuration.\n",
      "  \n",
      "          You can read more about \"package data files\" on setuptools documentation page:\n",
      "  \n",
      "          - https://setuptools.pypa.io/en/latest/userguide/datafiles.html\n",
      "  \n",
      "  \n",
      "          [^1]: For Python, any directory (with suitable naming) can be imported,\n",
      "                even if it does not contain any `.py` files.\n",
      "                On the other hand, currently there is no concept of package data\n",
      "                directory, all directories are treated like packages.\n",
      "          ********************************************************************************\n",
      "  \n",
      "  !!\n",
      "    check.warn(importable)\n",
      "  C:\\Users\\KIIT\\AppData\\Local\\Temp\\pip-build-env-mj_b03za\\overlay\\Lib\\site-packages\\setuptools\\command\\build_py.py:207: _Warning: Package 'gensim.test.test_data.DTM' is absent from the `packages` configuration.\n",
      "  !!\n",
      "  \n",
      "          ********************************************************************************\n",
      "          ############################\n",
      "          # Package would be ignored #\n",
      "          ############################\n",
      "          Python recognizes 'gensim.test.test_data.DTM' as an importable package[^1],\n",
      "          but it is absent from setuptools' `packages` configuration.\n",
      "  \n",
      "          This leads to an ambiguous overall configuration. If you want to distribute this\n",
      "          package, please make sure that 'gensim.test.test_data.DTM' is explicitly added\n",
      "          to the `packages` configuration field.\n",
      "  \n",
      "          Alternatively, you can also rely on setuptools' discovery methods\n",
      "          (for example by using `find_namespace_packages(...)`/`find_namespace:`\n",
      "          instead of `find_packages(...)`/`find:`).\n",
      "  \n",
      "          You can read more about \"package discovery\" on setuptools documentation page:\n",
      "  \n",
      "          - https://setuptools.pypa.io/en/latest/userguide/package_discovery.html\n",
      "  \n",
      "          If you don't want 'gensim.test.test_data.DTM' to be distributed and are\n",
      "          already explicitly excluding 'gensim.test.test_data.DTM' via\n",
      "          `find_namespace_packages(...)/find_namespace` or `find_packages(...)/find`,\n",
      "          you can try to use `exclude_package_data`, or `include-package-data=False` in\n",
      "          combination with a more fine grained `package-data` configuration.\n",
      "  \n",
      "          You can read more about \"package data files\" on setuptools documentation page:\n",
      "  \n",
      "          - https://setuptools.pypa.io/en/latest/userguide/datafiles.html\n",
      "  \n",
      "  \n",
      "          [^1]: For Python, any directory (with suitable naming) can be imported,\n",
      "                even if it does not contain any `.py` files.\n",
      "                On the other hand, currently there is no concept of package data\n",
      "                directory, all directories are treated like packages.\n",
      "          ********************************************************************************\n",
      "  \n",
      "  !!\n",
      "    check.warn(importable)\n",
      "  C:\\Users\\KIIT\\AppData\\Local\\Temp\\pip-build-env-mj_b03za\\overlay\\Lib\\site-packages\\setuptools\\command\\build_py.py:207: _Warning: Package 'gensim.test.test_data.PathLineSentences' is absent from the `packages` configuration.\n",
      "  !!\n",
      "  \n",
      "          ********************************************************************************\n",
      "          ############################\n",
      "          # Package would be ignored #\n",
      "          ############################\n",
      "          Python recognizes 'gensim.test.test_data.PathLineSentences' as an importable package[^1],\n",
      "          but it is absent from setuptools' `packages` configuration.\n",
      "  \n",
      "          This leads to an ambiguous overall configuration. If you want to distribute this\n",
      "          package, please make sure that 'gensim.test.test_data.PathLineSentences' is explicitly added\n",
      "          to the `packages` configuration field.\n",
      "  \n",
      "          Alternatively, you can also rely on setuptools' discovery methods\n",
      "          (for example by using `find_namespace_packages(...)`/`find_namespace:`\n",
      "          instead of `find_packages(...)`/`find:`).\n",
      "  \n",
      "          You can read more about \"package discovery\" on setuptools documentation page:\n",
      "  \n",
      "          - https://setuptools.pypa.io/en/latest/userguide/package_discovery.html\n",
      "  \n",
      "          If you don't want 'gensim.test.test_data.PathLineSentences' to be distributed and are\n",
      "          already explicitly excluding 'gensim.test.test_data.PathLineSentences' via\n",
      "          `find_namespace_packages(...)/find_namespace` or `find_packages(...)/find`,\n",
      "          you can try to use `exclude_package_data`, or `include-package-data=False` in\n",
      "          combination with a more fine grained `package-data` configuration.\n",
      "  \n",
      "          You can read more about \"package data files\" on setuptools documentation page:\n",
      "  \n",
      "          - https://setuptools.pypa.io/en/latest/userguide/datafiles.html\n",
      "  \n",
      "  \n",
      "          [^1]: For Python, any directory (with suitable naming) can be imported,\n",
      "                even if it does not contain any `.py` files.\n",
      "                On the other hand, currently there is no concept of package data\n",
      "                directory, all directories are treated like packages.\n",
      "          ********************************************************************************\n",
      "  \n",
      "  !!\n",
      "    check.warn(importable)\n",
      "  C:\\Users\\KIIT\\AppData\\Local\\Temp\\pip-build-env-mj_b03za\\overlay\\Lib\\site-packages\\setuptools\\command\\build_py.py:207: _Warning: Package 'gensim.test.test_data.old_d2v_models' is absent from the `packages` configuration.\n",
      "  !!\n",
      "  \n",
      "          ********************************************************************************\n",
      "          ############################\n",
      "          # Package would be ignored #\n",
      "          ############################\n",
      "          Python recognizes 'gensim.test.test_data.old_d2v_models' as an importable package[^1],\n",
      "          but it is absent from setuptools' `packages` configuration.\n",
      "  \n",
      "          This leads to an ambiguous overall configuration. If you want to distribute this\n",
      "          package, please make sure that 'gensim.test.test_data.old_d2v_models' is explicitly added\n",
      "          to the `packages` configuration field.\n",
      "  \n",
      "          Alternatively, you can also rely on setuptools' discovery methods\n",
      "          (for example by using `find_namespace_packages(...)`/`find_namespace:`\n",
      "          instead of `find_packages(...)`/`find:`).\n",
      "  \n",
      "          You can read more about \"package discovery\" on setuptools documentation page:\n",
      "  \n",
      "          - https://setuptools.pypa.io/en/latest/userguide/package_discovery.html\n",
      "  \n",
      "          If you don't want 'gensim.test.test_data.old_d2v_models' to be distributed and are\n",
      "          already explicitly excluding 'gensim.test.test_data.old_d2v_models' via\n",
      "          `find_namespace_packages(...)/find_namespace` or `find_packages(...)/find`,\n",
      "          you can try to use `exclude_package_data`, or `include-package-data=False` in\n",
      "          combination with a more fine grained `package-data` configuration.\n",
      "  \n",
      "          You can read more about \"package data files\" on setuptools documentation page:\n",
      "  \n",
      "          - https://setuptools.pypa.io/en/latest/userguide/datafiles.html\n",
      "  \n",
      "  \n",
      "          [^1]: For Python, any directory (with suitable naming) can be imported,\n",
      "                even if it does not contain any `.py` files.\n",
      "                On the other hand, currently there is no concept of package data\n",
      "                directory, all directories are treated like packages.\n",
      "          ********************************************************************************\n",
      "  \n",
      "  !!\n",
      "    check.warn(importable)\n",
      "  C:\\Users\\KIIT\\AppData\\Local\\Temp\\pip-build-env-mj_b03za\\overlay\\Lib\\site-packages\\setuptools\\command\\build_py.py:207: _Warning: Package 'gensim.test.test_data.old_w2v_models' is absent from the `packages` configuration.\n",
      "  !!\n",
      "  \n",
      "          ********************************************************************************\n",
      "          ############################\n",
      "          # Package would be ignored #\n",
      "          ############################\n",
      "          Python recognizes 'gensim.test.test_data.old_w2v_models' as an importable package[^1],\n",
      "          but it is absent from setuptools' `packages` configuration.\n",
      "  \n",
      "          This leads to an ambiguous overall configuration. If you want to distribute this\n",
      "          package, please make sure that 'gensim.test.test_data.old_w2v_models' is explicitly added\n",
      "          to the `packages` configuration field.\n",
      "  \n",
      "          Alternatively, you can also rely on setuptools' discovery methods\n",
      "          (for example by using `find_namespace_packages(...)`/`find_namespace:`\n",
      "          instead of `find_packages(...)`/`find:`).\n",
      "  \n",
      "          You can read more about \"package discovery\" on setuptools documentation page:\n",
      "  \n",
      "          - https://setuptools.pypa.io/en/latest/userguide/package_discovery.html\n",
      "  \n",
      "          If you don't want 'gensim.test.test_data.old_w2v_models' to be distributed and are\n",
      "          already explicitly excluding 'gensim.test.test_data.old_w2v_models' via\n",
      "          `find_namespace_packages(...)/find_namespace` or `find_packages(...)/find`,\n",
      "          you can try to use `exclude_package_data`, or `include-package-data=False` in\n",
      "          combination with a more fine grained `package-data` configuration.\n",
      "  \n",
      "          You can read more about \"package data files\" on setuptools documentation page:\n",
      "  \n",
      "          - https://setuptools.pypa.io/en/latest/userguide/datafiles.html\n",
      "  \n",
      "  \n",
      "          [^1]: For Python, any directory (with suitable naming) can be imported,\n",
      "                even if it does not contain any `.py` files.\n",
      "                On the other hand, currently there is no concept of package data\n",
      "                directory, all directories are treated like packages.\n",
      "          ********************************************************************************\n",
      "  \n",
      "  !!\n",
      "    check.warn(importable)\n",
      "  copying gensim\\_matutils.c -> build\\lib.win-amd64-cpython-312\\gensim\n",
      "  copying gensim\\_matutils.pyx -> build\\lib.win-amd64-cpython-312\\gensim\n",
      "  copying gensim\\corpora\\_mmreader.c -> build\\lib.win-amd64-cpython-312\\gensim\\corpora\n",
      "  copying gensim\\models\\doc2vec_corpusfile.cpp -> build\\lib.win-amd64-cpython-312\\gensim\\models\n",
      "  copying gensim\\models\\doc2vec_inner.cpp -> build\\lib.win-amd64-cpython-312\\gensim\\models\n",
      "  copying gensim\\models\\fasttext_corpusfile.cpp -> build\\lib.win-amd64-cpython-312\\gensim\\models\n",
      "  copying gensim\\models\\fasttext_inner.c -> build\\lib.win-amd64-cpython-312\\gensim\\models\n",
      "  copying gensim\\models\\nmf_pgd.c -> build\\lib.win-amd64-cpython-312\\gensim\\models\n",
      "  copying gensim\\models\\word2vec_corpusfile.cpp -> build\\lib.win-amd64-cpython-312\\gensim\\models\n",
      "  copying gensim\\models\\word2vec_inner.c -> build\\lib.win-amd64-cpython-312\\gensim\\models\n",
      "  copying gensim\\similarities\\fastss.c -> build\\lib.win-amd64-cpython-312\\gensim\\similarities\n",
      "  copying gensim\\corpora\\_mmreader.pyx -> build\\lib.win-amd64-cpython-312\\gensim\\corpora\n",
      "  copying gensim\\models\\doc2vec_corpusfile.pyx -> build\\lib.win-amd64-cpython-312\\gensim\\models\n",
      "  copying gensim\\models\\doc2vec_inner.pxd -> build\\lib.win-amd64-cpython-312\\gensim\\models\n",
      "  copying gensim\\models\\doc2vec_inner.pyx -> build\\lib.win-amd64-cpython-312\\gensim\\models\n",
      "  copying gensim\\models\\fast_line_sentence.h -> build\\lib.win-amd64-cpython-312\\gensim\\models\n",
      "  copying gensim\\models\\fasttext_corpusfile.pyx -> build\\lib.win-amd64-cpython-312\\gensim\\models\n",
      "  copying gensim\\models\\fasttext_inner.pxd -> build\\lib.win-amd64-cpython-312\\gensim\\models\n",
      "  copying gensim\\models\\fasttext_inner.pyx -> build\\lib.win-amd64-cpython-312\\gensim\\models\n",
      "  copying gensim\\models\\nmf_pgd.pyx -> build\\lib.win-amd64-cpython-312\\gensim\\models\n",
      "  copying gensim\\models\\stdint_wrapper.h -> build\\lib.win-amd64-cpython-312\\gensim\\models\n",
      "  copying gensim\\models\\voidptr.h -> build\\lib.win-amd64-cpython-312\\gensim\\models\n",
      "  copying gensim\\models\\word2vec_corpusfile.pxd -> build\\lib.win-amd64-cpython-312\\gensim\\models\n",
      "  copying gensim\\models\\word2vec_corpusfile.pyx -> build\\lib.win-amd64-cpython-312\\gensim\\models\n",
      "  copying gensim\\models\\word2vec_inner.pxd -> build\\lib.win-amd64-cpython-312\\gensim\\models\n",
      "  copying gensim\\models\\word2vec_inner.pyx -> build\\lib.win-amd64-cpython-312\\gensim\\models\n",
      "  creating build\\lib.win-amd64-cpython-312\\gensim\\test\\test_data\n",
      "  copying gensim\\test\\test_data\\EN.1-10.cbow1_wind5_hs0_neg10_size300_smpl1e-05.txt -> build\\lib.win-amd64-cpython-312\\gensim\\test\\test_data\n",
      "  copying gensim\\test\\test_data\\IT.1-10.cbow1_wind5_hs0_neg10_size300_smpl1e-05.txt -> build\\lib.win-amd64-cpython-312\\gensim\\test\\test_data\n",
      "  copying gensim\\test\\test_data\\OPUS_en_it_europarl_train_one2ten.txt -> build\\lib.win-amd64-cpython-312\\gensim\\test\\test_data\n",
      "  copying gensim\\test\\test_data\\alldata-id-10.txt -> build\\lib.win-amd64-cpython-312\\gensim\\test\\test_data\n",
      "  copying gensim\\test\\test_data\\atmodel_3_0_1_model -> build\\lib.win-amd64-cpython-312\\gensim\\test\\test_data\n",
      "  copying gensim\\test\\test_data\\atmodel_3_0_1_model.expElogbeta.npy -> build\\lib.win-amd64-cpython-312\\gensim\\test\\test_data\n",
      "  copying gensim\\test\\test_data\\atmodel_3_0_1_model.id2word -> build\\lib.win-amd64-cpython-312\\gensim\\test\\test_data\n",
      "  copying gensim\\test\\test_data\\atmodel_3_0_1_model.state -> build\\lib.win-amd64-cpython-312\\gensim\\test\\test_data\n",
      "  copying gensim\\test\\test_data\\bgwiki-latest-pages-articles-shortened.xml.bz2 -> build\\lib.win-amd64-cpython-312\\gensim\\test\\test_data\n",
      "  copying gensim\\test\\test_data\\compatible-hash-true.model -> build\\lib.win-amd64-cpython-312\\gensim\\test\\test_data\n",
      "  copying gensim\\test\\test_data\\cp852_fasttext.bin -> build\\lib.win-amd64-cpython-312\\gensim\\test\\test_data\n",
      "  copying gensim\\test\\test_data\\crime-and-punishment.bin -> build\\lib.win-amd64-cpython-312\\gensim\\test\\test_data\n",
      "  copying gensim\\test\\test_data\\crime-and-punishment.txt -> build\\lib.win-amd64-cpython-312\\gensim\\test\\test_data\n",
      "  copying gensim\\test\\test_data\\crime-and-punishment.vec -> build\\lib.win-amd64-cpython-312\\gensim\\test\\test_data\n",
      "  copying gensim\\test\\test_data\\d2v-lee-v0.13.0 -> build\\lib.win-amd64-cpython-312\\gensim\\test\\test_data\n",
      "  copying gensim\\test\\test_data\\doc2vec_old -> build\\lib.win-amd64-cpython-312\\gensim\\test\\test_data\n",
      "  copying gensim\\test\\test_data\\doc2vec_old_sep -> build\\lib.win-amd64-cpython-312\\gensim\\test\\test_data\n",
      "  copying gensim\\test\\test_data\\doc2vec_old_sep.syn0_lockf.npy -> build\\lib.win-amd64-cpython-312\\gensim\\test\\test_data\n",
      "  copying gensim\\test\\test_data\\doc2vec_old_sep.syn1neg.npy -> build\\lib.win-amd64-cpython-312\\gensim\\test\\test_data\n",
      "  copying gensim\\test\\test_data\\dtm_test.dict -> build\\lib.win-amd64-cpython-312\\gensim\\test\\test_data\n",
      "  copying gensim\\test\\test_data\\dtm_test.mm -> build\\lib.win-amd64-cpython-312\\gensim\\test\\test_data\n",
      "  copying gensim\\test\\test_data\\ensemblelda -> build\\lib.win-amd64-cpython-312\\gensim\\test\\test_data\n",
      "  copying gensim\\test\\test_data\\enwiki-latest-pages-articles1.xml-p000000010p000030302-shortened.bz2 -> build\\lib.win-amd64-cpython-312\\gensim\\test\\test_data\n",
      "  copying gensim\\test\\test_data\\enwiki-table-markup.xml.bz2 -> build\\lib.win-amd64-cpython-312\\gensim\\test\\test_data\n",
      "  copying gensim\\test\\test_data\\euclidean_vectors.bin -> build\\lib.win-amd64-cpython-312\\gensim\\test\\test_data\n",
      "  copying gensim\\test\\test_data\\fasttext_old -> build\\lib.win-amd64-cpython-312\\gensim\\test\\test_data\n",
      "  copying gensim\\test\\test_data\\fasttext_old_sep -> build\\lib.win-amd64-cpython-312\\gensim\\test\\test_data\n",
      "  copying gensim\\test\\test_data\\fasttext_old_sep.syn0_lockf.npy -> build\\lib.win-amd64-cpython-312\\gensim\\test\\test_data\n",
      "  copying gensim\\test\\test_data\\fasttext_old_sep.syn1neg.npy -> build\\lib.win-amd64-cpython-312\\gensim\\test\\test_data\n",
      "  copying gensim\\test\\test_data\\fb-ngrams.txt -> build\\lib.win-amd64-cpython-312\\gensim\\test\\test_data\n",
      "  copying gensim\\test\\test_data\\ft_kv_3.6.0.model.gz -> build\\lib.win-amd64-cpython-312\\gensim\\test\\test_data\n",
      "  copying gensim\\test\\test_data\\ft_model_2.3.0 -> build\\lib.win-amd64-cpython-312\\gensim\\test\\test_data\n",
      "  copying gensim\\test\\test_data\\head500.noblanks.cor -> build\\lib.win-amd64-cpython-312\\gensim\\test\\test_data\n",
      "  copying gensim\\test\\test_data\\head500.noblanks.cor.bz2 -> build\\lib.win-amd64-cpython-312\\gensim\\test\\test_data\n",
      "  copying gensim\\test\\test_data\\head500.noblanks.cor_tfidf.model -> build\\lib.win-amd64-cpython-312\\gensim\\test\\test_data\n",
      "  copying gensim\\test\\test_data\\head500.noblanks.cor_wordids.txt -> build\\lib.win-amd64-cpython-312\\gensim\\test\\test_data\n",
      "  copying gensim\\test\\test_data\\high_precision.kv.bin -> build\\lib.win-amd64-cpython-312\\gensim\\test\\test_data\n",
      "  copying gensim\\test\\test_data\\high_precision.kv.txt -> build\\lib.win-amd64-cpython-312\\gensim\\test\\test_data\n",
      "  copying gensim\\test\\test_data\\large_tag_doc_10_iter50 -> build\\lib.win-amd64-cpython-312\\gensim\\test\\test_data\n",
      "  copying gensim\\test\\test_data\\lda_3_0_1_model -> build\\lib.win-amd64-cpython-312\\gensim\\test\\test_data\n",
      "  copying gensim\\test\\test_data\\lda_3_0_1_model.expElogbeta.npy -> build\\lib.win-amd64-cpython-312\\gensim\\test\\test_data\n",
      "  copying gensim\\test\\test_data\\lda_3_0_1_model.id2word -> build\\lib.win-amd64-cpython-312\\gensim\\test\\test_data\n",
      "  copying gensim\\test\\test_data\\lda_3_0_1_model.state -> build\\lib.win-amd64-cpython-312\\gensim\\test\\test_data\n",
      "  copying gensim\\test\\test_data\\ldamodel_python_2_7 -> build\\lib.win-amd64-cpython-312\\gensim\\test\\test_data\n",
      "  copying gensim\\test\\test_data\\ldamodel_python_2_7.expElogbeta.npy -> build\\lib.win-amd64-cpython-312\\gensim\\test\\test_data\n",
      "  copying gensim\\test\\test_data\\ldamodel_python_2_7.id2word -> build\\lib.win-amd64-cpython-312\\gensim\\test\\test_data\n",
      "  copying gensim\\test\\test_data\\ldamodel_python_2_7.state -> build\\lib.win-amd64-cpython-312\\gensim\\test\\test_data\n",
      "  copying gensim\\test\\test_data\\ldamodel_python_3_5 -> build\\lib.win-amd64-cpython-312\\gensim\\test\\test_data\n",
      "  copying gensim\\test\\test_data\\ldamodel_python_3_5.expElogbeta.npy -> build\\lib.win-amd64-cpython-312\\gensim\\test\\test_data\n",
      "  copying gensim\\test\\test_data\\ldamodel_python_3_5.id2word -> build\\lib.win-amd64-cpython-312\\gensim\\test\\test_data\n",
      "  copying gensim\\test\\test_data\\ldamodel_python_3_5.state -> build\\lib.win-amd64-cpython-312\\gensim\\test\\test_data\n",
      "  copying gensim\\test\\test_data\\ldavowpalwabbit.dict.txt -> build\\lib.win-amd64-cpython-312\\gensim\\test\\test_data\n",
      "  copying gensim\\test\\test_data\\ldavowpalwabbit.txt -> build\\lib.win-amd64-cpython-312\\gensim\\test\\test_data\n",
      "  copying gensim\\test\\test_data\\lee.cor -> build\\lib.win-amd64-cpython-312\\gensim\\test\\test_data\n",
      "  copying gensim\\test\\test_data\\lee_background.cor -> build\\lib.win-amd64-cpython-312\\gensim\\test\\test_data\n",
      "  copying gensim\\test\\test_data\\lee_fasttext -> build\\lib.win-amd64-cpython-312\\gensim\\test\\test_data\n",
      "  copying gensim\\test\\test_data\\lee_fasttext.bin -> build\\lib.win-amd64-cpython-312\\gensim\\test\\test_data\n",
      "  copying gensim\\test\\test_data\\lee_fasttext.vec -> build\\lib.win-amd64-cpython-312\\gensim\\test\\test_data\n",
      "  copying gensim\\test\\test_data\\lee_fasttext_new.bin -> build\\lib.win-amd64-cpython-312\\gensim\\test\\test_data\n",
      "  copying gensim\\test\\test_data\\miIslita.cor -> build\\lib.win-amd64-cpython-312\\gensim\\test\\test_data\n",
      "  copying gensim\\test\\test_data\\mini_newsgroup -> build\\lib.win-amd64-cpython-312\\gensim\\test\\test_data\n",
      "  copying gensim\\test\\test_data\\model-from-gensim-3.8.0.w2v -> build\\lib.win-amd64-cpython-312\\gensim\\test\\test_data\n",
      "  copying gensim\\test\\test_data\\nmf_model -> build\\lib.win-amd64-cpython-312\\gensim\\test\\test_data\n",
      "  copying gensim\\test\\test_data\\non_ascii_fasttext.bin -> build\\lib.win-amd64-cpython-312\\gensim\\test\\test_data\n",
      "  copying gensim\\test\\test_data\\old_keyedvectors_320.dat -> build\\lib.win-amd64-cpython-312\\gensim\\test\\test_data\n",
      "  copying gensim\\test\\test_data\\pang_lee_polarity.cor -> build\\lib.win-amd64-cpython-312\\gensim\\test\\test_data\n",
      "  copying gensim\\test\\test_data\\pang_lee_polarity_fasttext.bin -> build\\lib.win-amd64-cpython-312\\gensim\\test\\test_data\n",
      "  copying gensim\\test\\test_data\\pang_lee_polarity_fasttext.vec -> build\\lib.win-amd64-cpython-312\\gensim\\test\\test_data\n",
      "  copying gensim\\test\\test_data\\para2para_text1.txt -> build\\lib.win-amd64-cpython-312\\gensim\\test\\test_data\n",
      "  copying gensim\\test\\test_data\\para2para_text2.txt -> build\\lib.win-amd64-cpython-312\\gensim\\test\\test_data\n",
      "  copying gensim\\test\\test_data\\phraser-3.6.0.model -> build\\lib.win-amd64-cpython-312\\gensim\\test\\test_data\n",
      "  copying gensim\\test\\test_data\\phraser-no-common-terms.pkl -> build\\lib.win-amd64-cpython-312\\gensim\\test\\test_data\n",
      "  copying gensim\\test\\test_data\\phraser-no-scoring.pkl -> build\\lib.win-amd64-cpython-312\\gensim\\test\\test_data\n",
      "  copying gensim\\test\\test_data\\phraser-scoring-str.pkl -> build\\lib.win-amd64-cpython-312\\gensim\\test\\test_data\n",
      "  copying gensim\\test\\test_data\\phrases-3.6.0.model -> build\\lib.win-amd64-cpython-312\\gensim\\test\\test_data\n",
      "  copying gensim\\test\\test_data\\phrases-no-common-terms.pkl -> build\\lib.win-amd64-cpython-312\\gensim\\test\\test_data\n",
      "  copying gensim\\test\\test_data\\phrases-no-scoring.pkl -> build\\lib.win-amd64-cpython-312\\gensim\\test\\test_data\n",
      "  copying gensim\\test\\test_data\\phrases-scoring-str.pkl -> build\\lib.win-amd64-cpython-312\\gensim\\test\\test_data\n",
      "  copying gensim\\test\\test_data\\poincare_cp852.tsv -> build\\lib.win-amd64-cpython-312\\gensim\\test\\test_data\n",
      "  copying gensim\\test\\test_data\\poincare_hypernyms.tsv -> build\\lib.win-amd64-cpython-312\\gensim\\test\\test_data\n",
      "  copying gensim\\test\\test_data\\poincare_hypernyms_large.tsv -> build\\lib.win-amd64-cpython-312\\gensim\\test\\test_data\n",
      "  copying gensim\\test\\test_data\\poincare_test_3.4.0 -> build\\lib.win-amd64-cpython-312\\gensim\\test\\test_data\n",
      "  copying gensim\\test\\test_data\\poincare_utf8.tsv -> build\\lib.win-amd64-cpython-312\\gensim\\test\\test_data\n",
      "  copying gensim\\test\\test_data\\poincare_vectors.bin -> build\\lib.win-amd64-cpython-312\\gensim\\test\\test_data\n",
      "  copying gensim\\test\\test_data\\pre_0_13_2_model -> build\\lib.win-amd64-cpython-312\\gensim\\test\\test_data\n",
      "  copying gensim\\test\\test_data\\pre_0_13_2_model.state -> build\\lib.win-amd64-cpython-312\\gensim\\test\\test_data\n",
      "  copying gensim\\test\\test_data\\pretrained.vec -> build\\lib.win-amd64-cpython-312\\gensim\\test\\test_data\n",
      "  copying gensim\\test\\test_data\\questions-words.txt -> build\\lib.win-amd64-cpython-312\\gensim\\test\\test_data\n",
      "  copying gensim\\test\\test_data\\reproduce.dat -> build\\lib.win-amd64-cpython-312\\gensim\\test\\test_data\n",
      "  copying gensim\\test\\test_data\\reproduce.dat.gz -> build\\lib.win-amd64-cpython-312\\gensim\\test\\test_data\n",
      "  copying gensim\\test\\test_data\\similarities0-1.txt -> build\\lib.win-amd64-cpython-312\\gensim\\test\\test_data\n",
      "  copying gensim\\test\\test_data\\simlex999.txt -> build\\lib.win-amd64-cpython-312\\gensim\\test\\test_data\n",
      "  copying gensim\\test\\test_data\\small_tag_doc_5_iter50 -> build\\lib.win-amd64-cpython-312\\gensim\\test\\test_data\n",
      "  copying gensim\\test\\test_data\\test_corpus_ok.mm -> build\\lib.win-amd64-cpython-312\\gensim\\test\\test_data\n",
      "  copying gensim\\test\\test_data\\test_corpus_small.mm -> build\\lib.win-amd64-cpython-312\\gensim\\test\\test_data\n",
      "  copying gensim\\test\\test_data\\test_glove.txt -> build\\lib.win-amd64-cpython-312\\gensim\\test\\test_data\n",
      "  copying gensim\\test\\test_data\\test_mmcorpus_corrupt.mm -> build\\lib.win-amd64-cpython-312\\gensim\\test\\test_data\n",
      "  copying gensim\\test\\test_data\\test_mmcorpus_no_index.mm -> build\\lib.win-amd64-cpython-312\\gensim\\test\\test_data\n",
      "  copying gensim\\test\\test_data\\test_mmcorpus_no_index.mm.bz2 -> build\\lib.win-amd64-cpython-312\\gensim\\test\\test_data\n",
      "  copying gensim\\test\\test_data\\test_mmcorpus_no_index.mm.gz -> build\\lib.win-amd64-cpython-312\\gensim\\test\\test_data\n",
      "  copying gensim\\test\\test_data\\test_mmcorpus_overflow.mm -> build\\lib.win-amd64-cpython-312\\gensim\\test\\test_data\n",
      "  copying gensim\\test\\test_data\\test_mmcorpus_with_index.mm -> build\\lib.win-amd64-cpython-312\\gensim\\test\\test_data\n",
      "  copying gensim\\test\\test_data\\test_mmcorpus_with_index.mm.index -> build\\lib.win-amd64-cpython-312\\gensim\\test\\test_data\n",
      "  copying gensim\\test\\test_data\\testcorpus.blei -> build\\lib.win-amd64-cpython-312\\gensim\\test\\test_data\n",
      "  copying gensim\\test\\test_data\\testcorpus.blei.index -> build\\lib.win-amd64-cpython-312\\gensim\\test\\test_data\n",
      "  copying gensim\\test\\test_data\\testcorpus.blei.vocab -> build\\lib.win-amd64-cpython-312\\gensim\\test\\test_data\n",
      "  copying gensim\\test\\test_data\\testcorpus.low -> build\\lib.win-amd64-cpython-312\\gensim\\test\\test_data\n",
      "  copying gensim\\test\\test_data\\testcorpus.low.index -> build\\lib.win-amd64-cpython-312\\gensim\\test\\test_data\n",
      "  copying gensim\\test\\test_data\\testcorpus.mallet -> build\\lib.win-amd64-cpython-312\\gensim\\test\\test_data\n",
      "  copying gensim\\test\\test_data\\testcorpus.mallet.index -> build\\lib.win-amd64-cpython-312\\gensim\\test\\test_data\n",
      "  copying gensim\\test\\test_data\\testcorpus.mm -> build\\lib.win-amd64-cpython-312\\gensim\\test\\test_data\n",
      "  copying gensim\\test\\test_data\\testcorpus.mm.index -> build\\lib.win-amd64-cpython-312\\gensim\\test\\test_data\n",
      "  copying gensim\\test\\test_data\\testcorpus.svmlight -> build\\lib.win-amd64-cpython-312\\gensim\\test\\test_data\n",
      "  copying gensim\\test\\test_data\\testcorpus.svmlight.index -> build\\lib.win-amd64-cpython-312\\gensim\\test\\test_data\n",
      "  copying gensim\\test\\test_data\\testcorpus.txt -> build\\lib.win-amd64-cpython-312\\gensim\\test\\test_data\n",
      "  copying gensim\\test\\test_data\\testcorpus.uci -> build\\lib.win-amd64-cpython-312\\gensim\\test\\test_data\n",
      "  copying gensim\\test\\test_data\\testcorpus.uci.index -> build\\lib.win-amd64-cpython-312\\gensim\\test\\test_data\n",
      "  copying gensim\\test\\test_data\\testcorpus.uci.vocab -> build\\lib.win-amd64-cpython-312\\gensim\\test\\test_data\n",
      "  copying gensim\\test\\test_data\\testcorpus.xml.bz2 -> build\\lib.win-amd64-cpython-312\\gensim\\test\\test_data\n",
      "  copying gensim\\test\\test_data\\tfidf_model.tst -> build\\lib.win-amd64-cpython-312\\gensim\\test\\test_data\n",
      "  copying gensim\\test\\test_data\\tfidf_model.tst.bz2 -> build\\lib.win-amd64-cpython-312\\gensim\\test\\test_data\n",
      "  copying gensim\\test\\test_data\\tfidf_model_3_2.tst -> build\\lib.win-amd64-cpython-312\\gensim\\test\\test_data\n",
      "  copying gensim\\test\\test_data\\toy-data.txt -> build\\lib.win-amd64-cpython-312\\gensim\\test\\test_data\n",
      "  copying gensim\\test\\test_data\\toy-model-pretrained.bin -> build\\lib.win-amd64-cpython-312\\gensim\\test\\test_data\n",
      "  copying gensim\\test\\test_data\\toy-model.bin -> build\\lib.win-amd64-cpython-312\\gensim\\test\\test_data\n",
      "  copying gensim\\test\\test_data\\toy-model.vec -> build\\lib.win-amd64-cpython-312\\gensim\\test\\test_data\n",
      "  copying gensim\\test\\test_data\\varembed_lee_subcorpus.cor -> build\\lib.win-amd64-cpython-312\\gensim\\test\\test_data\n",
      "  copying gensim\\test\\test_data\\varembed_morfessor.bin -> build\\lib.win-amd64-cpython-312\\gensim\\test\\test_data\n",
      "  copying gensim\\test\\test_data\\varembed_vectors.pkl -> build\\lib.win-amd64-cpython-312\\gensim\\test\\test_data\n",
      "  copying gensim\\test\\test_data\\w2v-lee-v0.12.0 -> build\\lib.win-amd64-cpython-312\\gensim\\test\\test_data\n",
      "  copying gensim\\test\\test_data\\w2v_keyedvectors_load_test.modeldata -> build\\lib.win-amd64-cpython-312\\gensim\\test\\test_data\n",
      "  copying gensim\\test\\test_data\\w2v_keyedvectors_load_test.vocab -> build\\lib.win-amd64-cpython-312\\gensim\\test\\test_data\n",
      "  copying gensim\\test\\test_data\\word2vec_3.3 -> build\\lib.win-amd64-cpython-312\\gensim\\test\\test_data\n",
      "  copying gensim\\test\\test_data\\word2vec_old -> build\\lib.win-amd64-cpython-312\\gensim\\test\\test_data\n",
      "  copying gensim\\test\\test_data\\word2vec_old_sep -> build\\lib.win-amd64-cpython-312\\gensim\\test\\test_data\n",
      "  copying gensim\\test\\test_data\\word2vec_old_sep.syn0_lockf.npy -> build\\lib.win-amd64-cpython-312\\gensim\\test\\test_data\n",
      "  copying gensim\\test\\test_data\\word2vec_old_sep.syn1neg.npy -> build\\lib.win-amd64-cpython-312\\gensim\\test\\test_data\n",
      "  copying gensim\\test\\test_data\\word2vec_pre_kv_c -> build\\lib.win-amd64-cpython-312\\gensim\\test\\test_data\n",
      "  copying gensim\\test\\test_data\\word2vec_pre_kv_py2 -> build\\lib.win-amd64-cpython-312\\gensim\\test\\test_data\n",
      "  copying gensim\\test\\test_data\\word2vec_pre_kv_py3 -> build\\lib.win-amd64-cpython-312\\gensim\\test\\test_data\n",
      "  copying gensim\\test\\test_data\\word2vec_pre_kv_py3_4 -> build\\lib.win-amd64-cpython-312\\gensim\\test\\test_data\n",
      "  copying gensim\\test\\test_data\\word2vec_pre_kv_sep_py2 -> build\\lib.win-amd64-cpython-312\\gensim\\test\\test_data\n",
      "  copying gensim\\test\\test_data\\word2vec_pre_kv_sep_py2.neg_labels.npy -> build\\lib.win-amd64-cpython-312\\gensim\\test\\test_data\n",
      "  copying gensim\\test\\test_data\\word2vec_pre_kv_sep_py2.syn0.npy -> build\\lib.win-amd64-cpython-312\\gensim\\test\\test_data\n",
      "  copying gensim\\test\\test_data\\word2vec_pre_kv_sep_py2.syn0_lockf.npy -> build\\lib.win-amd64-cpython-312\\gensim\\test\\test_data\n",
      "  copying gensim\\test\\test_data\\word2vec_pre_kv_sep_py2.syn1neg.npy -> build\\lib.win-amd64-cpython-312\\gensim\\test\\test_data\n",
      "  copying gensim\\test\\test_data\\word2vec_pre_kv_sep_py3 -> build\\lib.win-amd64-cpython-312\\gensim\\test\\test_data\n",
      "  copying gensim\\test\\test_data\\word2vec_pre_kv_sep_py3.neg_labels.npy -> build\\lib.win-amd64-cpython-312\\gensim\\test\\test_data\n",
      "  copying gensim\\test\\test_data\\word2vec_pre_kv_sep_py3.syn0.npy -> build\\lib.win-amd64-cpython-312\\gensim\\test\\test_data\n",
      "  copying gensim\\test\\test_data\\word2vec_pre_kv_sep_py3.syn0_lockf.npy -> build\\lib.win-amd64-cpython-312\\gensim\\test\\test_data\n",
      "  copying gensim\\test\\test_data\\word2vec_pre_kv_sep_py3.syn1neg.npy -> build\\lib.win-amd64-cpython-312\\gensim\\test\\test_data\n",
      "  copying gensim\\test\\test_data\\word2vec_pre_kv_sep_py3_4 -> build\\lib.win-amd64-cpython-312\\gensim\\test\\test_data\n",
      "  copying gensim\\test\\test_data\\word2vec_pre_kv_sep_py3_4.neg_labels.npy -> build\\lib.win-amd64-cpython-312\\gensim\\test\\test_data\n",
      "  copying gensim\\test\\test_data\\word2vec_pre_kv_sep_py3_4.syn0.npy -> build\\lib.win-amd64-cpython-312\\gensim\\test\\test_data\n",
      "  copying gensim\\test\\test_data\\word2vec_pre_kv_sep_py3_4.syn0_lockf.npy -> build\\lib.win-amd64-cpython-312\\gensim\\test\\test_data\n",
      "  copying gensim\\test\\test_data\\word2vec_pre_kv_sep_py3_4.syn1neg.npy -> build\\lib.win-amd64-cpython-312\\gensim\\test\\test_data\n",
      "  copying gensim\\test\\test_data\\wordsim353.tsv -> build\\lib.win-amd64-cpython-312\\gensim\\test\\test_data\n",
      "  creating build\\lib.win-amd64-cpython-312\\gensim\\test\\test_data\\DTM\n",
      "  copying gensim\\test\\test_data\\DTM\\ldaseq_3_0_1_model -> build\\lib.win-amd64-cpython-312\\gensim\\test\\test_data\\DTM\n",
      "  copying gensim\\test\\test_data\\DTM\\sstats_test.txt -> build\\lib.win-amd64-cpython-312\\gensim\\test\\test_data\\DTM\n",
      "  creating build\\lib.win-amd64-cpython-312\\gensim\\test\\test_data\\PathLineSentences\n",
      "  copying gensim\\test\\test_data\\PathLineSentences\\1.txt -> build\\lib.win-amd64-cpython-312\\gensim\\test\\test_data\\PathLineSentences\n",
      "  copying gensim\\test\\test_data\\PathLineSentences\\2.txt.bz2 -> build\\lib.win-amd64-cpython-312\\gensim\\test\\test_data\\PathLineSentences\n",
      "  creating build\\lib.win-amd64-cpython-312\\gensim\\test\\test_data\\old_d2v_models\n",
      "  copying gensim\\test\\test_data\\old_d2v_models\\d2v_0.12.0.mdl -> build\\lib.win-amd64-cpython-312\\gensim\\test\\test_data\\old_d2v_models\n",
      "  copying gensim\\test\\test_data\\old_d2v_models\\d2v_0.12.1.mdl -> build\\lib.win-amd64-cpython-312\\gensim\\test\\test_data\\old_d2v_models\n",
      "  copying gensim\\test\\test_data\\old_d2v_models\\d2v_0.12.2.mdl -> build\\lib.win-amd64-cpython-312\\gensim\\test\\test_data\\old_d2v_models\n",
      "  copying gensim\\test\\test_data\\old_d2v_models\\d2v_0.12.3.mdl -> build\\lib.win-amd64-cpython-312\\gensim\\test\\test_data\\old_d2v_models\n",
      "  copying gensim\\test\\test_data\\old_d2v_models\\d2v_0.12.4.mdl -> build\\lib.win-amd64-cpython-312\\gensim\\test\\test_data\\old_d2v_models\n",
      "  copying gensim\\test\\test_data\\old_d2v_models\\d2v_0.13.0.mdl -> build\\lib.win-amd64-cpython-312\\gensim\\test\\test_data\\old_d2v_models\n",
      "  copying gensim\\test\\test_data\\old_d2v_models\\d2v_0.13.1.mdl -> build\\lib.win-amd64-cpython-312\\gensim\\test\\test_data\\old_d2v_models\n",
      "  copying gensim\\test\\test_data\\old_d2v_models\\d2v_0.13.2.mdl -> build\\lib.win-amd64-cpython-312\\gensim\\test\\test_data\\old_d2v_models\n",
      "  copying gensim\\test\\test_data\\old_d2v_models\\d2v_0.13.3.mdl -> build\\lib.win-amd64-cpython-312\\gensim\\test\\test_data\\old_d2v_models\n",
      "  copying gensim\\test\\test_data\\old_d2v_models\\d2v_0.13.4.mdl -> build\\lib.win-amd64-cpython-312\\gensim\\test\\test_data\\old_d2v_models\n",
      "  copying gensim\\test\\test_data\\old_d2v_models\\d2v_1.0.0.mdl -> build\\lib.win-amd64-cpython-312\\gensim\\test\\test_data\\old_d2v_models\n",
      "  copying gensim\\test\\test_data\\old_d2v_models\\d2v_1.0.1.mdl -> build\\lib.win-amd64-cpython-312\\gensim\\test\\test_data\\old_d2v_models\n",
      "  copying gensim\\test\\test_data\\old_d2v_models\\d2v_2.0.0.mdl -> build\\lib.win-amd64-cpython-312\\gensim\\test\\test_data\\old_d2v_models\n",
      "  copying gensim\\test\\test_data\\old_d2v_models\\d2v_2.1.0.mdl -> build\\lib.win-amd64-cpython-312\\gensim\\test\\test_data\\old_d2v_models\n",
      "  copying gensim\\test\\test_data\\old_d2v_models\\d2v_2.2.0.mdl -> build\\lib.win-amd64-cpython-312\\gensim\\test\\test_data\\old_d2v_models\n",
      "  copying gensim\\test\\test_data\\old_d2v_models\\d2v_2.3.0.mdl -> build\\lib.win-amd64-cpython-312\\gensim\\test\\test_data\\old_d2v_models\n",
      "  copying gensim\\test\\test_data\\old_d2v_models\\d2v_3.0.0.mdl -> build\\lib.win-amd64-cpython-312\\gensim\\test\\test_data\\old_d2v_models\n",
      "  copying gensim\\test\\test_data\\old_d2v_models\\d2v_3.1.0.mdl -> build\\lib.win-amd64-cpython-312\\gensim\\test\\test_data\\old_d2v_models\n",
      "  copying gensim\\test\\test_data\\old_d2v_models\\d2v_3.2.0.mdl -> build\\lib.win-amd64-cpython-312\\gensim\\test\\test_data\\old_d2v_models\n",
      "  copying gensim\\test\\test_data\\old_d2v_models\\d2v_3.3.0.mdl -> build\\lib.win-amd64-cpython-312\\gensim\\test\\test_data\\old_d2v_models\n",
      "  copying gensim\\test\\test_data\\old_d2v_models\\d2v_3.4.0.mdl -> build\\lib.win-amd64-cpython-312\\gensim\\test\\test_data\\old_d2v_models\n",
      "  creating build\\lib.win-amd64-cpython-312\\gensim\\test\\test_data\\old_w2v_models\n",
      "  copying gensim\\test\\test_data\\old_w2v_models\\w2v_0.12.0.mdl -> build\\lib.win-amd64-cpython-312\\gensim\\test\\test_data\\old_w2v_models\n",
      "  copying gensim\\test\\test_data\\old_w2v_models\\w2v_0.12.1.mdl -> build\\lib.win-amd64-cpython-312\\gensim\\test\\test_data\\old_w2v_models\n",
      "  copying gensim\\test\\test_data\\old_w2v_models\\w2v_0.12.2.mdl -> build\\lib.win-amd64-cpython-312\\gensim\\test\\test_data\\old_w2v_models\n",
      "  copying gensim\\test\\test_data\\old_w2v_models\\w2v_0.12.3.mdl -> build\\lib.win-amd64-cpython-312\\gensim\\test\\test_data\\old_w2v_models\n",
      "  copying gensim\\test\\test_data\\old_w2v_models\\w2v_0.12.4.mdl -> build\\lib.win-amd64-cpython-312\\gensim\\test\\test_data\\old_w2v_models\n",
      "  copying gensim\\test\\test_data\\old_w2v_models\\w2v_0.13.0.mdl -> build\\lib.win-amd64-cpython-312\\gensim\\test\\test_data\\old_w2v_models\n",
      "  copying gensim\\test\\test_data\\old_w2v_models\\w2v_0.13.1.mdl -> build\\lib.win-amd64-cpython-312\\gensim\\test\\test_data\\old_w2v_models\n",
      "  copying gensim\\test\\test_data\\old_w2v_models\\w2v_0.13.2.mdl -> build\\lib.win-amd64-cpython-312\\gensim\\test\\test_data\\old_w2v_models\n",
      "  copying gensim\\test\\test_data\\old_w2v_models\\w2v_0.13.3.mdl -> build\\lib.win-amd64-cpython-312\\gensim\\test\\test_data\\old_w2v_models\n",
      "  copying gensim\\test\\test_data\\old_w2v_models\\w2v_0.13.4.mdl -> build\\lib.win-amd64-cpython-312\\gensim\\test\\test_data\\old_w2v_models\n",
      "  copying gensim\\test\\test_data\\old_w2v_models\\w2v_1.0.0.mdl -> build\\lib.win-amd64-cpython-312\\gensim\\test\\test_data\\old_w2v_models\n",
      "  copying gensim\\test\\test_data\\old_w2v_models\\w2v_1.0.1.mdl -> build\\lib.win-amd64-cpython-312\\gensim\\test\\test_data\\old_w2v_models\n",
      "  copying gensim\\test\\test_data\\old_w2v_models\\w2v_2.0.0.mdl -> build\\lib.win-amd64-cpython-312\\gensim\\test\\test_data\\old_w2v_models\n",
      "  copying gensim\\test\\test_data\\old_w2v_models\\w2v_2.1.0.mdl -> build\\lib.win-amd64-cpython-312\\gensim\\test\\test_data\\old_w2v_models\n",
      "  copying gensim\\test\\test_data\\old_w2v_models\\w2v_2.2.0.mdl -> build\\lib.win-amd64-cpython-312\\gensim\\test\\test_data\\old_w2v_models\n",
      "  copying gensim\\test\\test_data\\old_w2v_models\\w2v_2.3.0.mdl -> build\\lib.win-amd64-cpython-312\\gensim\\test\\test_data\\old_w2v_models\n",
      "  copying gensim\\test\\test_data\\old_w2v_models\\w2v_3.0.0.mdl -> build\\lib.win-amd64-cpython-312\\gensim\\test\\test_data\\old_w2v_models\n",
      "  copying gensim\\test\\test_data\\old_w2v_models\\w2v_3.1.0.mdl -> build\\lib.win-amd64-cpython-312\\gensim\\test\\test_data\\old_w2v_models\n",
      "  copying gensim\\test\\test_data\\old_w2v_models\\w2v_3.2.0.mdl -> build\\lib.win-amd64-cpython-312\\gensim\\test\\test_data\\old_w2v_models\n",
      "  copying gensim\\test\\test_data\\old_w2v_models\\w2v_3.3.0.mdl -> build\\lib.win-amd64-cpython-312\\gensim\\test\\test_data\\old_w2v_models\n",
      "  copying gensim\\test\\test_data\\old_w2v_models\\w2v_3.4.0.mdl -> build\\lib.win-amd64-cpython-312\\gensim\\test\\test_data\\old_w2v_models\n",
      "  running build_ext\n",
      "  building 'gensim.models.word2vec_inner' extension\n",
      "  error: Microsoft Visual C++ 14.0 or greater is required. Get it with \"Microsoft C++ Build Tools\": https://visualstudio.microsoft.com/visual-cpp-build-tools/\n",
      "  [end of output]\n",
      "  \n",
      "  note: This error originates from a subprocess, and is likely not a problem with pip.\n",
      "  ERROR: Failed building wheel for gensim\n",
      "ERROR: Could not build wheels for gensim, which is required to install pyproject.toml-based projects\n",
      "\n",
      "[notice] A new release of pip is available: 23.2.1 -> 24.0\n",
      "[notice] To update, run: python.exe -m pip install --upgrade pip\n"
     ]
    }
   ],
   "source": [
    "!pip install gensim"
   ]
  },
  {
   "cell_type": "code",
   "execution_count": 378,
   "id": "v95PaxZ3-M8t",
   "metadata": {
    "id": "v95PaxZ3-M8t"
   },
   "outputs": [
    {
     "ename": "ModuleNotFoundError",
     "evalue": "No module named 'gensim'",
     "output_type": "error",
     "traceback": [
      "\u001b[1;31m---------------------------------------------------------------------------\u001b[0m",
      "\u001b[1;31mModuleNotFoundError\u001b[0m                       Traceback (most recent call last)",
      "Cell \u001b[1;32mIn[378], line 2\u001b[0m\n\u001b[0;32m      1\u001b[0m \u001b[38;5;66;03m# Creating your own Word2Vec Model & Train\u001b[39;00m\n\u001b[1;32m----> 2\u001b[0m \u001b[38;5;28;01mfrom\u001b[39;00m \u001b[38;5;21;01mgensim\u001b[39;00m\u001b[38;5;21;01m.\u001b[39;00m\u001b[38;5;21;01mmodels\u001b[39;00m \u001b[38;5;28;01mimport\u001b[39;00m Word2Vec\n\u001b[0;32m      3\u001b[0m \u001b[38;5;66;03m# train model\u001b[39;00m\n\u001b[0;32m      4\u001b[0m cbow_model \u001b[38;5;241m=\u001b[39m Word2Vec(tweets_list, vector_size \u001b[38;5;241m=\u001b[39m \u001b[38;5;241m300\u001b[39m, window \u001b[38;5;241m=\u001b[39m \u001b[38;5;241m3\u001b[39m, min_count\u001b[38;5;241m=\u001b[39m\u001b[38;5;241m5\u001b[39m, sg\u001b[38;5;241m=\u001b[39m\u001b[38;5;241m0\u001b[39m)\n",
      "\u001b[1;31mModuleNotFoundError\u001b[0m: No module named 'gensim'"
     ]
    }
   ],
   "source": [
    "# Creating your own Word2Vec Model & Train\n",
    "from gensim.models import Word2Vec\n",
    "# train model\n",
    "cbow_model = Word2Vec(tweets_list, vector_size = 300, window = 3, min_count=5, sg=0)"
   ]
  },
  {
   "cell_type": "code",
   "execution_count": null,
   "id": "AOcFg40p_Om3",
   "metadata": {
    "colab": {
     "base_uri": "https://localhost:8080/"
    },
    "id": "AOcFg40p_Om3",
    "outputId": "01afa1fa-7158-42cf-911d-48f24397cb79"
   },
   "outputs": [],
   "source": [
    "# summarize the loaded model\n",
    "print(cbow_model)"
   ]
  },
  {
   "cell_type": "code",
   "execution_count": null,
   "id": "djw2WJyE_Sof",
   "metadata": {
    "colab": {
     "base_uri": "https://localhost:8080/"
    },
    "id": "djw2WJyE_Sof",
    "outputId": "d7faef22-e9df-4f5b-b29a-c134a80d4e7e"
   },
   "outputs": [],
   "source": [
    "cbow_model.wv.index_to_key[:20]  # this your vocab"
   ]
  },
  {
   "cell_type": "code",
   "execution_count": null,
   "id": "d_dmvgmW_XkH",
   "metadata": {
    "colab": {
     "base_uri": "https://localhost:8080/"
    },
    "id": "d_dmvgmW_XkH",
    "outputId": "c791ed04-7fd6-44bb-8ed3-db1069d6cf5a"
   },
   "outputs": [],
   "source": [
    "len(cbow_model.wv.index_to_key)"
   ]
  },
  {
   "cell_type": "code",
   "execution_count": null,
   "id": "DvO4_Npk_bR1",
   "metadata": {
    "id": "DvO4_Npk_bR1"
   },
   "outputs": [],
   "source": [
    "def document_vector(doc):\n",
    "    \"\"\"Create document vectors by averaging word vectors. Remove out-of-vocabulary words.\"\"\"\n",
    "\n",
    "    # doc1 contains those words of the document which are included in the vocab\n",
    "    doc1 = [word for word in doc.split() if word in cbow_model.wv.index_to_key]\n",
    "\n",
    "    wv1 = []  # this will contain the WE of all the vocab words from the doc\n",
    "    for word in doc1:\n",
    "        wv1.append(cbow_model.wv.get_vector(word))\n",
    "    wv1_ = np.array(wv1)\n",
    "    wv1_mean = wv1_.mean(axis=0)\n",
    "    return wv1_mean\n",
    "\n",
    "# np.mean(model[doc], axis=0)"
   ]
  },
  {
   "cell_type": "code",
   "execution_count": null,
   "id": "AZwC0XHV_k9V",
   "metadata": {
    "id": "AZwC0XHV_k9V"
   },
   "outputs": [],
   "source": [
    "tweets_temp = data['cleaned_tweets_w/o_SW'].apply(document_vector)"
   ]
  },
  {
   "cell_type": "code",
   "execution_count": null,
   "id": "XR7JZjke_mP_",
   "metadata": {
    "colab": {
     "base_uri": "https://localhost:8080/"
    },
    "id": "XR7JZjke_mP_",
    "outputId": "e447ea95-fd50-42a2-8acb-8a359bd22b3b"
   },
   "outputs": [],
   "source": [
    "tweets_temp[:5]  # displaying the 1st 5 tweets, as document vectors"
   ]
  },
  {
   "cell_type": "code",
   "execution_count": null,
   "id": "tKiFcVNH_uFb",
   "metadata": {
    "colab": {
     "base_uri": "https://localhost:8080/"
    },
    "id": "tKiFcVNH_uFb",
    "outputId": "92500999-e20e-44a9-c7fb-b19a74812940"
   },
   "outputs": [],
   "source": [
    "tweets_temp[0].shape  # each document vecotr is 300-dimensional !!"
   ]
  },
  {
   "cell_type": "code",
   "execution_count": null,
   "id": "1hzcnHIG_x-M",
   "metadata": {
    "colab": {
     "base_uri": "https://localhost:8080/",
     "height": 203
    },
    "id": "1hzcnHIG_x-M",
    "outputId": "302b7a42-e136-4edd-bb47-855e22d13c4e"
   },
   "outputs": [],
   "source": [
    "type(tweets_temp)"
   ]
  },
  {
   "cell_type": "code",
   "execution_count": null,
   "id": "3mMUDrLD_1Ad",
   "metadata": {
    "colab": {
     "base_uri": "https://localhost:8080/"
    },
    "id": "3mMUDrLD_1Ad",
    "outputId": "dc3cb21c-8720-4658-d1f6-dc770682fd3f"
   },
   "outputs": [],
   "source": [
    "# Combining all the document vectors into a singl numpy array (tweets_vec)\n",
    "embedding_size = 300\n",
    "tweets_vec = np.ones((len(tweets_temp), embedding_size))*np.nan\n",
    "for i in range(tweets_vec.shape[0]):\n",
    "    tweets_vec[i,:] = tweets_temp.iloc[i]\n",
    "\n",
    "tweets_vec.shape # this itself is your final FEATURE MATRIX"
   ]
  },
  {
   "cell_type": "code",
   "execution_count": null,
   "id": "276BDr9z_8AG",
   "metadata": {
    "id": "276BDr9z_8AG"
   },
   "outputs": [],
   "source": [
    "# Create a new DF to store these new documnent features\n",
    "df = pd.DataFrame(tweets_vec)\n",
    "df['y'] = data['label']\n",
    "df.dropna(how='any', axis=0, inplace=True)"
   ]
  },
  {
   "cell_type": "code",
   "execution_count": null,
   "id": "eSj6xTAUAByp",
   "metadata": {
    "colab": {
     "base_uri": "https://localhost:8080/",
     "height": 255
    },
    "id": "eSj6xTAUAByp",
    "outputId": "691a4a23-8749-4500-cc1f-3083838933ce"
   },
   "outputs": [],
   "source": [
    "df.head()"
   ]
  },
  {
   "cell_type": "code",
   "execution_count": null,
   "id": "fzPRJPk_AG37",
   "metadata": {
    "colab": {
     "base_uri": "https://localhost:8080/"
    },
    "id": "fzPRJPk_AG37",
    "outputId": "287ff36b-6bd7-4f77-d632-b14ecc2e158e"
   },
   "outputs": [],
   "source": [
    "df.shape"
   ]
  },
  {
   "cell_type": "code",
   "execution_count": null,
   "id": "v4DhlAUlAMLT",
   "metadata": {
    "colab": {
     "base_uri": "https://localhost:8080/"
    },
    "id": "v4DhlAUlAMLT",
    "outputId": "8f3f1a72-cbd8-432a-d8f9-9bac4c65bb64"
   },
   "outputs": [],
   "source": [
    "X_word_emb = df.drop('y', axis=1)\n",
    "y = df['y']\n",
    "X_word_emb.shape"
   ]
  },
  {
   "cell_type": "code",
   "execution_count": null,
   "id": "8kAr1pZdAQem",
   "metadata": {
    "id": "8kAr1pZdAQem"
   },
   "outputs": [],
   "source": [
    "from sklearn.pipeline import make_pipeline, Pipeline\n",
    "from sklearn.linear_model import LogisticRegression\n",
    "from sklearn.model_selection import cross_val_score, cross_validate\n",
    "from sklearn.model_selection import StratifiedKFold\n",
    "from sklearn.preprocessing import StandardScaler\n",
    "from sklearn.feature_extraction.text import CountVectorizer"
   ]
  },
  {
   "cell_type": "code",
   "execution_count": null,
   "id": "LUpZbJjGAXe-",
   "metadata": {
    "colab": {
     "base_uri": "https://localhost:8080/"
    },
    "id": "LUpZbJjGAXe-",
    "outputId": "e1238457-305b-4b00-c1b9-17e74597b316"
   },
   "outputs": [],
   "source": [
    "kfold = StratifiedKFold(n_splits=5, shuffle=True, random_state=42)\n",
    "LR1 = LogisticRegression(class_weight='balanced', solver='liblinear', penalty='l1', C=0.4, random_state=42)\n",
    "WE_pipe = Pipeline([('SC', StandardScaler()), ('LR', LR1)] )\n",
    "\n",
    "results = cross_validate(WE_pipe, X_word_emb, y, cv=kfold, scoring='accuracy', return_train_score=True)\n",
    "\n",
    "# print(results['train_score'])\n",
    "print(np.round((results['train_score'].mean())*100, 2), np.round((results['train_score'].std())*100, 2))\n",
    "\n",
    "# print(results['test_score'])\n",
    "print(np.round((results['test_score'].mean())*100, 2), np.round((results['test_score'].std())*100, 2))"
   ]
  },
  {
   "cell_type": "code",
   "execution_count": null,
   "id": "H24R0bujAYwg",
   "metadata": {
    "colab": {
     "base_uri": "https://localhost:8080/"
    },
    "id": "H24R0bujAYwg",
    "outputId": "06f3a34a-0116-4303-db99-24d320f9857e"
   },
   "outputs": [],
   "source": [
    "X = data['cleaned_tweets_w/o_SW']\n",
    "y = data['label']\n",
    "\n",
    "# we want to include only those words in the vocab which have min df of 5,\n",
    "# means select only those words which occur ATLEAST in 5 documents!!\n",
    "# AND SELECT the TOP 300 FEATURES ONLY to build the model\n",
    "CV = CountVectorizer(min_df=5, max_features=300)\n",
    "\n",
    "LR1 = LogisticRegression(class_weight='balanced', solver='liblinear', penalty='l1', C=0.4)\n",
    "CV_pipe = Pipeline([('CV', CV) , ('LR', LR1)] )\n",
    "results = cross_validate(CV_pipe, X, y, cv=kfold, scoring='accuracy', return_train_score=True)\n",
    "\n",
    "# print(results['train_score'])\n",
    "print(np.round((results['train_score'].mean())*100, 2), np.round((results['train_score'].std())*100, 2))"
   ]
  },
  {
   "cell_type": "code",
   "execution_count": null,
   "id": "CzjgSsphqKUX",
   "metadata": {
    "colab": {
     "base_uri": "https://localhost:8080/",
     "height": 124
    },
    "id": "CzjgSsphqKUX",
    "outputId": "be016d62-2a5b-4738-e7a2-a6b955e628d6"
   },
   "outputs": [],
   "source": [
    "CV_pipe.fit(X,y)"
   ]
  },
  {
   "cell_type": "code",
   "execution_count": null,
   "id": "97yvw0pTAdeF",
   "metadata": {
    "id": "97yvw0pTAdeF"
   },
   "outputs": [],
   "source": [
    "import pickle\n",
    "\n",
    "pickle.dump(CV_pipe, open('twitter_sentiment.pkl', 'wb'))"
   ]
  },
  {
   "cell_type": "code",
   "execution_count": null,
   "id": "0XuG7fGzkXLZ",
   "metadata": {
    "colab": {
     "base_uri": "https://localhost:8080/"
    },
    "id": "0XuG7fGzkXLZ",
    "outputId": "8a639b80-e6d6-4327-e86c-2ccaa42e3d2e"
   },
   "outputs": [],
   "source": [
    "test_tweeet=[\"i  will be not doing the work\"]\n",
    "CV_pipe.predict(test_tweeet)"
   ]
  }
 ],
 "metadata": {
  "colab": {
   "provenance": []
  },
  "kernelspec": {
   "display_name": "Python 3 (ipykernel)",
   "language": "python",
   "name": "python3"
  },
  "language_info": {
   "codemirror_mode": {
    "name": "ipython",
    "version": 3
   },
   "file_extension": ".py",
   "mimetype": "text/x-python",
   "name": "python",
   "nbconvert_exporter": "python",
   "pygments_lexer": "ipython3",
   "version": "3.12.1"
  }
 },
 "nbformat": 4,
 "nbformat_minor": 5
}
